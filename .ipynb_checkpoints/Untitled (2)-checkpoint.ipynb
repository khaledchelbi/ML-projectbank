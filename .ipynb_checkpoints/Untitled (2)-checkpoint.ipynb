{
 "cells": [
  {
   "cell_type": "markdown",
   "id": "9af03d05-3896-4f00-b551-5799f3c32dc7",
   "metadata": {},
   "source": [
    "## Projet 6"
   ]
  },
  {
   "cell_type": "markdown",
   "id": "170cb74b-98fd-4d9e-88c9-04c7d6bd320d",
   "metadata": {},
   "source": [
    "#### Import Libaries"
   ]
  },
  {
   "cell_type": "code",
   "execution_count": 1,
   "id": "e48a549e",
   "metadata": {},
   "outputs": [],
   "source": [
    "#Chargement des bibliothèques\n",
    "import pandas as pd\n",
    "import numpy as np\n",
    "import matplotlib.pyplot as plt\n",
    "import seaborn as sns\n",
    "from sklearn.impute import SimpleImputer\n",
    "from sklearn.preprocessing import PolynomialFeatures\n",
    "from sklearn.preprocessing import StandardScaler\n",
    "from sklearn.feature_selection import VarianceThreshold\n",
    "from sklearn.feature_selection import SelectFromModel\n",
    "from sklearn.utils import shuffle\n",
    "from sklearn.ensemble import RandomForestClassifier\n",
    "pd.set_option('display.max_columns', 100)\n",
    "\n",
    "import warnings\n",
    "warnings.filterwarnings('ignore')  # Ignore all warnings (not recommended)"
   ]
  },
  {
   "cell_type": "markdown",
   "id": "4a828291-c1a9-47aa-8d11-6f1b0ddd5981",
   "metadata": {},
   "source": [
    "#### Import Data"
   ]
  },
  {
   "cell_type": "code",
   "execution_count": 2,
   "id": "d1e0d8ab",
   "metadata": {
    "scrolled": true
   },
   "outputs": [],
   "source": [
    "import csv\n",
    "bank = open('bank_df3.csv')\n",
    "bank = pd.read_csv('bank_df3.csv',delimiter=';')\n",
    "\n",
    "bank [['age','job','marital','education','default','balance','housing','loan','contact','day','month','duration','campaign','pdays','previous','poutcome','target']] = bank['age;\"job\";\"marital\";\"education\";\"default\";\"balance\";\"housing\";\"loan\";\"contact\";\"day\";\"month\";\"duration\";\"campaign\";\"pdays\";\"previous\";\"poutcome\";\"y\"'].str.split(';', expand = True)\n",
    "bank = bank.drop(columns=['age;\"job\";\"marital\";\"education\";\"default\";\"balance\";\"housing\";\"loan\";\"contact\";\"day\";\"month\";\"duration\";\"campaign\";\"pdays\";\"previous\";\"poutcome\";\"y\"'])\n",
    "updated_file_path = 'updatd_bank.csv'\n",
    "bank.to_csv(updated_file_path, index = False)"
   ]
  },
  {
   "cell_type": "markdown",
   "id": "16ec08de-ea26-42d9-8178-b0db767db881",
   "metadata": {},
   "source": [
    "#### Returns the first 5 rows of the DataFrame Bank"
   ]
  },
  {
   "cell_type": "code",
   "execution_count": 3,
   "id": "8140e084",
   "metadata": {},
   "outputs": [
    {
     "data": {
      "text/html": [
       "<div>\n",
       "<style scoped>\n",
       "    .dataframe tbody tr th:only-of-type {\n",
       "        vertical-align: middle;\n",
       "    }\n",
       "\n",
       "    .dataframe tbody tr th {\n",
       "        vertical-align: top;\n",
       "    }\n",
       "\n",
       "    .dataframe thead th {\n",
       "        text-align: right;\n",
       "    }\n",
       "</style>\n",
       "<table border=\"1\" class=\"dataframe\">\n",
       "  <thead>\n",
       "    <tr style=\"text-align: right;\">\n",
       "      <th></th>\n",
       "      <th>age</th>\n",
       "      <th>job</th>\n",
       "      <th>marital</th>\n",
       "      <th>education</th>\n",
       "      <th>default</th>\n",
       "      <th>balance</th>\n",
       "      <th>housing</th>\n",
       "      <th>loan</th>\n",
       "      <th>contact</th>\n",
       "      <th>day</th>\n",
       "      <th>month</th>\n",
       "      <th>duration</th>\n",
       "      <th>campaign</th>\n",
       "      <th>pdays</th>\n",
       "      <th>previous</th>\n",
       "      <th>poutcome</th>\n",
       "      <th>target</th>\n",
       "    </tr>\n",
       "  </thead>\n",
       "  <tbody>\n",
       "    <tr>\n",
       "      <th>0</th>\n",
       "      <td>58</td>\n",
       "      <td>\"management\"</td>\n",
       "      <td>\"married\"</td>\n",
       "      <td>\"tertiary\"</td>\n",
       "      <td>\"no\"</td>\n",
       "      <td>2143</td>\n",
       "      <td>\"yes\"</td>\n",
       "      <td>\"no\"</td>\n",
       "      <td>\"unknown\"</td>\n",
       "      <td>5</td>\n",
       "      <td>\"may\"</td>\n",
       "      <td>261</td>\n",
       "      <td>1</td>\n",
       "      <td>-1</td>\n",
       "      <td>0</td>\n",
       "      <td>\"unknown\"</td>\n",
       "      <td>\"no\"</td>\n",
       "    </tr>\n",
       "    <tr>\n",
       "      <th>1</th>\n",
       "      <td>44</td>\n",
       "      <td>\"technician\"</td>\n",
       "      <td>\"single\"</td>\n",
       "      <td>\"secondary\"</td>\n",
       "      <td>\"no\"</td>\n",
       "      <td>29</td>\n",
       "      <td>\"yes\"</td>\n",
       "      <td>\"no\"</td>\n",
       "      <td>\"unknown\"</td>\n",
       "      <td>5</td>\n",
       "      <td>\"may\"</td>\n",
       "      <td>151</td>\n",
       "      <td>1</td>\n",
       "      <td>-1</td>\n",
       "      <td>0</td>\n",
       "      <td>\"unknown\"</td>\n",
       "      <td>\"no\"</td>\n",
       "    </tr>\n",
       "    <tr>\n",
       "      <th>2</th>\n",
       "      <td>33</td>\n",
       "      <td>\"entrepreneur\"</td>\n",
       "      <td>\"married\"</td>\n",
       "      <td>\"secondary\"</td>\n",
       "      <td>\"no\"</td>\n",
       "      <td>2</td>\n",
       "      <td>\"yes\"</td>\n",
       "      <td>\"yes\"</td>\n",
       "      <td>\"unknown\"</td>\n",
       "      <td>5</td>\n",
       "      <td>\"may\"</td>\n",
       "      <td>76</td>\n",
       "      <td>1</td>\n",
       "      <td>-1</td>\n",
       "      <td>0</td>\n",
       "      <td>\"unknown\"</td>\n",
       "      <td>\"no\"</td>\n",
       "    </tr>\n",
       "    <tr>\n",
       "      <th>3</th>\n",
       "      <td>NaN</td>\n",
       "      <td>NaN</td>\n",
       "      <td>NaN</td>\n",
       "      <td>NaN</td>\n",
       "      <td>NaN</td>\n",
       "      <td>NaN</td>\n",
       "      <td>NaN</td>\n",
       "      <td>NaN</td>\n",
       "      <td>NaN</td>\n",
       "      <td>NaN</td>\n",
       "      <td>NaN</td>\n",
       "      <td>NaN</td>\n",
       "      <td>NaN</td>\n",
       "      <td>NaN</td>\n",
       "      <td>NaN</td>\n",
       "      <td>NaN</td>\n",
       "      <td>NaN</td>\n",
       "    </tr>\n",
       "    <tr>\n",
       "      <th>4</th>\n",
       "      <td>33</td>\n",
       "      <td>\"unknown\"</td>\n",
       "      <td>\"single\"</td>\n",
       "      <td>\"unknown\"</td>\n",
       "      <td>\"no\"</td>\n",
       "      <td>1</td>\n",
       "      <td>\"no\"</td>\n",
       "      <td>\"no\"</td>\n",
       "      <td>\"unknown\"</td>\n",
       "      <td>5</td>\n",
       "      <td>\"may\"</td>\n",
       "      <td>198</td>\n",
       "      <td>1</td>\n",
       "      <td>-1</td>\n",
       "      <td>0</td>\n",
       "      <td>\"unknown\"</td>\n",
       "      <td>\"no\"</td>\n",
       "    </tr>\n",
       "  </tbody>\n",
       "</table>\n",
       "</div>"
      ],
      "text/plain": [
       "   age             job    marital    education default balance housing   loan  \\\n",
       "0   58    \"management\"  \"married\"   \"tertiary\"    \"no\"    2143   \"yes\"   \"no\"   \n",
       "1   44    \"technician\"   \"single\"  \"secondary\"    \"no\"      29   \"yes\"   \"no\"   \n",
       "2   33  \"entrepreneur\"  \"married\"  \"secondary\"    \"no\"       2   \"yes\"  \"yes\"   \n",
       "3  NaN             NaN        NaN          NaN     NaN     NaN     NaN    NaN   \n",
       "4   33       \"unknown\"   \"single\"    \"unknown\"    \"no\"       1    \"no\"   \"no\"   \n",
       "\n",
       "     contact  day  month duration campaign pdays previous   poutcome target  \n",
       "0  \"unknown\"    5  \"may\"      261        1    -1        0  \"unknown\"   \"no\"  \n",
       "1  \"unknown\"    5  \"may\"      151        1    -1        0  \"unknown\"   \"no\"  \n",
       "2  \"unknown\"    5  \"may\"       76        1    -1        0  \"unknown\"   \"no\"  \n",
       "3        NaN  NaN    NaN      NaN      NaN   NaN      NaN        NaN    NaN  \n",
       "4  \"unknown\"    5  \"may\"      198        1    -1        0  \"unknown\"   \"no\"  "
      ]
     },
     "execution_count": 3,
     "metadata": {},
     "output_type": "execute_result"
    }
   ],
   "source": [
    "bank.head(5)"
   ]
  },
  {
   "cell_type": "markdown",
   "id": "2d008453-1537-449c-a580-b150ed5be7d0",
   "metadata": {},
   "source": [
    "#### Returns the last 5 rows of the DataFrame Bank"
   ]
  },
  {
   "cell_type": "code",
   "execution_count": 4,
   "id": "6bbd1a34",
   "metadata": {},
   "outputs": [
    {
     "data": {
      "text/html": [
       "<div>\n",
       "<style scoped>\n",
       "    .dataframe tbody tr th:only-of-type {\n",
       "        vertical-align: middle;\n",
       "    }\n",
       "\n",
       "    .dataframe tbody tr th {\n",
       "        vertical-align: top;\n",
       "    }\n",
       "\n",
       "    .dataframe thead th {\n",
       "        text-align: right;\n",
       "    }\n",
       "</style>\n",
       "<table border=\"1\" class=\"dataframe\">\n",
       "  <thead>\n",
       "    <tr style=\"text-align: right;\">\n",
       "      <th></th>\n",
       "      <th>age</th>\n",
       "      <th>job</th>\n",
       "      <th>marital</th>\n",
       "      <th>education</th>\n",
       "      <th>default</th>\n",
       "      <th>balance</th>\n",
       "      <th>housing</th>\n",
       "      <th>loan</th>\n",
       "      <th>contact</th>\n",
       "      <th>day</th>\n",
       "      <th>month</th>\n",
       "      <th>duration</th>\n",
       "      <th>campaign</th>\n",
       "      <th>pdays</th>\n",
       "      <th>previous</th>\n",
       "      <th>poutcome</th>\n",
       "      <th>target</th>\n",
       "    </tr>\n",
       "  </thead>\n",
       "  <tbody>\n",
       "    <tr>\n",
       "      <th>80074</th>\n",
       "      <td>51</td>\n",
       "      <td>\"technician\"</td>\n",
       "      <td>\"married\"</td>\n",
       "      <td>\"tertiary\"</td>\n",
       "      <td>\"no\"</td>\n",
       "      <td>825</td>\n",
       "      <td>\"no\"</td>\n",
       "      <td>\"no\"</td>\n",
       "      <td>\"cellular\"</td>\n",
       "      <td>17</td>\n",
       "      <td>\"nov\"</td>\n",
       "      <td>977</td>\n",
       "      <td>3</td>\n",
       "      <td>-1</td>\n",
       "      <td>0</td>\n",
       "      <td>\"unknown\"</td>\n",
       "      <td>\"yes\"</td>\n",
       "    </tr>\n",
       "    <tr>\n",
       "      <th>80075</th>\n",
       "      <td>71</td>\n",
       "      <td>\"retired\"</td>\n",
       "      <td>\"divorced\"</td>\n",
       "      <td>\"primary\"</td>\n",
       "      <td>\"no\"</td>\n",
       "      <td>1729</td>\n",
       "      <td>\"no\"</td>\n",
       "      <td>\"no\"</td>\n",
       "      <td>\"cellular\"</td>\n",
       "      <td>17</td>\n",
       "      <td>\"nov\"</td>\n",
       "      <td>456</td>\n",
       "      <td>2</td>\n",
       "      <td>-1</td>\n",
       "      <td>0</td>\n",
       "      <td>\"unknown\"</td>\n",
       "      <td>\"yes\"</td>\n",
       "    </tr>\n",
       "    <tr>\n",
       "      <th>80076</th>\n",
       "      <td>72</td>\n",
       "      <td>\"retired\"</td>\n",
       "      <td>\"married\"</td>\n",
       "      <td>\"secondary\"</td>\n",
       "      <td>\"no\"</td>\n",
       "      <td>5715</td>\n",
       "      <td>\"no\"</td>\n",
       "      <td>\"no\"</td>\n",
       "      <td>\"cellular\"</td>\n",
       "      <td>17</td>\n",
       "      <td>\"nov\"</td>\n",
       "      <td>1127</td>\n",
       "      <td>5</td>\n",
       "      <td>184</td>\n",
       "      <td>3</td>\n",
       "      <td>\"success\"</td>\n",
       "      <td>\"yes\"</td>\n",
       "    </tr>\n",
       "    <tr>\n",
       "      <th>80077</th>\n",
       "      <td>57</td>\n",
       "      <td>\"blue-collar\"</td>\n",
       "      <td>\"married\"</td>\n",
       "      <td>\"secondary\"</td>\n",
       "      <td>\"no\"</td>\n",
       "      <td>668</td>\n",
       "      <td>\"no\"</td>\n",
       "      <td>\"no\"</td>\n",
       "      <td>\"telephone\"</td>\n",
       "      <td>17</td>\n",
       "      <td>\"nov\"</td>\n",
       "      <td>508</td>\n",
       "      <td>4</td>\n",
       "      <td>-1</td>\n",
       "      <td>0</td>\n",
       "      <td>\"unknown\"</td>\n",
       "      <td>\"no\"</td>\n",
       "    </tr>\n",
       "    <tr>\n",
       "      <th>80078</th>\n",
       "      <td>37</td>\n",
       "      <td>\"entrepreneur\"</td>\n",
       "      <td>\"married\"</td>\n",
       "      <td>\"secondary\"</td>\n",
       "      <td>\"no\"</td>\n",
       "      <td>2971</td>\n",
       "      <td>\"no\"</td>\n",
       "      <td>\"no\"</td>\n",
       "      <td>\"cellular\"</td>\n",
       "      <td>17</td>\n",
       "      <td>\"nov\"</td>\n",
       "      <td>361</td>\n",
       "      <td>2</td>\n",
       "      <td>188</td>\n",
       "      <td>11</td>\n",
       "      <td>\"other\"</td>\n",
       "      <td>\"no\"</td>\n",
       "    </tr>\n",
       "  </tbody>\n",
       "</table>\n",
       "</div>"
      ],
      "text/plain": [
       "      age             job     marital    education default balance housing  \\\n",
       "80074  51    \"technician\"   \"married\"   \"tertiary\"    \"no\"     825    \"no\"   \n",
       "80075  71       \"retired\"  \"divorced\"    \"primary\"    \"no\"    1729    \"no\"   \n",
       "80076  72       \"retired\"   \"married\"  \"secondary\"    \"no\"    5715    \"no\"   \n",
       "80077  57   \"blue-collar\"   \"married\"  \"secondary\"    \"no\"     668    \"no\"   \n",
       "80078  37  \"entrepreneur\"   \"married\"  \"secondary\"    \"no\"    2971    \"no\"   \n",
       "\n",
       "       loan      contact day  month duration campaign pdays previous  \\\n",
       "80074  \"no\"   \"cellular\"  17  \"nov\"      977        3    -1        0   \n",
       "80075  \"no\"   \"cellular\"  17  \"nov\"      456        2    -1        0   \n",
       "80076  \"no\"   \"cellular\"  17  \"nov\"     1127        5   184        3   \n",
       "80077  \"no\"  \"telephone\"  17  \"nov\"      508        4    -1        0   \n",
       "80078  \"no\"   \"cellular\"  17  \"nov\"      361        2   188       11   \n",
       "\n",
       "        poutcome target  \n",
       "80074  \"unknown\"  \"yes\"  \n",
       "80075  \"unknown\"  \"yes\"  \n",
       "80076  \"success\"  \"yes\"  \n",
       "80077  \"unknown\"   \"no\"  \n",
       "80078    \"other\"   \"no\"  "
      ]
     },
     "execution_count": 4,
     "metadata": {},
     "output_type": "execute_result"
    }
   ],
   "source": [
    "bank.tail()"
   ]
  },
  {
   "cell_type": "markdown",
   "id": "b2af98b3-a046-41c1-840e-c0f438b9a87b",
   "metadata": {},
   "source": [
    "#### Provides a concise summary of the DataFrame"
   ]
  },
  {
   "cell_type": "code",
   "execution_count": 5,
   "id": "bc353cfd-f752-401e-9999-4a875fd5e958",
   "metadata": {},
   "outputs": [
    {
     "name": "stdout",
     "output_type": "stream",
     "text": [
      "<class 'pandas.core.frame.DataFrame'>\n",
      "RangeIndex: 80079 entries, 0 to 80078\n",
      "Data columns (total 17 columns):\n",
      " #   Column     Non-Null Count  Dtype \n",
      "---  ------     --------------  ----- \n",
      " 0   age        64063 non-null  object\n",
      " 1   job        64063 non-null  object\n",
      " 2   marital    64063 non-null  object\n",
      " 3   education  64063 non-null  object\n",
      " 4   default    64063 non-null  object\n",
      " 5   balance    64063 non-null  object\n",
      " 6   housing    64063 non-null  object\n",
      " 7   loan       64063 non-null  object\n",
      " 8   contact    64063 non-null  object\n",
      " 9   day        64063 non-null  object\n",
      " 10  month      64063 non-null  object\n",
      " 11  duration   64063 non-null  object\n",
      " 12  campaign   64063 non-null  object\n",
      " 13  pdays      64063 non-null  object\n",
      " 14  previous   64062 non-null  object\n",
      " 15  poutcome   64061 non-null  object\n",
      " 16  target     64061 non-null  object\n",
      "dtypes: object(17)\n",
      "memory usage: 10.4+ MB\n"
     ]
    }
   ],
   "source": [
    "bank.info()"
   ]
  },
  {
   "cell_type": "markdown",
   "id": "be1fae7c-d78a-474c-bc1e-9658c3853d2f",
   "metadata": {},
   "source": [
    "#### Generates descriptive statistics that summarize the central tendency, dispersion, and shape of the DataFrame's distribution."
   ]
  },
  {
   "cell_type": "code",
   "execution_count": 6,
   "id": "1b177491-0ccd-43fc-8093-99f7a5f6dc5d",
   "metadata": {},
   "outputs": [
    {
     "data": {
      "text/html": [
       "<div>\n",
       "<style scoped>\n",
       "    .dataframe tbody tr th:only-of-type {\n",
       "        vertical-align: middle;\n",
       "    }\n",
       "\n",
       "    .dataframe tbody tr th {\n",
       "        vertical-align: top;\n",
       "    }\n",
       "\n",
       "    .dataframe thead th {\n",
       "        text-align: right;\n",
       "    }\n",
       "</style>\n",
       "<table border=\"1\" class=\"dataframe\">\n",
       "  <thead>\n",
       "    <tr style=\"text-align: right;\">\n",
       "      <th></th>\n",
       "      <th>age</th>\n",
       "      <th>job</th>\n",
       "      <th>marital</th>\n",
       "      <th>education</th>\n",
       "      <th>default</th>\n",
       "      <th>balance</th>\n",
       "      <th>housing</th>\n",
       "      <th>loan</th>\n",
       "      <th>contact</th>\n",
       "      <th>day</th>\n",
       "      <th>month</th>\n",
       "      <th>duration</th>\n",
       "      <th>campaign</th>\n",
       "      <th>pdays</th>\n",
       "      <th>previous</th>\n",
       "      <th>poutcome</th>\n",
       "      <th>target</th>\n",
       "    </tr>\n",
       "  </thead>\n",
       "  <tbody>\n",
       "    <tr>\n",
       "      <th>count</th>\n",
       "      <td>64063</td>\n",
       "      <td>64063</td>\n",
       "      <td>64063</td>\n",
       "      <td>64063</td>\n",
       "      <td>64063</td>\n",
       "      <td>64063</td>\n",
       "      <td>64063</td>\n",
       "      <td>64063</td>\n",
       "      <td>64063</td>\n",
       "      <td>64063</td>\n",
       "      <td>64063</td>\n",
       "      <td>64063</td>\n",
       "      <td>64063</td>\n",
       "      <td>64063</td>\n",
       "      <td>64062</td>\n",
       "      <td>64061</td>\n",
       "      <td>64061</td>\n",
       "    </tr>\n",
       "    <tr>\n",
       "      <th>unique</th>\n",
       "      <td>78</td>\n",
       "      <td>13</td>\n",
       "      <td>4</td>\n",
       "      <td>6</td>\n",
       "      <td>2</td>\n",
       "      <td>6980</td>\n",
       "      <td>4</td>\n",
       "      <td>4</td>\n",
       "      <td>5</td>\n",
       "      <td>32</td>\n",
       "      <td>14</td>\n",
       "      <td>1544</td>\n",
       "      <td>49</td>\n",
       "      <td>554</td>\n",
       "      <td>40</td>\n",
       "      <td>4</td>\n",
       "      <td>2</td>\n",
       "    </tr>\n",
       "    <tr>\n",
       "      <th>top</th>\n",
       "      <td>32</td>\n",
       "      <td>\"management\"</td>\n",
       "      <td>\"married\"</td>\n",
       "      <td>\"secondary\"</td>\n",
       "      <td>\"no\"</td>\n",
       "      <td>0</td>\n",
       "      <td>\"yes\"</td>\n",
       "      <td>\"no\"</td>\n",
       "      <td>\"cellular\"</td>\n",
       "      <td>20</td>\n",
       "      <td>\"may\"</td>\n",
       "      <td>90</td>\n",
       "      <td>1</td>\n",
       "      <td>-1</td>\n",
       "      <td>0</td>\n",
       "      <td>\"unknown\"</td>\n",
       "      <td>\"no\"</td>\n",
       "    </tr>\n",
       "    <tr>\n",
       "      <th>freq</th>\n",
       "      <td>2972</td>\n",
       "      <td>13872</td>\n",
       "      <td>38547</td>\n",
       "      <td>32491</td>\n",
       "      <td>62927</td>\n",
       "      <td>5110</td>\n",
       "      <td>33575</td>\n",
       "      <td>53652</td>\n",
       "      <td>46791</td>\n",
       "      <td>4119</td>\n",
       "      <td>15759</td>\n",
       "      <td>276</td>\n",
       "      <td>24747</td>\n",
       "      <td>50875</td>\n",
       "      <td>50875</td>\n",
       "      <td>50882</td>\n",
       "      <td>55912</td>\n",
       "    </tr>\n",
       "  </tbody>\n",
       "</table>\n",
       "</div>"
      ],
      "text/plain": [
       "          age           job    marital    education default balance housing  \\\n",
       "count   64063         64063      64063        64063   64063   64063   64063   \n",
       "unique     78            13          4            6       2    6980       4   \n",
       "top        32  \"management\"  \"married\"  \"secondary\"    \"no\"       0   \"yes\"   \n",
       "freq     2972         13872      38547        32491   62927    5110   33575   \n",
       "\n",
       "         loan     contact    day  month duration campaign  pdays previous  \\\n",
       "count   64063       64063  64063  64063    64063    64063  64063    64062   \n",
       "unique      4           5     32     14     1544       49    554       40   \n",
       "top      \"no\"  \"cellular\"     20  \"may\"       90        1     -1        0   \n",
       "freq    53652       46791   4119  15759      276    24747  50875    50875   \n",
       "\n",
       "         poutcome target  \n",
       "count       64061  64061  \n",
       "unique          4      2  \n",
       "top     \"unknown\"   \"no\"  \n",
       "freq        50882  55912  "
      ]
     },
     "execution_count": 6,
     "metadata": {},
     "output_type": "execute_result"
    }
   ],
   "source": [
    "bank.describe()"
   ]
  },
  {
   "cell_type": "markdown",
   "id": "66f5b201-f2bc-4b00-a69a-d869d2328f76",
   "metadata": {},
   "source": [
    "#### Returns a tuple representing the dimensions of the DataFrame (number of rows, number of columns)."
   ]
  },
  {
   "cell_type": "code",
   "execution_count": 7,
   "id": "9bd77ba6-ec7a-420a-ac98-533f2dc61830",
   "metadata": {},
   "outputs": [
    {
     "data": {
      "text/plain": [
       "(80079, 17)"
      ]
     },
     "execution_count": 7,
     "metadata": {},
     "output_type": "execute_result"
    }
   ],
   "source": [
    "bank.shape"
   ]
  },
  {
   "cell_type": "markdown",
   "id": "539bebd5-e395-4345-9a44-bc534ab5807b",
   "metadata": {},
   "source": [
    "#### Returns the column labels of the DataFrame."
   ]
  },
  {
   "cell_type": "code",
   "execution_count": 8,
   "id": "02eb46d8",
   "metadata": {},
   "outputs": [
    {
     "data": {
      "text/plain": [
       "Index(['age', 'job', 'marital', 'education', 'default', 'balance', 'housing',\n",
       "       'loan', 'contact', 'day', 'month', 'duration', 'campaign', 'pdays',\n",
       "       'previous', 'poutcome', 'target'],\n",
       "      dtype='object')"
      ]
     },
     "execution_count": 8,
     "metadata": {},
     "output_type": "execute_result"
    }
   ],
   "source": [
    "bank.columns"
   ]
  },
  {
   "cell_type": "markdown",
   "id": "7bf31d90-4c8f-44e9-8437-5a5017a24419",
   "metadata": {},
   "source": [
    "## II- Data Preparation"
   ]
  },
  {
   "cell_type": "markdown",
   "id": "d78c2840-d10e-4255-89db-e16b41686aaf",
   "metadata": {},
   "source": [
    "#### 1- Change Columns Types"
   ]
  },
  {
   "cell_type": "code",
   "execution_count": 9,
   "id": "322ce682-8109-4f28-b8c7-c6a891dc0f46",
   "metadata": {},
   "outputs": [
    {
     "name": "stdout",
     "output_type": "stream",
     "text": [
      "age          object\n",
      "job          object\n",
      "marital      object\n",
      "education    object\n",
      "default      object\n",
      "balance      object\n",
      "housing      object\n",
      "loan         object\n",
      "contact      object\n",
      "day          object\n",
      "month        object\n",
      "duration     object\n",
      "campaign     object\n",
      "pdays        object\n",
      "previous     object\n",
      "poutcome     object\n",
      "target       object\n",
      "dtype: object\n"
     ]
    }
   ],
   "source": [
    "print(bank.dtypes)"
   ]
  },
  {
   "cell_type": "code",
   "execution_count": 10,
   "id": "cfef4d85-95e0-430c-9c07-9fb2e80b7f64",
   "metadata": {},
   "outputs": [
    {
     "name": "stdout",
     "output_type": "stream",
     "text": [
      "age           float64\n",
      "job          category\n",
      "marital      category\n",
      "education    category\n",
      "default      category\n",
      "balance       float64\n",
      "housing      category\n",
      "loan         category\n",
      "contact      category\n",
      "day            object\n",
      "month        category\n",
      "duration      float64\n",
      "campaign      float64\n",
      "pdays         float64\n",
      "previous      float64\n",
      "poutcome     category\n",
      "target       category\n",
      "dtype: object\n"
     ]
    }
   ],
   "source": [
    "import pandas as pd\n",
    "\n",
    "# Convert numeric columns to numeric data types\n",
    "numeric_cols = [\"age\", \"balance\", \"duration\", \"campaign\", \"pdays\", \"previous\"]\n",
    "bank[numeric_cols] = bank[numeric_cols].apply(pd.to_numeric, errors='coerce')\n",
    "\n",
    "# Convert categorical columns to categorical data types\n",
    "categorical_cols = [\"job\", \"marital\", \"education\", \"default\", \"housing\", \"loan\", \"contact\", \"month\", \"poutcome\", \"target\"]\n",
    "bank[categorical_cols] = bank[categorical_cols].astype('category')\n",
    "\n",
    "# Verify the updated data types\n",
    "print(bank.dtypes)"
   ]
  },
  {
   "cell_type": "markdown",
   "id": "910def5b-c2ac-406e-9556-ebaee2712d21",
   "metadata": {},
   "source": [
    "#### 2- Missing values"
   ]
  },
  {
   "cell_type": "code",
   "execution_count": 11,
   "id": "8e3e7b42-10a9-42ae-80fe-c6b0eb0ef563",
   "metadata": {},
   "outputs": [
    {
     "name": "stdout",
     "output_type": "stream",
     "text": [
      "age          16017\n",
      "job          16016\n",
      "marital      16016\n",
      "education    16016\n",
      "default      16016\n",
      "balance      16018\n",
      "housing      16016\n",
      "loan         16016\n",
      "contact      16016\n",
      "day          16016\n",
      "month        16016\n",
      "duration     16016\n",
      "campaign     16017\n",
      "pdays        16018\n",
      "previous     16018\n",
      "poutcome     16018\n",
      "target       16018\n",
      "dtype: int64\n"
     ]
    }
   ],
   "source": [
    "# Check for missing values\n",
    "missing_values = bank.isnull().sum()\n",
    "print(missing_values)"
   ]
  },
  {
   "cell_type": "code",
   "execution_count": 12,
   "id": "55abc0e1-5946-4a73-aa7f-1df378e782e3",
   "metadata": {},
   "outputs": [
    {
     "name": "stdout",
     "output_type": "stream",
     "text": [
      "age          20.001499\n",
      "job          20.000250\n",
      "marital      20.000250\n",
      "education    20.000250\n",
      "default      20.000250\n",
      "balance      20.002747\n",
      "housing      20.000250\n",
      "loan         20.000250\n",
      "contact      20.000250\n",
      "day          20.000250\n",
      "month        20.000250\n",
      "duration     20.000250\n",
      "campaign     20.001499\n",
      "pdays        20.002747\n",
      "previous     20.002747\n",
      "poutcome     20.002747\n",
      "target       20.002747\n",
      "dtype: float64\n"
     ]
    }
   ],
   "source": [
    "# Calculate the percentage of missing values for each column\n",
    "missing_percentage = (bank.isnull().sum() / len(bank)) * 100\n",
    "\n",
    "# Display the percentage of missing values\n",
    "print(missing_percentage)"
   ]
  },
  {
   "cell_type": "markdown",
   "id": "b95f673e-5220-4241-bcb3-8fb92ff3208e",
   "metadata": {},
   "source": [
    "#### More than 5% so we can't remove it"
   ]
  },
  {
   "cell_type": "code",
   "execution_count": 13,
   "id": "3ccfa6ed-5b98-469d-93bb-463aa467c4c3",
   "metadata": {},
   "outputs": [
    {
     "name": "stdout",
     "output_type": "stream",
     "text": [
      "age              0\n",
      "job              0\n",
      "marital          0\n",
      "education        0\n",
      "default          0\n",
      "balance          0\n",
      "housing          0\n",
      "loan             0\n",
      "contact          0\n",
      "day          16016\n",
      "month            0\n",
      "duration         0\n",
      "campaign         0\n",
      "pdays            0\n",
      "previous         0\n",
      "poutcome         0\n",
      "target           0\n",
      "dtype: int64\n"
     ]
    }
   ],
   "source": [
    "from sklearn.impute import SimpleImputer\n",
    "\n",
    "# Separate numeric and categorical columns\n",
    "numeric_cols = [\"age\", \"balance\", \"duration\", \"campaign\", \"pdays\", \"previous\"]\n",
    "categorical_cols = [\"job\", \"marital\", \"education\", \"default\", \"housing\", \"loan\", \"contact\", \"month\", \"poutcome\", \"target\"]\n",
    "\n",
    "# Impute missing values for numeric columns with mean\n",
    "imputer_numeric = SimpleImputer(strategy='mean')\n",
    "bank[numeric_cols] = imputer_numeric.fit_transform(bank[numeric_cols])\n",
    "\n",
    "# Impute missing values for categorical columns with mode\n",
    "imputer_categorical = SimpleImputer(strategy='most_frequent')\n",
    "bank[categorical_cols] = imputer_categorical.fit_transform(bank[categorical_cols])\n",
    "\n",
    "# Verify that there are no missing values after imputation\n",
    "print(bank.isnull().sum())"
   ]
  },
  {
   "cell_type": "markdown",
   "id": "955fd1f1-b118-40f2-bb4e-bae9b1a0783d",
   "metadata": {},
   "source": [
    "#### 2- Remove duplicates"
   ]
  },
  {
   "cell_type": "markdown",
   "id": "cf2a2349-cfe8-4d1d-83b2-1640c1b2f100",
   "metadata": {},
   "source": [
    "##### Check for and remove duplicate rows if present in the dataset."
   ]
  },
  {
   "cell_type": "markdown",
   "id": "d12dd10d-f3fb-4b5a-b73f-60967a1639f6",
   "metadata": {},
   "source": [
    "2.1 Before "
   ]
  },
  {
   "cell_type": "code",
   "execution_count": 14,
   "id": "c372412d-7c35-418b-969a-45e477ff1f49",
   "metadata": {},
   "outputs": [
    {
     "name": "stdout",
     "output_type": "stream",
     "text": [
      "38320\n"
     ]
    }
   ],
   "source": [
    "# Check for duplicate rows\n",
    "duplicate_rows = bank.duplicated()\n",
    "\n",
    "# Count the number of duplicate rows\n",
    "num_duplicates = duplicate_rows.sum()\n",
    "\n",
    "print(num_duplicates)"
   ]
  },
  {
   "cell_type": "code",
   "execution_count": 15,
   "id": "074a718a-2aaa-42ba-b52e-f1e0c20addfb",
   "metadata": {},
   "outputs": [
    {
     "name": "stdout",
     "output_type": "stream",
     "text": [
      "Removed 38320 duplicate rows.\n"
     ]
    }
   ],
   "source": [
    "if num_duplicates > 0:\n",
    "    # Remove duplicate rows\n",
    "    bank = bank.drop_duplicates()\n",
    "\n",
    "    # Print a message indicating the number of duplicate rows removed\n",
    "    print(f\"Removed {num_duplicates} duplicate rows.\")\n",
    "else:\n",
    "    print(\"No duplicate rows found.\")\n",
    "\n",
    "# Optional: Reset the index after removing duplicate rows\n",
    "bank = bank.reset_index(drop=True)"
   ]
  },
  {
   "cell_type": "markdown",
   "id": "41ee07c5-0f38-45c0-bff2-0b3979e481d9",
   "metadata": {},
   "source": [
    "2.2 After"
   ]
  },
  {
   "cell_type": "code",
   "execution_count": 16,
   "id": "0cc2da8f-8f3e-4b49-ab55-f238c1536733",
   "metadata": {},
   "outputs": [
    {
     "name": "stdout",
     "output_type": "stream",
     "text": [
      "0\n"
     ]
    }
   ],
   "source": [
    "# Check for duplicate rows\n",
    "duplicate_rows = bank.duplicated()\n",
    "\n",
    "# Count the number of duplicate rows\n",
    "num_duplicates = duplicate_rows.sum()\n",
    "\n",
    "print(num_duplicates)"
   ]
  },
  {
   "cell_type": "markdown",
   "id": "4e5763db-870f-44fe-855f-96d246de02a8",
   "metadata": {},
   "source": [
    "#### Handle outliers: "
   ]
  },
  {
   "cell_type": "markdown",
   "id": "d6b71b66-32d4-4288-ba9d-a2513e589e28",
   "metadata": {},
   "source": [
    "##### Detect and deal with outliers in the data. You can remove outliers, cap them, or transform them using techniques like winsorization."
   ]
  },
  {
   "cell_type": "code",
   "execution_count": 17,
   "id": "f91910ee-dd1d-44d8-aea1-e00572a2b0bb",
   "metadata": {},
   "outputs": [
    {
     "data": {
      "image/png": "[encoded data removed]",
      "text/plain": [
       "<Figure size 1200x800 with 1 Axes>"
      ]
     },
     "metadata": {},
     "output_type": "display_data"
    }
   ],
   "source": [
    "import matplotlib.pyplot as plt\n",
    "\n",
    "# Create box plots for each numeric column\n",
    "plt.figure(figsize=(12, 8))\n",
    "bank.boxplot(column=numeric_cols)\n",
    "plt.title('Box plot of Numeric Columns')\n",
    "plt.xticks(rotation=45)\n",
    "plt.xlabel('Columns')\n",
    "plt.ylabel('Values')\n",
    "plt.show()"
   ]
  },
  {
   "cell_type": "code",
   "execution_count": 18,
   "id": "50651fdf-c7e4-4d2b-b764-e641388d8782",
   "metadata": {},
   "outputs": [
    {
     "data": {
      "image/png": "[encoded data removed]",
      "text/plain": [
       "<Figure size 1200x800 with 1 Axes>"
      ]
     },
     "metadata": {},
     "output_type": "display_data"
    }
   ],
   "source": [
    "# Calculate the IQR for each numeric column\n",
    "Q1 = bank[numeric_cols].quantile(0.25)\n",
    "Q3 = bank[numeric_cols].quantile(0.75)\n",
    "IQR = Q3 - Q1\n",
    "\n",
    "outlier_threshold = 1.5\n",
    "\n",
    "# Identify rows with outliers in any numeric column\n",
    "outlier_rows = (bank[numeric_cols] < (Q1 - outlier_threshold * IQR)) | (bank[numeric_cols] > (Q3 + outlier_threshold * IQR))\n",
    "outlier_indices = outlier_rows.any(axis=1)\n",
    "\n",
    "# Remove rows with outliers\n",
    "bank_cleaned = bank[~outlier_indices]\n",
    "\n",
    "# Create box plots for each numeric column after removing outliers\n",
    "plt.figure(figsize=(12, 8))\n",
    "bank_cleaned.boxplot(column=numeric_cols)\n",
    "plt.title('Box plot of Numeric Columns (After Removing Outliers)')\n",
    "plt.xticks(rotation=45)\n",
    "plt.xlabel('Columns')\n",
    "plt.ylabel('Values')\n",
    "plt.show()"
   ]
  },
  {
   "cell_type": "markdown",
   "id": "aa345cdd-6d04-4b2c-b27c-1e08892a3229",
   "metadata": {},
   "source": [
    "#### 3- Encoder"
   ]
  },
  {
   "cell_type": "code",
   "execution_count": 19,
   "id": "2241a268-6cbe-401c-8ff9-8b8b0d9cacdd",
   "metadata": {
    "scrolled": true
   },
   "outputs": [
    {
     "name": "stdout",
     "output_type": "stream",
     "text": [
      "age: 58.0, 44.0, 33.0, 41.09256657612937, 35.0, 28.0, 42.0, 43.0, 41.0, 29.0, 53.0, 57.0, 51.0, 45.0, 60.0, 56.0, 32.0, 25.0, 39.0, 52.0, 46.0, 36.0, 49.0, 59.0, 37.0, 50.0, 54.0, 55.0, 48.0, 24.0, 38.0, 47.0, 40.0, 31.0, 27.0, 34.0, 23.0, 26.0, 61.0, 22.0, 30.0, 21.0, 20.0, 62.0, 83.0, 75.0, 67.0, 65.0, 68.0, 64.0, 69.0, 72.0, 71.0, 66.0, 19.0, 70.0, 76.0, 63.0, 90.0, 82.0, 73.0, 74.0, 78.0, 85.0, 94.0, 79.0, 77.0, 80.0, 86.0, 81.0, 18.0, 89.0, 84.0, 95.0, 87.0, 92.0, 93.0, 88.0\n",
      "job: \"management\", \"technician\", \"entrepreneur\", \"unknown\", \"retired\", \"admin.\", \"services\", \"blue-collar\", \"self-employed\", \"unemployed\", \"student\", \"housemaid\", \"tertiary\"\n",
      "marital: \"married\", \"single\", \"divorced\", \"no\"\n",
      "education: \"tertiary\", \"secondary\", \"unknown\", \"primary\", \"terti, 105\n",
      "default: \"no\", \"yes\"\n",
      "balance: 2143.0, 29.0, 2.0, 1397.2437520488284, 1.0, 231.0, 447.0, 121.0, 593.0, 270.0, 390.0, 6.0, 71.0, 162.0, 229.0, 13.0, 52.0, 60.0, 0.0, 723.0, 779.0, 23.0, 50.0, 255.0, 113.0, -246.0, 265.0, 839.0, 378.0, 39.0, 10635.0, 63.0, -7.0, -3.0, 2586.0, 49.0, 104.0, 529.0, -171.0, -364.0, 1291.0, -244.0, -76.0, -103.0, 243.0, 424.0, 306.0, 24.0, 989.0, 249.0, 790.0, 154.0, 6530.0, 59.0, 1205.0, 5935.0, 25.0, 282.0, 1937.0, 384.0, 582.0, 206.0, 690.0, 2343.0, 137.0, 173.0, 1270.0, 16.0, 486.0, 290.0, 54.0, -37.0, 383.0, 81.0, 90.0, 128.0, 179.0, 61.0, 30.0, 523.0, 31.0, 79.0, -34.0, 448.0, 351.0, 262.0, 56.0, 26.0, 3.0, 41.0, 7.0, 818.0, -16.0, 2476.0, 1185.0, 217.0, 1685.0, 94.0, 517.0, 37.0, 57.0, 22.0, 293.0, 348.0, -19.0, -4.0, 18.0, 139.0, 1883.0, 216.0, 782.0, 904.0, 1705.0, 176.0, 1225.0, 86.0, 1378.0, 184.0, 19.0, 434.0, 1151.0, 51.0, 214.0, 1161.0, 787.0, 253.0, 211.0, 235.0, 4384.0, 53.0, 2127.0, 73.0, 445.0, 307.0, 155.0, 400.0, 1428.0, 219.0, 575.0, 298.0, 5699.0, -390.0, 195.0, 301.0, -41.0, 483.0, 28.0, 965.0, 324.0, 205.0, 278.0, 1065.0, 34.0, 1033.0, 1467.0, -12.0, 388.0, 294.0, 1827.0, 627.0, 315.0, 66.0, -9.0, 349.0, 100.0, 3237.0, 275.0, 2248.0, 140.0, 297.0, 279.0, 901.0, 2573.0, 143.0, 70.0, 318.0, 742.0, 236.0, 600.0, -349.0, 183.0, 190.0, 319.0, 47.0, 570.0, -62.0, 258.0, 76.0, 352.0, 368.0, 339.0, 672.0, 58.0, 423.0, 82.0, 792.0, 408.0, 531.0, 62.0, 257.0, 313.0, 89.0, 129.0, 353.0, 851.0, 96.0, 398.0, -358.0, 490.0, 403.0, 161.0, 2558.0, 98.0, 115.0, 436.0, 831.0, -457.0, 1387.0, 1022.0, -2.0, 842.0, 693.0, -333.0, 1533.0, 44.0, -100.0, 510.0, 685.0, 187.0, 560.0, 12.0, 1068.0, 377.0, 263.0, 1263.0, 8.0, 126.0, 841.0, 157.0, 46.0, 1293.0, 122.0, 131.0, 393.0, 757.0, 245.0, 8486.0, 350.0, 1667.0, 345.0, 10.0, 830.0, 545.0, 8730.0, 477.0, 4.0, 283.0, 17.0, 141.0, 1927.0, 284.0, 1660.0, 406.0, 230.0, -25.0, 1169.0, 67.0, 77.0, 55.0, 72.0, 163.0, 151.0, 9.0, 375.0, 2102.0, 4325.0, 1680.0, 320.0, 469.0, 530.0, 242.0, 367.0, 228.0, 45248.0, 310.0, 132.0, 274.0, -109.0, -11.0, -509.0, 1640.0, 109.0, 1044.0, 983.0, 869.0, 668.0, 964.0, 1877.0, 1127.0, 767.0, 110.0, 178.0, 5345.0, -209.0, 42.0, -99.0, 276.0, -170.0, 946.0, 1297.0, -331.0, 15.0, 712.0, 5435.0, 507.0, 387.0, 167.0, 40.0, 148.0, 1011.0, 1527.0, 744.0, 484.0, 136.0, 1335.0, 83.0, 518.0, 3877.0, 1236.0, -66.0, -144.0, 505.0, 11.0, 639.0, 124.0, 107.0, 935.0, -10.0, -106.0, 170.0, 3165.0, 5431.0, 573.0, 1602.0, -137.0, 193.0, 288.0, 99.0, 840.0, 358.0, -15.0, 581.0, 4070.0, 74.0, 450.0, 395.0, -118.0, 5.0, 285.0, 653.0, 918.0, 405.0, 1328.0, 2106.0, 2877.0, 2226.0, 2880.0, -5.0, 147.0, -119.0, 533.0, 2434.0, 4246.0, 85.0, -184.0, 660.0, -183.0, 69.0, 220.0, 332.0, 240.0, 123.0, 252.0, 65.0, -366.0, 209.0, 221.0, 312.0, -322.0, 1349.0, 281.0, 1259.0, 101.0, 200.0, 201.0, 43.0, -173.0, 389.0, 215.0, -131.0, 783.0, 105.0, 182.0, 948.0, 710.0, 2142.0, 21.0, -497.0, 78.0, 372.0, 125.0, 322.0, 303.0, 607.0, 579.0, 3047.0, 68.0, 251.0, 688.0, 325.0, 198.0, 376.0, 550.0, 512.0, 807.0, 248.0, 1211.0, 88.0, 32.0, 254.0, 569.0, 3754.0, 6920.0, -421.0, 800.0, 239.0, 421.0, 289.0, 156.0, 166.0, 103.0, -454.0, 1001.0, 1617.0, 210.0, 185.0, 836.0, 503.0, 407.0, 2303.0, 144.0, 305.0, 238.0, 222.0, 414.0, 223.0, 197.0, -251.0, -139.0, 97.0, 435.0, 1109.0, 404.0, 95.0, 302.0, -290.0, 259.0, 102.0, 386.0, 539.0, -329.0, -174.0, -532.0, 64.0, 1415.0, -196.0, 716.0, -203.0, 342.0, -248.0, 370.0, 594.0, 208.0, 563.0, 392.0, 165.0, 1265.0, 118.0, 3659.0, 273.0, 327.0, 552.0, 473.0, 344.0, 45.0, 233.0, 872.0, -291.0, 309.0, 202.0, 326.0, 2100.0, 192.0, 442.0, 7624.0, 1013.0, 8823.0, 58544.0, 169.0, 444.0, -205.0, 112.0, 1268.0, -98.0, -90.0, -94.0, -345.0, 20.0, 134.0, -6.0, 528.0, 2019.0, 1855.0, 87.0, 644.0, 225.0, 502.0, -32.0, 106.0, 906.0, 852.0, 1496.0, 703.0, 732.0, 1716.0, 188.0, 207.0, 1466.0, 159.0, -1.0, 475.0, -79.0, 558.0, 267.0, 624.0, 2308.0, 1722.0, -500.0, 308.0, 1026.0, 548.0, 356.0, 164.0, 277.0, 196.0, 365.0, 1310.0, 186.0, 862.0, 359.0, 671.0, 1557.0, -20.0, 174.0, -317.0, 667.0, 396.0, 420.0, 114.0, -24.0, 615.0, 2167.0, -33.0, 526.0, 873.0, 145.0, 1807.0, 133.0, 566.0, 1924.0, 487.0, -57.0, -227.0, 2710.0, 1230.0, 149.0, 8266.0, 321.0, 2527.0, 1045.0, 374.0, 93.0, 460.0, 135.0, 268.0, 788.0, 1904.0, 260.0, 720.0, 1117.0, 597.0, 362.0, 120.0, 247.0, -947.0, 191.0, -147.0, 1348.0, 271.0, 1094.0, 177.0, -413.0, -81.0, 3837.0, 870.0, 316.0, 611.0, 419.0, 2087.0, 1865.0, 7444.0, 1715.0, 226.0, 5611.0, 181.0, 734.0, 10350.0, 84.0, 620.0, 5903.0, 1381.0, 2151.0, -8.0, 3058.0, 130.0, -744.0, 643.0, 391.0, 80.0, 1341.0, 2770.0, 5956.0, 1942.0, 291.0, 797.0, 152.0, 4586.0, -29.0, -58.0, 697.0, 7317.0, -95.0, 751.0, 250.0, 1315.0, 1852.0, -84.0, 36.0, 555.0, 804.0, -617.0, 514.0, 1988.0, 491.0, 675.0, 340.0, 2331.0, 168.0, -22.0, 142.0, -768.0, 341.0, 762.0, -581.0, -45.0, 335.0, 785.0, 2067.0, 1322.0, 1713.0, 381.0, 1801.0, 640.0, 1042.0, -339.0, 1222.0, 846.0, 338.0, 2211.0, -210.0, 879.0, 1601.0, 717.0, 587.0, -275.0, 116.0, 753.0, 984.0, 199.0, 648.0, 907.0, 6322.0, -132.0, 613.0, 1786.0, 417.0, 1164.0, 1069.0, -192.0, -176.0, 527.0, 7601.0, 495.0, 670.0, 1824.0, 2850.0, 48.0, 336.0, 704.0, -315.0, -820.0, 538.0, 1288.0, 1768.0, 213.0, 373.0, 504.0, 584.0, 832.0, 2642.0, 718.0, -138.0, 749.0, 14.0, 496.0, 175.0, 430.0, 574.0, 429.0, 3932.0, 468.0, -17.0, -417.0, 394.0, 856.0, 138.0, -52.0, 397.0, 1080.0, -85.0, 4012.0, 498.0, 699.0, 820.0, 1376.0, 771.0, -97.0, 5034.0, 1891.0, -13.0, 264.0, 317.0, 458.0, 536.0, 117.0, 1059.0, 1306.0, 3007.0, -88.0, 422.0, 4286.0, 687.0, 1245.0, -320.0, -286.0, 470.0, 2068.0, 146.0, 286.0, 111.0, 246.0, 108.0, 457.0, 1825.0, -198.0, 739.0, 337.0, -78.0, 355.0, 153.0, 794.0, 1407.0, -116.0, 1842.0, 428.0, 2831.0, 2412.0, -67.0, 535.0, -43.0, -346.0, -271.0, -680.0, 160.0, 453.0, 934.0, 354.0, 2590.0, 1868.0, -578.0, 1981.0, -68.0, 1656.0, 1342.0, -1124.0, 662.0, 1790.0, 726.0, -91.0, 6259.0, 27.0, 1108.0, 479.0, 234.0, -53.0, -39.0, 1113.0, 1326.0, 2257.0, 1373.0, 304.0, 659.0, 218.0, -665.0, 5406.0, 269.0, 2457.0, 610.0, -133.0, 360.0, 708.0, 1329.0, 7459.0, -516.0, 433.0, -197.0, -135.0, 1118.0, 1129.0, 266.0, 1726.0, -388.0, 92.0, 1510.0, 171.0, 513.0, -312.0, -208.0, 781.0, 542.0, -175.0, -3313.0, -202.0, -256.0, -503.0, 638.0, -356.0, 6809.0, 2530.0, -228.0, 683.0, 881.0, 244.0, -396.0, 150.0, 91.0, -178.0, 2137.0, 1160.0, 3986.0, 655.0, 2378.0, -83.0, 3284.0, 4190.0, 5694.0, -89.0, 1696.0, 714.0, 913.0, -407.0, -435.0, 769.0, 9569.0, 1190.0, 2272.0, -864.0, -120.0, 296.0, 6248.0, 606.0, 564.0, 333.0, 418.0, 494.0, 127.0, 713.0, -294.0, -80.0, 4542.0, 7816.0, 784.0, 2581.0, -220.0, 18722.0, 409.0, 4785.0, -278.0, -283.0, 194.0, -402.0, -40.0, 3867.0, 737.0, 311.0, 541.0, -871.0, 75.0, 561.0, 4509.0, -337.0, 1558.0, 227.0, -439.0, 650.0, -302.0, 997.0, 6890.0, -214.0, 3675.0, 446.0, 957.0, -28.0, 586.0, -1445.0, -23.0, -284.0, 1166.0, 1399.0, -219.0, 5028.0, 1064.0, -63.0, 985.0, 616.0, 380.0, 838.0, 382.0, 330.0, -260.0, 684.0, 1052.0, 454.0, -189.0, 855.0, 2845.0, 2420.0, 633.0, 1114.0, 2576.0, 1750.0, 4128.0, 1345.0, 1474.0, 6386.0, -353.0, -474.0, 1504.0, 551.0, -759.0, 520.0, 1242.0, 295.0, 1473.0, 3122.0, 1401.0, 431.0, 1554.0, 1135.0, 158.0, -428.0, 3185.0, 2577.0, 323.0, 334.0, 845.0, -126.0, 2146.0, -522.0, -1664.0, 2172.0, 768.0, 544.0, 1374.0, 119.0, -121.0, -195.0, -122.0, -423.0, -49.0, -846.0, 705.0, 1950.0, 595.0, -185.0, 2363.0, 596.0, -114.0, 478.0, 614.0, 401.0, -273.0, 2594.0, -166.0, -141.0, -250.0, 3825.0, 1060.0, 955.0, 4646.0, 232.0, 1483.0, 7495.0, 2665.0, 1875.0, 1934.0, 5521.0, 3382.0, -111.0, 3373.0, 463.0, 2376.0, 3960.0, 2144.0, 13308.0, 1199.0, 1262.0, 1949.0, 618.0, 6203.0, 1635.0, 580.0, 1814.0, 189.0, -633.0, 5356.0, 476.0, 4478.0, -892.0, 1165.0, 3839.0, 2240.0, 1301.0, -27.0, 331.0, 402.0, 1691.0, 399.0, 1421.0, -371.0, 1916.0, 300.0, 3571.0, 789.0, 2195.0, 1311.0, -689.0, 26765.0, 3478.0, 592.0, 12061.0, 1570.0, -745.0, 1330.0, 1423.0, 8206.0, 4436.0, 1611.0, 743.0, 1460.0, 2887.0, 2218.0, 299.0, 29312.0, 1940.0, 576.0, 887.0, 489.0, 1531.0, 3108.0, 2466.0, -588.0, 413.0, 1340.0, 363.0, -306.0, 449.0, 623.0, 1390.0, 369.0, 1357.0, 2047.0, -427.0, 849.0, 598.0, 452.0, -213.0, 2477.0, 4265.0, 559.0, 926.0, 9956.0, 1300.0, 2626.0, 511.0, 493.0, 599.0, 272.0, 735.0, 651.0, 617.0, 516.0, 1089.0, 3749.0, 515.0, 819.0, 722.0, 3346.0, 1576.0, 2429.0, 3111.0, 1352.0, 9004.0, 2236.0, 3348.0, 2550.0, 547.0, 4998.0, 1917.0, 4871.0, 692.0, 591.0, 3923.0, 2121.0, 5154.0, 5879.0, 871.0, 37378.0, 1443.0, 752.0, 1093.0, 736.0, 7378.0, 4666.0, 1516.0, 6085.0, 770.0, 1029.0, 4135.0, 204.0, 1534.0, 877.0, 1130.0, 740.0, 993.0, 896.0, 1088.0, 1541.0, 2656.0, 4505.0, 4151.0, 261.0, 2956.0, 1327.0, 8417.0, -172.0, 902.0, 212.0, 719.0, 1521.0, 2516.0, 329.0, -700.0, 15801.0, 2639.0, 1076.0, 2706.0, 1294.0, 482.0, 2823.0, 5700.0, 3028.0, 1405.0, 427.0, 938.0, 626.0, 7373.0, 1535.0, 829.0, 1765.0, 1733.0, 1522.0, 4446.0, 923.0, 1309.0, 3158.0, 1596.0, 23189.0, 1010.0, 1429.0, 2439.0, 3641.0, 2535.0, 3634.0, 3395.0, 673.0, 698.0, 2540.0, 357.0, 2097.0, 628.0, 6874.0, 1542.0, 1057.0, 11317.0, -1300.0, 1412.0, 20718.0, 1043.0, 890.0, 2285.0, 1180.0, 6943.0, 3652.0, 3455.0, 2607.0, 2024.0, -222.0, 33.0, 1000.0, 694.0, 4543.0, 1613.0, 1410.0, 892.0, -113.0, 3240.0, 3658.0, 3545.0, 1292.0, 4248.0, 501.0, 3743.0, 7735.0, 455.0, 1757.0, 1480.0, 7180.0, 441.0, 10749.0, 760.0, 10600.0, 3096.0, 998.0, 1952.0, 766.0, -31.0, 5426.0, 629.0, 2800.0, 1549.0, 6050.0, -328.0, 6911.0, 410.0, 1028.0, -115.0, 474.0, 2416.0, 280.0, 1811.0, 6439.0, 1333.0, 864.0, 900.0, 6532.0, 1945.0, 4556.0, 1764.0, 976.0, 645.0, 1794.0, 9131.0, 532.0, 680.0, 728.0, 609.0, 15740.0, 738.0, -101.0, 3630.0, 5961.0, 1487.0, -295.0, 1442.0, 1427.0, 5678.0, 2631.0, 664.0, 416.0, 1260.0, 5291.0, 3401.0, -1196.0, 810.0, 3105.0, 2612.0, 556.0, 953.0, 786.0, 601.0, 4464.0, -406.0, 3625.0, 1132.0, 1121.0, 3407.0, 827.0, 471.0, 2938.0, 860.0, 1384.0, 5131.0, 2918.0, 2235.0, -143.0, 56831.0, 2040.0, 678.0, 5006.0, 3291.0, 543.0, 3269.0, 2537.0, 6127.0, 2883.0, 2515.0, 1894.0, 2217.0, 3173.0, 2157.0, 4157.0, 3381.0, 1882.0, 3649.0, 9359.0, 2479.0, 6659.0, 1563.0, 1172.0, 2086.0, 524.0, -149.0, 1530.0, 1758.0, 960.0, 959.0, 5618.0, 605.0, 5041.0, 1004.0, 2467.0, 793.0, 2651.0, 3123.0, 950.0, 3216.0, 8150.0, -1385.0, 2354.0, 2192.0, 2124.0, 1037.0, -394.0, 6510.0, 4323.0, 4582.0, 1678.0, 3583.0, 666.0, 641.0, 3018.0, 2785.0, 1178.0, 22370.0, 1217.0, 9077.0, 461.0, 7864.0, 1224.0, 3676.0, 1061.0, 3020.0, 3405.0, 346.0, 874.0, 7475.0, 2667.0, 2219.0, 2933.0, -181.0, 5788.0, 2796.0, 6526.0, 1192.0, 665.0, 4928.0, 38.0, 1105.0, 9039.0, 577.0, 1704.0, 3008.0, -204.0, 2923.0, 1146.0, 3060.0, 1363.0, 3990.0, 3965.0, 6060.0, 1323.0, 848.0, 1278.0, 1215.0, 347.0, -318.0, 1048.0, 1779.0, 1372.0, 9541.0, 364.0, 4580.0, 4060.0, 2552.0, 8016.0, 1139.0, 676.0, 741.0, 4004.0, 497.0, -628.0, 2319.0, 10399.0, 826.0, 4520.0, 10576.0, 366.0, 4904.0, 1103.0, -233.0, 2453.0, 500.0, 756.0, 1140.0, 2658.0, 632.0, 701.0, 679.0, 2925.0, 3840.0, 1819.0, 5670.0, 1125.0, 3657.0, 2256.0, 7440.0, 1320.0, 2984.0, 2562.0, 1102.0, 758.0, 1079.0, 2201.0, 772.0, 412.0, 2767.0, 4015.0, -720.0, 1231.0, 1742.0, -237.0, 1739.0, 1880.0, 3705.0, 1195.0, 2781.0, 4541.0, -382.0, 975.0, 1092.0, 1394.0, 1455.0, 2605.0, 2360.0, -21.0, 894.0, 805.0, 2547.0, 6258.0, 480.0, 35.0, 1332.0, 773.0, 880.0, 1101.0, 2133.0, 8837.0, 2523.0, 5558.0, -507.0, -257.0, 2539.0, 999.0, -235.0, 1756.0, -972.0, 3689.0, 1269.0, 961.0, 499.0, 1053.0, -142.0, 646.0, 1511.0, 1343.0, -613.0, 241.0, -26.0, 4574.0, 4168.0, 677.0, 3690.0, -1400.0, -656.0, 1400.0, 1197.0, 12269.0, 1126.0, -650.0, 554.0, 467.0, -416.0, 2499.0, 3926.0, 876.0, 1163.0, 656.0, 2073.0, 29887.0, 916.0, 634.0, 2724.0, 3343.0, -524.0, 1194.0, -308.0, 1485.0, 4391.0, 822.0, 647.0, 2597.0, 4956.0, 4166.0, 314.0, 978.0, 567.0, 4537.0, 715.0, -61.0, 2185.0, 1155.0, 371.0, 642.0, 2207.0, 2687.0, 1649.0, 886.0, 1112.0, 696.0, 488.0, 1007.0, 8318.0, -104.0, 863.0, 2055.0, 568.0, 3608.0, 1932.0, 1066.0, -326.0, 10561.0, 695.0, 8014.0, -14.0, 2099.0, 2589.0, 654.0, 865.0, 379.0, 1497.0, 7934.0, 1261.0, 1124.0, -471.0, 1920.0, 8180.0, 2784.0, -154.0, 522.0, 12210.0, 8806.0, 2402.0, -848.0, 674.0, 256.0, 1020.0, 1380.0, -1249.0, 4089.0, 3736.0, 2407.0, 1781.0, 4667.0, 4301.0, 815.0, 3259.0, 2996.0, 1312.0, 3444.0, -206.0, 1879.0, 2851.0, 4378.0, 2718.0, 6042.0, -341.0, -46.0, 625.0, 775.0, 889.0, -754.0, 2085.0, 754.0, 912.0, 3196.0, 2128.0, 4357.0, 425.0, 1990.0, 824.0, 1017.0, 456.0, 6353.0, 459.0, -288.0, 1071.0, 3722.0, 6489.0, 3457.0, 3855.0, 1897.0, 1536.0, 1540.0, 3238.0, 1629.0, 1116.0, -365.0, 462.0, 4087.0, 1087.0, 2079.0, 1633.0, 9714.0, 1851.0, 1484.0, 361.0, 8195.0, 3524.0, 1710.0, 1019.0, 1147.0, 7449.0, 858.0, 4923.0, 2231.0, 3776.0, 437.0, 6482.0, 3544.0, 5306.0, 730.0, 2847.0, 4039.0, 6421.0, 806.0, 3110.0, 4482.0, 1861.0, 622.0, 492.0, 733.0, 4622.0, 1820.0, 3750.0, 465.0, 1583.0, 4635.0, 6138.0, 1803.0, 4648.0, 2089.0, 3059.0, 4434.0, 3997.0, 440.0, 759.0, 603.0, 328.0, 9374.0, 4958.0, 2644.0, 17983.0, 2036.0, 1689.0, 439.0, 1283.0, 2054.0, 8132.0, 4170.0, 4011.0, 8741.0, -740.0, -152.0, 3763.0, 2007.0, -130.0, 4399.0, 780.0, 4897.0, 2030.0, 2042.0, 5122.0, -607.0, 5260.0, -313.0, 432.0, 2177.0, 1271.0, 709.0, -93.0, -242.0, 11697.0, 2688.0, 5064.0, 3559.0, 5607.0, 8291.0, 6969.0, 583.0, 7171.0, 3512.0, 585.0, 451.0, 5058.0, 859.0, -508.0, 23867.0, 2038.0, 967.0, -635.0, 1298.0, 1797.0, 1848.0, 4996.0, 1351.0, 982.0, 4963.0, 1438.0, 1411.0, 1183.0, 2700.0, 774.0, 7313.0, 908.0, 1581.0, 2012.0, 917.0, 3127.0, 5436.0, 1081.0, 2852.0, 1131.0, -215.0, 602.0, 426.0, 5143.0, 7406.0, 1005.0, 1040.0, 4822.0, 5731.0, 3067.0, 1831.0, 897.0, 3514.0, 565.0, 2610.0, 1025.0, 1250.0, 3044.0, 1445.0, 3311.0, 2309.0, 2730.0, 1663.0, 1966.0, 2976.0, 3834.0, 4025.0, 438.0, -224.0, 821.0, 8153.0, 1701.0, -898.0, 1073.0, 5754.0, -167.0, 4146.0, 3954.0, 8629.0, 1168.0, 1746.0, 1207.0, 3090.0, -530.0, 1136.0, 5024.0, 3528.0, 791.0, 546.0, 6982.0, 1176.0, 4746.0, 11512.0, 808.0, -289.0, 35368.0, 1110.0, 2490.0, 1437.0, 3773.0, 1914.0, 7005.0, 2693.0, 1243.0, 883.0, 3176.0, 3202.0, 2660.0, -557.0, 930.0, 1624.0, -268.0, 1671.0, 2287.0, 4315.0, -70.0, 1630.0, 287.0, -954.0, 1408.0, 1600.0, 1157.0, 932.0, 557.0, -872.0, 1450.0, 2032.0, 5729.0, 951.0, 2262.0, 13156.0, 1336.0, 1067.0, 12961.0, 1216.0, 891.0, 15341.0, 1191.0, 1869.0, 2084.0, 1389.0, 1303.0, 11149.0, -35.0, 3242.0, 2696.0, 1721.0, -370.0, 6217.0, -559.0, 385.0, 5304.0, 825.0, 3100.0, 1279.0, 2034.0, 1091.0, 481.0, 5711.0, 1755.0, 1961.0, 885.0, 4499.0, -325.0, 702.0, -148.0, 1717.0, 1156.0, 7198.0, 5252.0, 1289.0, 4665.0, 1631.0, 3468.0, 1985.0, 4752.0, 1933.0, 1402.0, 5853.0, 6704.0, -165.0, 2294.0, 1317.0, 1818.0, 3298.0, 1744.0, 1599.0, 813.0, 2271.0, 5366.0, 578.0, 2003.0, 920.0, 3732.0, 8874.0, 4924.0, 4174.0, 2205.0, 24870.0, 589.0, 745.0, 5527.0, 3326.0, -491.0, -194.0, 1499.0, 4733.0, 1284.0, 4441.0, -280.0, 1023.0, 4369.0, 540.0, 1568.0, 3696.0, 3784.0, 3119.0, 1393.0, 4191.0, 2645.0, 776.0, 1813.0, 5902.0, 3137.0, 2238.0, 3132.0, -408.0, 8541.0, 1221.0, 994.0, 2737.0, 8564.0, 4243.0, 1186.0, 11423.0, 1354.0, 711.0, 1239.0, 6714.0, 1464.0, 509.0, 3967.0, 3517.0, 6227.0, 11315.0, 1273.0, 3798.0, 525.0, 4303.0, 3050.0, 750.0, 5547.0, -386.0, 5889.0, 14692.0, 17946.0, 18347.0, 2557.0, 571.0, 700.0, 1379.0, 973.0, 5745.0, -355.0, 1804.0, -401.0, 3155.0, 1141.0, -102.0, 1212.0, -327.0, -1206.0, -753.0, -762.0, 2278.0, -332.0, 7252.0, -319.0, 5553.0, 2080.0, -221.0, 2114.0, 4009.0, 3142.0, -591.0, -267.0, 2679.0, -455.0, -299.0, -108.0, -393.0, -825.0, 3767.0, 17455.0, 1651.0, 1202.0, 1996.0, -375.0, 6374.0, 630.0, 1358.0, -212.0, 590.0, -369.0, 1375.0, 4053.0, 1951.0, 4519.0, 1134.0, 1049.0, 3546.0, -239.0, 2599.0, -461.0, 3643.0, -1455.0, 3465.0, 5205.0, 5773.0, 1074.0, 1247.0, 882.0, 1529.0, 1572.0, -679.0, -303.0, 9194.0, 1839.0, 1492.0, 875.0, 2910.0, 1780.0, 1847.0, 631.0, 2197.0, 1903.0, 1605.0, 2150.0, -357.0, 13849.0, 5517.0, 4707.0, 1878.0, 1098.0, -211.0, 9874.0, 1008.0, 3622.0, 1495.0, 3316.0, 1718.0, -287.0, 2317.0, -627.0, -347.0, -796.0, 4063.0, -372.0, -245.0, -426.0, -436.0, 1337.0, -1379.0, -380.0, -54.0, 3888.0, 1728.0, -361.0, 1182.0, 1925.0, -587.0, -255.0, 19343.0, -342.0, 537.0, -538.0, -694.0, 1252.0, 669.0, 2064.0, 1395.0, -606.0, 747.0, 682.0, 1595.0, 1107.0, 2229.0, 7544.0, 3429.0, -476.0, -424.0, -545.0, 9725.0, -75.0, -367.0, -72.0, -110.0, -309.0, 2070.0, 2316.0, -297.0, -465.0, 519.0, -274.0, -1013.0, -376.0, 1573.0, 7216.0, -330.0, 2619.0, -236.0, 1257.0, -446.0, -305.0, 2720.0, -140.0, 1256.0, -1026.0, -556.0, -415.0, 899.0, -579.0, -498.0, 5284.0, -566.0, -576.0, 1928.0, -247.0, -921.0, -158.0, -800.0, -199.0, 1693.0, -307.0, 1050.0, -502.0, -626.0, 21111.0, -69.0, 1024.0, 1449.0, -544.0, 941.0, 1145.0, 4587.0, 974.0, -614.0, 5888.0, -901.0, 3057.0, 343.0, 2697.0, 1612.0, 9894.0, 4030.0, 1414.0, 1209.0, 5151.0, -571.0, 823.0, -551.0, 3201.0, -186.0, 6575.0, 1255.0, 2805.0, 4716.0, 3344.0, 553.0, 3532.0, 2065.0, -870.0, 4131.0, -281.0, -463.0, 3935.0, 6758.0, 1353.0, 612.0, 5455.0, 1307.0, 4038.0, 2776.0, 1016.0, 203.0, -92.0, -849.0, 3160.0, -1500.0, -124.0, -50.0, -238.0, -44.0, -1040.0, -634.0, 4388.0, -335.0, 3154.0, -458.0, 1475.0, 3087.0, -187.0, 939.0, -663.0, -482.0, 991.0, -48.0, 1641.0, -641.0, 1867.0, 910.0, -384.0, 3875.0, 1954.0, 2564.0, -383.0, -676.0, 1698.0, -269.0, 4793.0, -395.0, 3170.0, -847.0, -704.0, -241.0, 411.0, -585.0, 936.0, 1547.0, 1575.0, 3052.0, -159.0, 1304.0, -999.0, 1196.0, 1626.0, 1539.0, -512.0, 3257.0, -429.0, 1391.0, -1042.0, 763.0, -616.0, -611.0, -363.0, 1555.0, 1285.0, -666.0, -718.0, 3635.0, 949.0, -479.0, 1553.0, 843.0, -229.0, -360.0, 13186.0, 6429.0, 22867.0, 7832.0, 844.0, 5891.0, 10436.0, -562.0, -477.0, 6164.0, -397.0, 180.0, -190.0, -96.0, 3037.0, 9713.0, -254.0, 1653.0, -684.0, 795.0, 2344.0, -1547.0, 2593.0, -259.0, 1432.0, 914.0, 10865.0, -932.0, -1148.0, 1657.0, 3620.0, 1598.0, 2615.0, 2005.0, -701.0, 5172.0, 10065.0, 4513.0, 8326.0, 1072.0, 2849.0, -71.0, -732.0, 292.0, -218.0, -770.0, 1123.0, 4681.0, -473.0, 1615.0, 1973.0, 1964.0, 5766.0, -59.0, 2570.0, 5222.0, 2751.0, 3002.0, 1227.0, 16232.0, 9779.0, -752.0, 6840.0, 3004.0, 2083.0, 755.0, 1386.0, 8594.0, 2921.0, 4590.0, 1214.0, -136.0, 1849.0, 1453.0, 2430.0, 933.0, 2364.0, 1468.0, 1150.0, 2862.0, 4050.0, 1388.0, -478.0, -443.0, 1857.0, 3672.0, 1203.0, 1171.0, 970.0, 6307.0, -164.0, 1566.0, -905.0, -1310.0, 1731.0, 1686.0, 5980.0, -541.0, 16173.0, 8298.0, 1815.0, 4307.0, -526.0, 2954.0, 7063.0, 5288.0, -240.0, 11417.0, 2835.0, -779.0, -112.0, 854.0, 1621.0, -518.0, 3529.0, 1636.0, 1502.0, -1655.0, 7304.0, 562.0, -568.0, 22008.0, -65.0, -310.0, -314.0, 2193.0, 1995.0, 8089.0, 5605.0, 3331.0, 1417.0, 4264.0, -258.0, 1280.0, -160.0, 3254.0, 2926.0, -36.0, 2428.0, -409.0, 1039.0, -304.0, 415.0, -1350.0, 3198.0, 2176.0, 4366.0, -971.0, 5883.0, 1385.0, -675.0, 3104.0, 1493.0, -938.0, 5336.0, 731.0, 22171.0, -598.0, -931.0, -107.0, 803.0, 1238.0, 992.0, -717.0, 3538.0, 2166.0, 1377.0, -354.0, -378.0, 1210.0, 3753.0, -659.0, -496.0, -495.0, 11269.0, 3557.0, 943.0, 724.0, 2508.0, 1919.0, 485.0, 3181.0, 748.0, 1314.0, 3083.0, 6998.0, 2041.0, 1308.0, 2895.0, 3279.0, 1938.0, 1119.0, 2081.0, 2486.0, 224.0, 1939.0, 2237.0, 32948.0, 765.0, 1403.0, 6174.0, 1910.0, -939.0, 11953.0, 1099.0, 3354.0, 15578.0, 809.0, 13761.0, 4497.0, -456.0, 1749.0, 1286.0, -1489.0, 2608.0, 1177.0, 22755.0, -625.0, 10287.0, 10045.0, 5241.0, 816.0, 7098.0, 7985.0, 812.0, 9687.0, 1032.0, 8254.0, 2452.0, 8839.0, 1736.0, 931.0, 2798.0, 2345.0, 6450.0, 2715.0, 3670.0, 2497.0, 5342.0, 5310.0, -261.0, 2015.0, 1544.0, 828.0, 2076.0, 2399.0, 1788.0, 1365.0, 2940.0, -1485.0, 8794.0, 12956.0, 1778.0, 3112.0, 4585.0, 1900.0, -1312.0, 3350.0, 7712.0, 16992.0, 2931.0, -151.0, -252.0, 1929.0, 9767.0, 963.0, 3283.0, 1844.0, 472.0, 2749.0, -3372.0, -276.0, 1798.0, 5244.0, 1041.0, 1366.0, 9976.0, 4692.0, 1031.0, 1593.0, 1253.0, 1100.0, 6836.0, 3516.0, 3886.0, 6251.0, 2764.0, -715.0, 2885.0, 2501.0, 1785.0, 604.0, 1732.0, 1898.0, 1959.0, 11804.0, 1226.0, 5669.0, -599.0, -338.0, -442.0, 3629.0, 2440.0, 1854.0, 11528.0, 987.0, 4425.0, -430.0, 3950.0, 1559.0, 686.0, 2909.0, 1607.0, 1034.0, 2620.0, 1874.0, 4178.0, 2147.0, 1767.0, 12855.0, 661.0, 8107.0, -510.0, 7707.0, 2397.0, -350.0, 814.0, 1002.0, 2528.0, 986.0, 3601.0, 2647.0, 1082.0, 5282.0, 7290.0, 14481.0, 1974.0, 4660.0, 11743.0, -105.0, 4414.0, 1597.0, 1513.0, 2441.0, 2403.0, -232.0, 5115.0, 4120.0, 1235.0, 1451.0, 1267.0, 25741.0, 7108.0, -2049.0, 3021.0, 6614.0, 2255.0, 1589.0, 3674.0, 729.0, 2002.0, 2960.0, 3224.0, 12159.0, 3043.0, 4791.0, 7019.0, 4136.0, 2061.0, 1144.0, 1120.0, -403.0, 2719.0, 2806.0, 2990.0, 1316.0, 2153.0, 12531.0, 2666.0, 2760.0, 1036.0, 16063.0, 2708.0, 8238.0, 1538.0, -636.0, 1690.0, 2532.0, 1958.0, 5145.0, 1771.0, 2260.0, -1027.0, 3587.0, 5563.0, -47.0, 7867.0, -540.0, 2609.0, 3782.0, 5210.0, 6312.0, 1994.0, 777.0, -583.0, 3339.0, -757.0, 3729.0, 15511.0, 1965.0, 18904.0, 4143.0, 2763.0, -488.0, 2854.0, 1244.0, 3249.0, 608.0, -1480.0, 3487.0, 3948.0, 1802.0, 3472.0, 1614.0, 847.0, 1237.0, 1834.0, 1104.0, 6843.0, 2507.0, 7505.0, 4415.0, 3574.0, 1720.0, 5029.0, 3868.0, 4780.0, 1027.0, 1187.0, 3561.0, 2768.0, -399.0, -755.0, 1907.0, 1193.0, 2525.0, 3304.0, 1707.0, 867.0, 1734.0, 798.0, 2227.0, 4731.0, 8558.0, 19797.0, -234.0, 12917.0, 5164.0, -686.0, 443.0, -1129.0, 3433.0, 8263.0, -282.0, 21096.0, -537.0, 6525.0, 2998.0, 6321.0, -711.0, 2617.0, -691.0, 2198.0, 1170.0, 1905.0, 2635.0, 4040.0, -480.0, 2387.0, 5195.0, 1090.0, 1416.0, 1604.0, -18.0, 7343.0, 3496.0, -292.0, 1708.0, -1050.0, 2398.0, 5234.0, 954.0, 3404.0, 6285.0, 4309.0, -854.0, 12282.0, -575.0, 6445.0, 1960.0, 5149.0, 2529.0, 11615.0, 3139.0, 2423.0, 7634.0, 1695.0, 13683.0, -790.0, 3809.0, 2893.0, 1772.0, 1545.0, -589.0, 3070.0, -475.0, 1761.0, 2812.0, 4466.0, 9326.0, 12926.0, -127.0, 3862.0, 2869.0, 1669.0, 3813.0, -630.0, 572.0, 16402.0, 4408.0, 12686.0, 4788.0, 725.0, 2186.0, 1588.0, 466.0, 6531.0, 2104.0, 1021.0, 691.0, -263.0, 1762.0, 3456.0, 2188.0, 17964.0, -42.0, 3778.0, 27733.0, 3575.0, -437.0, -1621.0, 1325.0, 1476.0, 17891.0, 1078.0, 3844.0, -207.0, 4630.0, 1845.0, 1623.0, -298.0, 3131.0, 980.0, 1254.0, 2472.0, 1893.0, -547.0, 27359.0, 3638.0, 2251.0, -87.0, 1582.0, 2958.0, 635.0, 4084.0, -574.0, 1430.0, 3931.0, 6290.0, 3107.0, -505.0, 8627.0, 6281.0, 1128.0, 7503.0, 895.0, -1136.0, 1003.0, -527.0, 10787.0, -389.0, 924.0, 7982.0, 4409.0, -565.0, 1664.0, -1202.0, 4013.0, 4144.0, -285.0, 6196.0, 2008.0, 966.0, 2385.0, 3756.0, -713.0, 1634.0, 13052.0, 5380.0, 1143.0, -226.0, 2330.0, -1083.0, 1616.0, 4594.0, 5278.0, 2514.0, 1232.0, 681.0, 4787.0, 4096.0, 2671.0, 1014.0, 2957.0, -74.0, 944.0, 7454.0, 9121.0, 1944.0, 835.0, 1240.0, 1574.0, 3940.0, 9824.0, -640.0, 8251.0, 4209.0, 1619.0, 2281.0, 2551.0, 2132.0, 6536.0, 8590.0, 2946.0, 14363.0, 853.0, 4046.0, 2790.0, 1218.0, 3503.0, 15442.0, 9397.0, 1648.0, 13360.0, 3063.0, 1470.0, 4820.0, 4207.0, 11464.0, 6397.0, 2758.0, 3231.0, 7747.0, 1201.0, 4318.0, 4320.0, 4458.0, 7025.0, 10855.0, 1070.0, 1795.0, 549.0, 21515.0, 637.0, 1459.0, 1659.0, 4579.0, 1038.0, 3239.0, 2269.0, 1550.0, 8562.0, -572.0, 884.0, 3277.0, 12848.0, 1677.0, 2074.0, 1189.0, 3924.0, 3594.0, 2296.0, 3313.0, 1523.0, 636.0, 3460.0, 1646.0, 1699.0, 21861.0, 3258.0, 1015.0, 2313.0, 1138.0, 1047.0, -1110.0, 2791.0, 5506.0, 3704.0, 799.0, 1743.0, 2505.0, 4150.0, 9796.0, 940.0, -156.0, 6408.0, 3039.0, 2152.0, 1508.0, 778.0, 3823.0, 1491.0, 1266.0, 2010.0, 5403.0, 8127.0, 22018.0, 3595.0, 45141.0, 657.0, 3180.0, 1055.0, 2000.0, 619.0, 5462.0, 11146.0, 2899.0, 10360.0, 19850.0, 8313.0, 1461.0, 3275.0, 5267.0, 2774.0, 4789.0, 2936.0, 2022.0, 1870.0, 2754.0, 3598.0, 5287.0, 1956.0, 3430.0, 52499.0, 10285.0, 9192.0, -30.0, 3577.0, 21574.0, 850.0, 3303.0, 4830.0, 6020.0, 1275.0, 2908.0, 5334.0, 11671.0, 2199.0, 3783.0, 7082.0, 1632.0, 7067.0, 2367.0, 16430.0, -38.0, 927.0, 5098.0, 1873.0, -56.0, 2662.0, 2704.0, -200.0, 10442.0, 1676.0, 4639.0, 1526.0, 5418.0, 2870.0, 7179.0, 9200.0, 1953.0, 3952.0, -1272.0, -162.0, 947.0, 4037.0, 2215.0, 7951.0, -1232.0, 4741.0, 2997.0, 1603.0, 6250.0, 4362.0, 861.0, 1666.0, 2135.0, 2348.0, 2518.0, 5011.0, 7027.0, -467.0, 4289.0, 2810.0, 5768.0, 5585.0, 16431.0, 3899.0, 2920.0, 2876.0, 14000.0, 7372.0, 7821.0, 1046.0, 11016.0, -896.0, 13242.0, 5201.0, 3169.0, 2601.0, 8592.0, 22856.0, 1173.0, 1462.0, 1382.0, 6975.0, 3558.0, 2096.0, 3117.0, 1012.0, -1036.0, 3034.0, -323.0, 4895.0, 4222.0, 1035.0, 13698.0, 5137.0, 2261.0, 2603.0, 1206.0, 8412.0, 1030.0, 7880.0, 3644.0, 5571.0, 17413.0, 4997.0, 3570.0, 3281.0, 3819.0, 3913.0, 2717.0, 1805.0, -521.0, 2932.0, 3467.0, 4343.0, 2897.0, -519.0, 7496.0, 3289.0, 4844.0, 3376.0, 1115.0, 8036.0, 1367.0, 3015.0, 2394.0, 2020.0, 2522.0, 10333.0, 3056.0, 3295.0, 16917.0, 4056.0, 4023.0, 13117.0, 13893.0, 1637.0, 1846.0, 2500.0, 1930.0, 4139.0, 3230.0, 2295.0, 8368.0, 2056.0, 2585.0, 8345.0, 16843.0, 1986.0, 7653.0, 1137.0, 2517.0, 5523.0, 1884.0, 4840.0, 1179.0, 1866.0, 8894.0, 11084.0, 464.0, 4445.0, 2234.0, 9019.0, 7049.0, 2821.0, -803.0, 6204.0, 8600.0, 2369.0, 2480.0, 7298.0, 1571.0, 3671.0, 1248.0, 4233.0, 5560.0, 2995.0, 10957.0, 13551.0, 2432.0, 2952.0, 2342.0, 1706.0, 8828.0, 1841.0, 3370.0, 1590.0, 4800.0, 6913.0, 3664.0, 2252.0, 4283.0, 2596.0, 1290.0, 5305.0, 5657.0, 1784.0, 2630.0, 2478.0, 4397.0, -470.0, 1319.0, 2082.0, 3944.0, 1625.0, 4138.0, 1456.0, 2312.0, 952.0, 1887.0, 1397.0, 8379.0, 2732.0, 937.0, 1610.0, 172.0, 5427.0, 1347.0, 2190.0, 2243.0, 4848.0, 3073.0, 3355.0, 2999.0, 1627.0, 18188.0, 10638.0, 1433.0, 2813.0, 2223.0, 5658.0, 3140.0, 4949.0, 4176.0, 4259.0, 3628.0, 658.0, 1977.0, 5543.0, 3436.0, 2346.0, 5000.0, 2044.0, 5908.0, 11787.0, 4723.0, 2636.0, 3687.0, 2216.0, -1185.0, -918.0, 721.0, 2982.0, 7208.0, 4232.0, 969.0, 5894.0, 5095.0, 2929.0, 13292.0, 2722.0, 903.0, 3214.0, 6072.0, 21292.0, 2351.0, 2962.0, 3250.0, 12180.0, 3321.0, 1287.0, -813.0, 2321.0, -1941.0, 4359.0, 5270.0, 2355.0, 4641.0, 3751.0, 1085.0, 4698.0, 3191.0, 12581.0, 1295.0, 2222.0, 4075.0, 3680.0, 2627.0, 1752.0, 7124.0, 2741.0, 1832.0, 5050.0, 2580.0, 1241.0, 2445.0, 5914.0, -272.0, 2967.0, 21664.0, -55.0, 2026.0, 3091.0, 1537.0, 866.0, 1313.0, 2169.0, 1498.0, 2600.0, 2496.0, 2512.0, 6622.0, 1564.0, 1654.0, 3287.0, 1296.0, 7938.0, 2138.0, 5799.0, 2014.0, 652.0, 1735.0, 4722.0, 7265.0, 5837.0, 25824.0, 5559.0, 925.0, 5818.0, 5092.0, 2043.0, 2491.0, 1562.0, 942.0, 521.0, 5251.0, 2641.0, 1989.0, 7434.0, 5830.0, 4266.0, 3706.0, 5838.0, 2703.0, 2374.0, 2239.0, 12877.0, 1318.0, 4515.0, 4471.0, 6613.0, 22946.0, 1364.0, 4110.0, 2409.0, 1911.0, 2801.0, 5279.0, 1321.0, 3957.0, 1490.0, 1409.0, 3942.0, 7944.0, 3329.0, 1979.0, 7388.0, 1359.0, 5253.0, 1200.0, -493.0, 2253.0, 3151.0, 2289.0, 1370.0, 7798.0, 3760.0, -501.0, 10721.0, 1524.0, 11265.0, 5836.0, 2310.0, 5048.0, 11008.0, 761.0, 4930.0, 5173.0, 5348.0, 6497.0, 17361.0, 3768.0, 2283.0, 17957.0, 7419.0, 4330.0, 1800.0, 2443.0, -448.0, 707.0, 3296.0, 2682.0, 1776.0, 2571.0, 1152.0, 9405.0, 1967.0, 1355.0, -1779.0, 4396.0, 2769.0, 29125.0, 5680.0, 12130.0, 2582.0, 4244.0, 1823.0, 1371.0, 2058.0, -687.0, 3236.0, 1670.0, 7451.0, 2092.0, 1826.0, 649.0, 2524.0, 10662.0, 7509.0, 6313.0, 4112.0, 1188.0, 1906.0, 1723.0, 3626.0, -1007.0, 1463.0, 5087.0, 4045.0, 4324.0, 7177.0, 3053.0, 5613.0, 1833.0, 6005.0, 4204.0, 2961.0, 1204.0, 2322.0, 10183.0, 6449.0, 4711.0, 9711.0, 3972.0, 508.0, 3134.0, -782.0, 5735.0, 13501.0, 2843.0, 237.0, 5109.0, 3846.0, 6495.0, 1282.0, 796.0, 2860.0, 3022.0, -453.0, 3062.0, 2340.0, -157.0, 7836.0, 3374.0, 5736.0, -859.0, 1782.0, 1331.0, 2228.0, 3388.0, 2184.0, 6835.0, 1062.0, -1968.0, 3054.0, 2266.0, 2830.0, -51.0, 4899.0, 2868.0, 6955.0, 1860.0, 3135.0, 2978.0, 746.0, 2057.0, 15477.0, 5320.0, 1465.0, 1777.0, 4365.0, 4994.0, 1697.0, 9689.0, 1517.0, 3717.0, 24055.0, 2886.0, 10984.0, 1876.0, 9311.0, 9103.0, 878.0, -223.0, 3164.0, 2559.0, 977.0, 27069.0, 3260.0, -771.0, -494.0, 3045.0, 1500.0, 1111.0, 3975.0, 1694.0, 9669.0, 3419.0, 2326.0, 1361.0, 10724.0, 3728.0, 3876.0, 3832.0, 5163.0, 12186.0, 2206.0, 911.0, 3075.0, 6859.0, 2820.0, 13494.0, -265.0, 2677.0, 12276.0, 3556.0, 3984.0, 5052.0, 3253.0, 3854.0, 6999.0, 3390.0, 5464.0, 3421.0, 1592.0, 4777.0, 4601.0, 9246.0, 9716.0, 2672.0, 6512.0, 2685.0, 2814.0, 2765.0, 7318.0, -879.0, 3233.0, 3895.0, 8403.0, 4134.0, 3166.0, -1049.0, -1002.0, 5078.0, 3765.0, 2980.0, 11285.0, 2968.0, 2526.0, 3129.0, 14902.0, 3190.0, 1515.0, 1679.0, 6298.0, 1009.0, 945.0, 13054.0, 1489.0, 6360.0, 2031.0, 2561.0, 3715.0, 2944.0, 2155.0, 1783.0, 2270.0, 1609.0, 2276.0, 3492.0, 1472.0, 2115.0, 10236.0, 2098.0, 2657.0, 17339.0, 4846.0, 1661.0, 4659.0, -580.0, 2716.0, 5804.0, 2288.0, 3815.0, 8652.0, 21522.0, -253.0, 2592.0, -468.0, -835.0, 3759.0, 2279.0, -153.0, 2103.0, 1881.0, 8289.0, 6207.0, 4294.0, 6100.0, 5299.0, -618.0, -722.0, -418.0, 837.0, -1680.0, -868.0, 3988.0, 3082.0, 2062.0, 971.0, -249.0, 7264.0, -584.0, -705.0, -400.0, -179.0, 2637.0, 6618.0, 2802.0, -492.0, 4805.0, 4385.0, 2648.0, -182.0, 4850.0, 3369.0, -1336.0, 9301.0, 506.0, 1444.0, 3531.0, 2220.0, 1447.0, 12245.0, -134.0, 4044.0, 3427.0, 2110.0, -1139.0, 3068.0, -117.0, 3003.0, 909.0, 13718.0, -1014.0, -597.0, 1392.0, 1133.0, -8019.0, 1507.0, 3969.0, 58932.0, -513.0, -1270.0, 2284.0, -594.0, 5038.0, 1346.0, 1688.0, 1086.0, 1926.0, 4688.0, -805.0, 4140.0, 4314.0, 2643.0, 979.0, 1457.0, 1274.0, 12389.0, 621.0, -230.0, 1106.0, 1923.0, 2736.0, -688.0, -145.0, 2699.0, 3604.0, -150.0, 51439.0, 4280.0, 3540.0, 8303.0, -692.0, 3694.0, 13229.0, 4442.0, 3493.0, 1249.0, -392.0, 1063.0, 3554.0, 1838.0, 2840.0, 1477.0, 663.0, -243.0, 7711.0, -128.0, 5262.0, 857.0, 1551.0, 5068.0, 1890.0, 4873.0, -948.0, 6350.0, 4816.0, 3440.0, 990.0, -201.0, 4855.0, 4488.0, -410.0, 19447.0, 1808.0, 6997.0, 4380.0, 1097.0, -422.0, 3324.0, 1751.0, 3872.0, -1112.0, 3800.0, 6404.0, -869.0, 6253.0, 3884.0, -191.0, 2113.0, 2621.0, 1683.0, -2093.0, 1560.0, -560.0, -1965.0, 3422.0, -728.0, 2583.0, -266.0, 4453.0, -677.0, -336.0, 3885.0, 2246.0, 4054.0, 2023.0, 9002.0, 3352.0, 3133.0, 898.0, -1415.0, 2063.0, 2072.0, 4597.0, -890.0, 1674.0, 1968.0, 2158.0, 2131.0, 9994.0, 1714.0, -504.0, 3386.0, 5127.0, 1198.0, 2483.0, 1338.0, 958.0, 888.0, -517.0, 2568.0, -404.0, 3527.0, 1220.0, 3415.0, 6586.0, 13160.0, 2460.0, -817.0, -73.0, 1672.0, 1339.0, -682.0, -670.0, 3814.0, -146.0, -86.0, 2848.0, -601.0, 1448.0, 3841.0, -608.0, 3038.0, -810.0, 1299.0, 2356.0, 2674.0, 1859.0, 2575.0, 706.0, -391.0, 2273.0, 2291.0, 1622.0, 1987.0, 2919.0, 1580.0, 2353.0, 3113.0, -123.0, 6739.0, 3016.0, 1276.0, -2282.0, 764.0, 2406.0, 7522.0, -621.0, 928.0, 7752.0, -731.0, 3864.0, 2686.0, -1386.0, 1228.0, -988.0, -352.0, 4353.0, 8224.0, -799.0, 1154.0, 1775.0, 4389.0, 4654.0, 3064.0, 4104.0, 5009.0, 7051.0, 4459.0, 4177.0, 1425.0, 2622.0, 3420.0, -563.0, 4048.0, 6014.0, 2818.0, 2265.0, -888.0, 2761.0, 7699.0, 3998.0, -188.0, 2987.0, 12939.0, -444.0, 1431.0, -1586.0, -839.0, 5705.0, 2249.0, 3500.0, 4387.0, 1305.0, 12731.0, -1038.0, 3919.0, 14058.0, 4909.0, 1142.0, -769.0, 2017.0, 5639.0, 727.0, 14611.0, 833.0, 2336.0, -797.0, 3530.0, 2894.0, 1396.0, 1360.0, 922.0, 6108.0, 2538.0, -1818.0, 2456.0, 2707.0, 10005.0, 2904.0, 2977.0, 2126.0, 1413.0, 2323.0, 2549.0, 5152.0, -1164.0, 1584.0, -643.0, 3286.0, -994.0, 4149.0, 4145.0, 2392.0, 5442.0, 2668.0, 1975.0, -714.0, 4824.0, -767.0, 2858.0, -193.0, 21963.0, 6324.0, -163.0, 4842.0, 1482.0, 1229.0, 2311.0, 2357.0, 1806.0, 2469.0, 3071.0, 5691.0, -1884.0, -558.0, -412.0, 2979.0, 2470.0, -6847.0, 2422.0, 2455.0, 2196.0, 2783.0, 1486.0, 1858.0, 2591.0, 2123.0, -1006.0, -60.0, -596.0, -910.0, 3795.0, 2690.0, -398.0, 1889.0, 2105.0, 6567.0, -609.0, -324.0, 45789.0, -1053.0, 3902.0, -433.0, 5169.0, 4344.0, 4758.0, 2611.0, 4279.0, 1703.0, 1406.0, -379.0, 1730.0, 5116.0, 5275.0, 3163.0, 2183.0, 2993.0, 3126.0, 4331.0, 968.0, 2991.0, 995.0, 2071.0, 4790.0, 1650.0, 1700.0, 2474.0, 1741.0, -709.0, 3263.0, -451.0, 2370.0, 1773.0, 4101.0, 14004.0, 1972.0, -225.0, 14930.0, -460.0, 6012.0, 4443.0, -550.0, 1532.0, 2471.0, 2156.0, -168.0, 6388.0, 8262.0, 5829.0, 3677.0, 8918.0, 2646.0, 3761.0, 1712.0, 22557.0, 3282.0, 1501.0, 2553.0, -129.0, 2661.0, 921.0, 1234.0, 9664.0, -806.0, 2502.0, 1281.0, 981.0, 1922.0, -577.0, 2729.0, 2702.0, 1747.0, -64.0, 4718.0, -985.0, 7612.0, 5567.0, 8873.0, 3226.0, 1565.0, -880.0, 2555.0, 1272.0, 1628.0, 2365.0, 13930.0, 5074.0, 1759.0, 1681.0, -525.0, 3485.0, 4696.0, 3195.0, 2959.0, 5423.0, 802.0, 5706.0, 4006.0, 1424.0, -300.0, 2903.0, 5505.0, 3432.0, 4069.0, 6475.0, 1644.0, -603.0, 2371.0, 1915.0, -646.0, 972.0, 9630.0, -77.0, 5156.0, -2082.0, -1493.0, 7041.0, 1587.0, 2972.0, 5533.0, -861.0, 3933.0, -1629.0, -216.0, 1439.0, -528.0, 2468.0, 1556.0, 2267.0, 3305.0, 3994.0, -631.0, 2125.0, -343.0, -933.0, 4321.0, 1912.0, -685.0, 13315.0, 1895.0, -499.0, 1725.0, 2130.0, 3542.0, 3333.0, -1246.0, 5624.0, 2263.0, 5483.0, 7547.0, 7190.0, 5176.0, 1149.0, 9881.0, 4675.0, 2534.0, 1525.0, 2381.0, 1655.0, 1896.0, 6269.0, 2578.0, 2625.0, 5934.0, 7254.0, 24312.0, 3726.0, 4381.0, 2332.0, -1661.0, 8605.0, 4413.0, 2298.0, 4295.0, 1452.0, -464.0, 4647.0, 2889.0, 2481.0, 1850.0, -82.0, 2664.0, 2681.0, 6657.0, 3297.0, 14530.0, 4968.0, -340.0, 2678.0, 3560.0, 2975.0, 5969.0, 13265.0, 5441.0, 1665.0, -874.0, 3307.0, 4481.0, 1181.0, -1451.0, 7159.0, 3161.0, 11254.0, 3438.0, 3293.0, 2350.0, 1817.0, -535.0, -440.0, 6641.0, 6535.0, 2739.0, 5632.0, 1383.0, 8226.0, 6486.0, 3831.0, 4576.0, 3414.0, 11310.0, 1223.0, 2892.0, 6671.0, 2613.0, 1302.0, 2922.0, 15681.0, -1598.0, 3188.0, 3721.0, 2173.0, 4664.0, 2366.0, 2489.0, 5486.0, 4000.0, 1175.0, 4194.0, 5414.0, 3536.0, 3337.0, 25290.0, 17410.0, 5681.0, 10347.0, 3023.0, 1837.0, 3842.0, -554.0, 4567.0, 1591.0, 1792.0, 689.0, 1518.0, -381.0, 4617.0, 1770.0, 2307.0, 3267.0, 20584.0, 13818.0, 4358.0, 5317.0, -697.0, 2924.0, 3079.0, 3308.0, 4853.0, 3936.0, 4900.0, 4336.0, -876.0, 8758.0, -1076.0, 2473.0, 3029.0, 2191.0, 3648.0, 4105.0, -1531.0, 2554.0, 4392.0, 5059.0, 2077.0, -459.0, 3036.0, 2258.0, 3549.0, 1077.0, 5350.0, 3384.0, 3366.0, 3770.0, 7365.0, 4656.0, 7441.0, 4401.0, 3211.0, 4697.0, 1822.0, -2827.0, -1176.0, -555.0, -612.0, 1362.0, -983.0, 4929.0, 5640.0, -570.0, 4879.0, 5850.0, -125.0, 1812.0, 6145.0, -923.0, -405.0, 5331.0, 10655.0, 4153.0, 1471.0, 8218.0, 2383.0, 2194.0, 2725.0, 4196.0, -466.0, 5181.0, 4439.0, -736.0, 3285.0, 5132.0, 4917.0, 4374.0, 1594.0, 2163.0, 4440.0, 2066.0, 14190.0, -742.0, 4492.0, 8973.0, -1091.0, 2053.0, 588.0, 6878.0, 3480.0, 1213.0, 2433.0, 6699.0, 5207.0, 2305.0, 3410.0, 5223.0, 4493.0, 1051.0, 2437.0, 2410.0, 21244.0, 1054.0, 3009.0, 11391.0, 7192.0, 1122.0, 3713.0, 4837.0, 3069.0, 9683.0, 5673.0, 9720.0, 534.0, 11655.0, 2879.0, 12438.0, 4725.0, 5361.0, 7668.0, 5094.0, 2048.0, 16922.0, 3400.0, 10888.0, 1251.0, 2139.0, 5443.0, -642.0, 4424.0, 1980.0, 7485.0, 14922.0, 2254.0, 2857.0, 5953.0, 1766.0, 13021.0, 2727.0, 3114.0, 1836.0, 5704.0, 7020.0, 3766.0, 4749.0, 3718.0, 2915.0, 3812.0, 1863.0, 5988.0, 24780.0, 14282.0, 801.0, 6134.0, 13189.0, 2221.0, 8279.0, 3025.0, 2401.0, 6359.0, 2556.0, 10757.0, 4535.0, 41923.0, 5926.0, 4333.0, -832.0, 2091.0, 5389.0, 4043.0, 10077.0, 11754.0, 3120.0, 868.0, 4765.0, 5340.0, 3098.0, 1738.0, 4953.0, 10273.0, 1675.0, 4108.0, -485.0, 4495.0, 3469.0, 5999.0, 14355.0, -1781.0, 4235.0, 4291.0, 6822.0, 3462.0, 1791.0, 4719.0, 5733.0, 834.0, 4490.0, 7303.0, -334.0, 3149.0, 5235.0, 2819.0, 6419.0, 5102.0, 2327.0, 5450.0, 2325.0, 9608.0, 66721.0, 5204.0, 42045.0, 3177.0, 5833.0, 8119.0, 1909.0, 2427.0, 2116.0, 1503.0, 3590.0, 8229.0, 1585.0, 2731.0, 12928.0, 2934.0, 10772.0, 6961.0, 8259.0, 19348.0, 3939.0, 7138.0, 9506.0, 1821.0, 3168.0, 2604.0, 8422.0, 4877.0, 4843.0, 9997.0, -344.0, 1264.0, 2723.0, 811.0, 5266.0, 9304.0, -534.0, 2148.0, 3353.0, 21510.0, 2300.0, 2900.0, 5016.0, 2907.0, 1963.0, 2711.0, 3786.0, 8844.0, 1639.0, 10088.0, 2093.0, 11971.0, 2745.0, 3897.0, 2846.0, 2759.0, 4596.0, 2277.0, 5108.0, 4231.0, 2950.0, 8408.0, 3568.0, 2750.0, 5665.0, 3843.0, 11797.0, 7567.0, 2421.0, 1763.0, 4889.0, 2388.0, 3470.0, 1148.0, 1569.0, 3194.0, 4123.0, 11835.0, 3723.0, 1512.0, 2018.0, -681.0, 13834.0, 4945.0, 8538.0, 1208.0, 7742.0, 4676.0, 6493.0, 2411.0, 3739.0, 1434.0, 8351.0, 3426.0, 2120.0, 3663.0, 5219.0, 9609.0, 14093.0, 3927.0, 2787.0, 3656.0, 5904.0, 2112.0, 5942.0, 3533.0, 7560.0, 2757.0, 3616.0, -777.0, 2419.0, 8304.0, 12409.0, 8138.0, 2347.0, 19213.0, 5907.0, -672.0, 3243.0, 3508.0, 11563.0, 1368.0, 3241.0, 6004.0, 23919.0, -1854.0, 8897.0, 2714.0, 1567.0, 4751.0, 1478.0, 1514.0, 3473.0, 1579.0, 8553.0, 3679.0, 3727.0, 6317.0, 7811.0, 2413.0, 3708.0, 6215.0, 1828.0, 3229.0, 4882.0, 15352.0, 4608.0, 3764.0, -1212.0, 2896.0, 1446.0, 6091.0, 4322.0, 4961.0, 6181.0, 3301.0, 10465.0, 9231.0, 8267.0, 1096.0, 5744.0, 1872.0, 5233.0, 3916.0, 20541.0, 4148.0, 5874.0, 4512.0, 11972.0, 3737.0, 2808.0, 2955.0, 6025.0, 6053.0, 4064.0, 5614.0, 2209.0, 3494.0, -1746.0, -1137.0, 5807.0, 2400.0, 3394.0, 6209.0, 4655.0, 1422.0, 1577.0, 5597.0, 996.0, 4861.0, 10786.0, 2816.0, 5769.0, 3856.0, -1613.0, 1420.0, 2970.0, -180.0, 1618.0, 2911.0, 6573.0, 3372.0, -605.0, -834.0, 2775.0, 5758.0, 4693.0, 2361.0, 3434.0, 10152.0, -710.0, -293.0, 15437.0, 8079.0, -161.0, 1840.0, 8300.0, 1344.0, -441.0, 10438.0, -231.0, 2629.0, 38279.0, -1668.0, 7032.0, 4943.0, 2951.0, 5231.0, 1692.0, 3220.0, 10189.0, 3981.0, 9228.0, 2341.0, 2154.0, 3215.0, 5865.0, 6687.0, 6570.0, -750.0, 6393.0, 9965.0, 3092.0, 2013.0, -301.0, 4306.0, 2362.0, 1638.0, 4386.0, 2405.0, 2299.0, 3703.0, 2485.0, 3510.0, 4612.0, -411.0, 11532.0, -723.0, 5261.0, 5698.0, 10122.0, 3294.0, 2793.0, 4185.0, 1018.0, 10685.0, 1506.0, -385.0, -548.0, 2683.0, 4763.0, -749.0, 6114.0, 7225.0, 6710.0, 3947.0, 6200.0, 6554.0, 8106.0, 9143.0, 2927.0, 10628.0, 5073.0, 3443.0, 3615.0, 10621.0, 2178.0, 4372.0, 2349.0, -1099.0, -1322.0, 6763.0, 6187.0, 3144.0, 4487.0, 4460.0, 1662.0, 2391.0, 4908.0, -1737.0, 7957.0, 6030.0, 7154.0, 9585.0, 15515.0, 9221.0, 1673.0, 5601.0, 7337.0, 2834.0, 2533.0, 6280.0, 1908.0, 1816.0, 13118.0, 2728.0, 2050.0, 4965.0, 3973.0, 7788.0, 5003.0, 6812.0, 5569.0, 2315.0, 1969.0, 15904.0, 9680.0, 3330.0, 6557.0, 3915.0, 4547.0, -824.0, 15298.0, 10950.0, 3360.0, 7487.0, 5177.0, 5550.0, 6880.0, 3288.0, 6086.0, 1440.0, 13338.0, 3184.0, 7876.0, 23917.0, -1980.0, 4782.0, 15088.0, 3362.0, 2395.0, 8449.0, 9634.0, 2414.0, 3665.0, 3779.0, 9622.0, 4210.0, 3199.0, 1167.0, 3095.0, 2695.0, 7353.0, 1642.0, 6325.0, 2488.0, 4720.0, 3563.0, 34646.0, 14215.0, 3392.0, 28433.0, 2449.0, 6691.0, 2225.0, 4367.0, 7132.0, 2302.0, 3148.0, 5887.0, 8463.0, 3452.0, 2521.0, -974.0, 10052.0, 893.0, 4373.0, 9149.0, 9827.0, 9139.0, 6170.0, 10054.0, 25947.0, 4329.0, 3562.0, 3481.0, 16377.0, 6376.0, 1494.0, 8332.0, 8902.0, 2117.0, 2454.0, 13410.0, 20479.0, 6703.0, 4610.0, 2498.0, 3334.0, 2836.0, 8029.0, 4332.0, 3579.0, 10112.0, 3264.0, 3222.0, 3905.0, 2916.0, 4455.0, 4558.0, 2118.0, 3255.0, 6284.0, 3262.0, 6610.0, 3031.0, 8163.0, 3387.0, 31868.0, 25856.0, 2985.0, 4728.0, 8136.0, 7197.0, 3586.0, 4247.0, 3818.0, -1041.0, 5421.0, 7296.0, 4971.0, 13763.0, 2442.0, 3398.0, 4564.0, 3396.0, 8402.0, 2306.0, -217.0, 2242.0, 8121.0, 3206.0, 1219.0, 5641.0, 3797.0, 1404.0, 13044.0, 2935.0, 5124.0, 41630.0, 9202.0, 23876.0, 10639.0, 14148.0, 1350.0, 3115.0, 8139.0, 11821.0, 9804.0, -374.0, 2914.0, 2832.0, -644.0, 1435.0, 9207.0, 3701.0, 2653.0, 4772.0, 2359.0, 2180.0, 2119.0, 3278.0, 17206.0, 10500.0, -962.0, 5399.0, 2122.0, 7369.0, 4133.0, 2095.0, 2149.0, 3655.0, 12584.0, 8413.0, 3228.0, 929.0, 5401.0, 3576.0, 15302.0, 1687.0, -1217.0, 2324.0, 5878.0, 3345.0, 5561.0, 3048.0, 956.0, 2320.0, 4328.0, 2069.0, 5060.0, 22546.0, 7649.0, 988.0, 2244.0, 7743.0, 5004.0, 3547.0, 2328.0, 8000.0, 20794.0, 10890.0, 3486.0, -432.0, 1246.0, 52527.0, 4948.0, 3995.0, -970.0, 2109.0, 905.0, 6619.0, 7635.0, 8097.0, 7621.0, 2384.0, 11305.0, -420.0, 10215.0, 4636.0, 23495.0, 1324.0, 1075.0, 7907.0, 13165.0, 9346.0, 5049.0, 817.0, 1006.0, 5809.0, 4990.0, 12766.0, 2861.0, 2519.0, 4709.0, 6264.0, 4354.0, 26394.0, 4028.0, 6271.0, 1083.0, 2039.0, 3874.0, 9135.0, 3197.0, 1174.0, -546.0, 3431.0, 11126.0, 2059.0, 5188.0, 43074.0, 3327.0, 3418.0, -995.0, -816.0, 6742.0, 24450.0, 29230.0, 4213.0, 2275.0, 6144.0, 3367.0, 4300.0, 9864.0, 17297.0, 7935.0, 5535.0, 7838.0, 17555.0, 4644.0, 6343.0, 9645.0, 4852.0, 4687.0, 10150.0, 915.0, 5910.0, 7863.0, 2094.0, 1158.0, 2673.0, 2396.0, 6563.0, 3724.0, 7084.0, 6748.0, 6485.0, 2204.0, -414.0, -1459.0, 9324.0, 2541.0, 4393.0, 6383.0, 4979.0, 5118.0, 3918.0, 5065.0, 5976.0, -1545.0, 4073.0, 7870.0, 5943.0, 3207.0, 2213.0, 2873.0, 3463.0, 3762.0, 2431.0, -542.0, -671.0, 1233.0, 20261.0, 2179.0, -997.0, 1946.0, 6288.0, 7175.0, -262.0, 7881.0, 1258.0, 6766.0, 1645.0, 8047.0, 6171.0, -490.0, -564.0, 6762.0, 3588.0, 4522.0, 4293.0, 21614.0, 1561.0, -708.0, 2595.0, -852.0, 3849.0, -359.0, 5936.0, 8312.0, 1056.0, 4577.0, 7554.0, 4695.0, 13099.0, 12519.0, 9214.0, 5303.0, 24556.0, 1159.0, 5346.0, 26254.0, 2415.0, 5254.0, 19268.0, 10250.0, 3537.0, 1947.0, 2329.0, 12026.0, 3912.0, 7506.0, 4683.0, 1970.0, 12857.0, 6490.0, 9916.0, 3585.0, 4152.0, -942.0, 7028.0, 8230.0, 5847.0, 8648.0, 6798.0, 7162.0, 2598.0, 8969.0, 5447.0, 1454.0, 5381.0, 2655.0, 1084.0, 5249.0, 17432.0, 4403.0, 7387.0, 5420.0, 5057.0, 5827.0, 3094.0, 5010.0, 4962.0, 12226.0, 5564.0, 14107.0, 1871.0, 3505.0, 20187.0, 6572.0, 3735.0, 5187.0, 4826.0, 1918.0, 4005.0, 16264.0, 7007.0, 2747.0, -637.0, 3150.0, 9678.0, 22341.0, 4504.0, 6274.0, -741.0, 5326.0, 4593.0, 34247.0, 11650.0, 3552.0, 3640.0, 2145.0, 1058.0, 7595.0, 2171.0, 12839.0, -1157.0, 3684.0, 1606.0, 7673.0, 13342.0, 7717.0, 26575.0, 4508.0, 4819.0, 9339.0, 2203.0, 4982.0, 4856.0, 16517.0, 1769.0, 1509.0, 4463.0, 8277.0, 7530.0, 14412.0, 1684.0, 8491.0, 6188.0, 5862.0, 4313.0, 5811.0, 10653.0, -934.0, 3520.0, 7848.0, -1361.0, 15520.0, 3970.0, 1441.0, 12845.0, 16786.0, 1901.0, 3340.0, 2878.0, 16397.0, 11591.0, 8563.0, 17655.0, 5343.0, 6384.0, -2604.0, 12569.0, 3046.0, 3442.0, -1080.0, 6362.0, 1984.0, 6000.0, 11887.0, 2746.0, 1356.0, 4428.0, 2141.0, -2122.0, -1882.0, 5816.0, 5037.0, 5957.0, 13853.0, 1943.0, 4885.0, 3572.0, 5674.0, 1095.0, 12539.0, -311.0, 9579.0, 7623.0, 5722.0, 12437.0, 6008.0, 4432.0, 8781.0, 3911.0, -998.0, 3584.0, 3564.0, 3074.0, 5964.0, 6043.0, 12256.0, 2744.0, 4717.0, 4278.0, 1682.0, 4845.0, 7118.0, 2390.0, 3941.0, 4649.0, 1760.0, 1520.0, 3889.0, 1886.0, 16869.0, 16358.0, 3136.0, 4591.0, 6286.0, 6851.0, 4411.0, 3428.0, 4103.0, 4262.0, 1983.0, 10218.0, 6191.0, 1810.0, 2520.0, 2762.0, 4189.0, 11246.0, 4475.0, 9102.0, 5945.0, 9347.0, 11524.0, 6451.0, 8038.0, 8093.0, 8309.0, 3711.0, 11281.0, 6337.0, 1993.0, 4480.0, 2004.0, 8004.0, 6077.0, 3700.0, 8863.0, 11494.0, 4395.0, 3851.0, 10995.0, 3080.0, 8619.0, 8583.0, 5338.0, 7249.0, -489.0, 2628.0, 5610.0, 3953.0, 12618.0, 5848.0, 6839.0, 2052.0, 1998.0, 7800.0, 2293.0, 2780.0, 5432.0, 12737.0, 8295.0, 3495.0, 5794.0, 5238.0, 4770.0, 8167.0, 6933.0, 4903.0, 10114.0, 3361.0, 3445.0, 7396.0, 12212.0, -483.0, 19358.0, 6333.0, 3610.0, 6649.0, 6921.0, 12048.0, 2451.0, 1543.0, 1902.0, 6964.0, 17008.0, -982.0, 9895.0, 16486.0, 4613.0, 17769.0, 9110.0, 32464.0, 8436.0, 5296.0, 6491.0, 9269.0, 8979.0, 10697.0, 6767.0, 2011.0, 10041.0, 6904.0, 22452.0, 2426.0, 20527.0, 4517.0, 8135.0, 8649.0, 15062.0, 1426.0, 98417.0, 4902.0, 8953.0, 5549.0, 2404.0, 3364.0, 5972.0, 6402.0, 8489.0, 6993.0, 2913.0, 4420.0, 15169.0, 9252.0, 20727.0, 5551.0, 8545.0, 11462.0, 6994.0, 2408.0, 2200.0, 7541.0, 13620.0, 2691.0, 3999.0, 8859.0, 12634.0, 6909.0, 2945.0, 1976.0, 10021.0, 7602.0, 4341.0, 7443.0, 11675.0, 29484.0, 6922.0, 7962.0, 8032.0, 4121.0, 2339.0, 8892.0, 3192.0, 8152.0, 2766.0, 5746.0, 1888.0, 10834.0, 4269.0, 3086.0, 6596.0, 11386.0, 3929.0, 3651.0, 10386.0, 13204.0, 10735.0, 14387.0, 4091.0, 4465.0, 16119.0, 16489.0, 6754.0, 3550.0, 3827.0, 5763.0, 10142.0, 8112.0, 7773.0, 12705.0, 7704.0, 2450.0, 7928.0, 3863.0, 5007.0, 10667.0, 9911.0, 17672.0, 13836.0, 8460.0, 2906.0, 3102.0, 21854.0, 2424.0, 7426.0, 8785.0, 1184.0, 1957.0, 3710.0, 5039.0, 17056.0, 7429.0, 7861.0, 18558.0, 3012.0, 3829.0, 11350.0, 4263.0, 3720.0, 4760.0, 6424.0, 4894.0, 2574.0, 5191.0, 6410.0, 6237.0, 6981.0, 7724.0, 14679.0, 2548.0, 7696.0, 16649.0, 1546.0, 4581.0, 9009.0, 19796.0, 8899.0, 2994.0, 3097.0, 11839.0, 3051.0, 10374.0, 5461.0, 7119.0, 12270.0, 13711.0, 3803.0, 5314.0, 3859.0, 3774.0, 6059.0, 4712.0, 7518.0, 5248.0, 5206.0, 7464.0, 7242.0, 2304.0, 18508.0, 7741.0, 4404.0, 6150.0, 7900.0, 2475.0, 19391.0, 4014.0, 5133.0, -1001.0, 14462.0, 5045.0, 4173.0, 20580.0, 4925.0, 5276.0, 1162.0, 9049.0, 5920.0, 4254.0, 8903.0, 8101.0, 6889.0, 1727.0, 1982.0, 3406.0, 4619.0, 14144.0, 10406.0, 1548.0, -1085.0, 4642.0, 3938.0, 8669.0, 4117.0, 6463.0, 3959.0, 5626.0, 5171.0, 44128.0, 4976.0, 6107.0, 6116.0, 36935.0, 1729.0, 5739.0, 8043.0, 41242.0, 3252.0, 4536.0, 27446.0, 22196.0, 5119.0, 9935.0, 8689.0, 6873.0, 17118.0, 14440.0, 16125.0, 2822.0, 37176.0, 19313.0, 3314.0, 8381.0, 2971.0, -529.0, 3653.0, 2245.0, 4119.0, 6080.0, 4503.0, 29207.0, 13489.0, 7384.0, 6432.0, 13015.0, 20179.0, -1122.0, 13851.0, 13354.0, 20932.0, 5784.0, 5600.0, 4402.0, -552.0, 9047.0, 1835.0, 2811.0, 3017.0, 3300.0, 7813.0, 13578.0, 57435.0, 11287.0, 4457.0, 6157.0, 5129.0, 5728.0, 3816.0, 6438.0, 23663.0, 2352.0, 7708.0, 22520.0, 4969.0, 4713.0, 13901.0, 14522.0, 29397.0, 17924.0, 16236.0, 2640.0, 2045.0, 2734.0, 7641.0, 8131.0, 3534.0, 9898.0, 6158.0, 3636.0, 2633.0, 4418.0, 6673.0, 2380.0, 12704.0, 7482.0, 22125.0, 15120.0, 15423.0, 22569.0, 3821.0, 6695.0, 4809.0, 5996.0, 2618.0, 3451.0, 7825.0, 6056.0, 20798.0, 6825.0, 9319.0, 2937.0, 6808.0, 9531.0, -264.0, 8554.0, 8883.0, 4127.0, -648.0, 1899.0, 8025.0, 3662.0, 3049.0, 4557.0, -1089.0, 1369.0, -321.0, 8585.0, 1796.0, 4130.0, 1709.0, 4721.0, 4638.0, -296.0, -462.0, -155.0, 4959.0, 4022.0, 1418.0, 3914.0, 10536.0, 16957.0, 2735.0, 4634.0, 6507.0, -452.0, 2202.0, 3578.0, -600.0, 5717.0, 1724.0, 3466.0, 6683.0, 6411.0, 2212.0, 3234.0, 1745.0, 3982.0, 1277.0, 5742.0, 3204.0, 2992.0, -735.0, -1161.0, 19833.0, 17418.0, -969.0, 8141.0, 2162.0, -1317.0, 3244.0, 5126.0, 3962.0, 10451.0, 1941.0, 6857.0, 7984.0, 4317.0, -481.0, 7822.0, 6745.0, 3175.0, -624.0, 5437.0, 3857.0, 5701.0, 6016.0, 15161.0, 2037.0, 2841.0, 7289.0, 1948.0, 11093.0, 2803.0, 5315.0, 6112.0, 8626.0, 5797.0, 8037.0, 8118.0, 23494.0, 6178.0, 19706.0, -515.0, 2713.0, 5082.0, 3026.0, 11371.0, 13565.0, 3685.0, 3850.0, 14889.0, 5885.0, 4007.0, 6162.0, 2088.0, 4967.0, 4831.0, 1921.0, -980.0, 3881.0, 20772.0, 6172.0, 2189.0, 6132.0, 3805.0, 6817.0, 2853.0, 7895.0, 7351.0, 1436.0, 12495.0, 3908.0, 4383.0, 6915.0, 1774.0, 2616.0, 5737.0, 9160.0, 3611.0, 3322.0, 7114.0, 4554.0, 14344.0, 7357.0, -812.0, 2740.0, 7433.0, 6684.0, 1586.0, 26721.0, 6106.0, 3358.0, -780.0, 2953.0, 14850.0, 3342.0, 4588.0, 3247.0, 3000.0, 6101.0, 5798.0, 8104.0, 5927.0, 3977.0, 6492.0, 2701.0, 1702.0, 5679.0, 3103.0, 4158.0, 9146.0, 6413.0, 2297.0, 13238.0, 5574.0, 3623.0, 6945.0, 3681.0, 6529.0, 4016.0, 2705.0, 4914.0, 3335.0, 12177.0, 6562.0, 5495.0, 3820.0, 2584.0, 4570.0, 2939.0, 8971.0, -886.0, 4874.0, 3777.0, 7073.0, 1578.0, 5167.0, -533.0, 22815.0, 7744.0, 3413.0, 1647.0, 2809.0, 2676.0, 6743.0, 5603.0, 4348.0, 4450.0, 3501.0, -506.0, 2233.0, 8749.0, 7424.0, 5514.0, 2807.0, 4960.0, 1469.0, 7089.0, 4544.0, 17092.0, 10378.0, 6153.0, 2101.0, 2165.0, 7338.0, 18777.0, 5776.0, 2928.0, 10031.0, 26172.0, 4589.0, 14232.0, 9072.0, 10443.0, 11766.0, 2168.0, 4319.0, 12223.0, 2280.0, 8647.0, 3024.0, 2650.0, 6929.0, 18268.0, 7558.0, 3317.0, 26306.0, 3498.0, 12675.0, 3187.0, 3780.0, 3910.0, 8399.0, 8515.0, 7245.0, 5393.0, 5562.0, 2875.0, 9851.0, 7104.0, 10395.0, 8077.0, 9670.0, 4906.0, 5806.0, 4335.0, 20138.0, 7100.0, 4223.0, 9774.0, 4888.0, 20451.0, 5250.0, 2675.0, 3605.0, 3035.0, 6888.0, 6503.0, 3817.0, 3459.0, 5075.0, 3379.0, 6958.0, 3167.0, 5220.0, 11998.0, 4094.0, 12132.0, -1011.0, 6316.0, 2817.0, 5368.0, 15474.0, 5347.0, 2948.0, 11222.0, 6542.0, 7766.0, 24498.0, 9750.0, 3266.0, 6900.0, 16178.0, 6385.0, 2856.0, 4847.0, 36221.0, 3072.0, 4312.0, 4764.0, 5787.0, 8265.0, 4932.0, -593.0, 5978.0, 3869.0, 4274.0, 1458.0, 5715.0, 962.0, 4769.0, 2743.0, 1955.0, 3519.0, 8990.0, 3156.0, 6236.0, 13297.0, 5372.0, 5061.0, 2170.0, 5496.0, 44134.0, 3461.0, 2338.0, 7990.0, 7408.0, 10613.0, 4126.0, 4082.0, 4253.0, 19102.0, 17747.0, 3172.0, 2663.0, 3738.0, 3030.0, 11298.0, 15261.0, 4987.0, 2709.0, 17609.0, 19985.0, 2981.0, 4736.0, 26831.0, 3349.0, 11862.0, 4991.0, 7702.0, 4657.0, 4700.0, 2506.0, 5355.0, 4047.0, 23878.0, 7613.0, 2509.0, 2021.0, 2503.0, 3730.0, 3917.0, 2881.0, 2033.0, 4562.0, 10180.0, 8674.0, 3698.0, 6551.0, 4447.0, 6422.0, 4461.0, 8929.0, 5810.0, 5157.0, 1740.0, 10768.0, 4886.0, 8866.0, 9329.0, 5916.0, 2786.0, 6706.0, 9601.0, 3858.0, 9676.0, 2756.0, 2833.0, 6468.0, 10469.0, 5780.0, 13408.0, 2772.0, -2712.0, 4099.0, 4629.0, 5417.0, 10200.0, 7263.0, 3943.0, 11767.0, 3740.0, 2290.0, 2531.0, 5076.0, 17441.0, 1885.0, 2484.0, 8623.0, 3323.0, 5949.0, 12039.0, 11555.0, 2726.0, 4726.0, 2544.0, 3315.0, 6533.0, 3268.0, 5396.0, 2901.0, 3752.0, 5110.0, 5467.0, 5271.0, 11066.0, 13669.0, 15485.0, 5445.0, 4394.0, 1528.0, 7685.0, 11387.0, 2689.0, 11174.0, 3612.0, 21446.0, 2337.0, 2301.0, 5542.0, 2669.0, 8311.0, 6483.0, 2964.0, 3771.0, 2511.0, 5012.0, -277.0, 6627.0, 5511.0, 7048.0, 2358.0, 5354.0, 8444.0, 13546.0, 2264.0, -3058.0, 5795.0, 7107.0, -447.0, 4771.0, 8148.0, 3669.0, 3217.0, 9305.0, 2988.0, 5873.0, 2025.0, 7785.0, 3688.0, 2159.0, 4887.0, 6637.0, 1935.0, 1843.0, 20011.0, 17332.0, 1334.0, 5452.0, 4867.0, 17335.0, -362.0, 4240.0, 2974.0, 1153.0, 8637.0, 3458.0, -865.0, 3870.0, 3203.0, 4095.0, 1892.0, 6807.0, 8826.0, 21024.0, -895.0, 2111.0, 9698.0, 1978.0, 11968.0, 15841.0, 7102.0, 6707.0, 6677.0, 6947.0, 2129.0, 10086.0, 10925.0, 9480.0, 3391.0, 8556.0, 10281.0, 10072.0, 3792.0, 5193.0, 3377.0, -169.0, 3027.0, 6770.0, 20723.0, 3446.0, 6791.0, 6690.0, 5583.0, 3403.0, 11115.0, 7345.0, 3794.0, 2487.0, 1737.0, 5106.0, 7791.0, 4859.0, 31630.0, 2016.0, 4684.0, 4287.0, 3511.0, 2969.0, 5341.0, 11632.0, 5802.0, 919.0, 4539.0, 27696.0, 4041.0, 36686.0, 10252.0, 3141.0, 7780.0, 2333.0, 8947.0, 8876.0, 4236.0, 2187.0, 10907.0, 10354.0, 11278.0, 2458.0, 10884.0, 2107.0, 4229.0, 6212.0, 5872.0, -582.0, 4116.0, 4430.0, 3145.0, 2160.0, 2572.0, 10177.0, -368.0, 6392.0, 2829.0, 3921.0, -738.0, 4761.0, 9328.0, 8339.0, 6352.0, 2799.0, 4835.0, 3033.0, 2882.0, 1864.0, -569.0, 10924.0, 6882.0, 5990.0, 5289.0, -940.0, 2777.0, 2465.0, 4860.0, 6837.0, 6332.0, -177.0, 4239.0, -786.0, 11639.0, 4031.0, 34230.0, 8509.0, 2891.0, 5365.0, 2090.0, 1753.0, 8366.0, -1224.0, 2417.0, 11757.0, 5214.0, 3014.0, 11103.0, 3271.0, 3806.0, 9083.0, 3041.0, 9449.0, -703.0, 3507.0, -808.0, 6346.0, 9306.0, 1608.0, -1105.0, 4500.0, 5130.0, -853.0, -438.0, -1636.0, -523.0, 3499.0, 18254.0, 2377.0, 4714.0, -1092.0, -811.0, 5789.0, 2182.0, 11686.0, 7279.0, -487.0, 23552.0, 2825.0, 5709.0, 4978.0, 4786.0, 1787.0, 5548.0, 3551.0, 15035.0, 3412.0, 14657.0, 2495.0, -553.0, 10558.0, 1419.0, 4227.0, 3632.0, 6737.0, -1601.0, 3409.0, 4937.0, -639.0, -946.0, 5918.0, 3371.0, 5828.0, 12392.0, 9618.0, 8040.0, 2268.0, -664.0, 4406.0, 6831.0, 1398.0, 6182.0, 2436.0, -930.0, -966.0, 28318.0, 2755.0, 4527.0, 2567.0, 6089.0, -976.0, 3309.0, 2447.0, 11177.0, 8548.0, 5845.0, 2542.0, 8536.0, 6095.0, 8654.0, 7973.0, 4954.0, 7066.0, 10357.0, 4602.0, 5781.0, 3695.0, -967.0, -450.0, 4561.0, 3573.0, 10191.0, 9277.0, 4260.0, 10910.0, 6781.0, 6979.0, 1479.0, 4062.0, 4974.0, 5997.0, 5774.0, 5854.0, 4872.0, -1313.0, 7531.0, 16874.0, 11854.0, 13460.0, 11752.0, 4869.0, 5792.0, 4382.0, 5089.0, -1329.0, -449.0, 3347.0, 10773.0, -348.0, 16563.0, 2164.0, 7103.0, 4211.0, -667.0, 12198.0, 6013.0, -887.0, 10133.0, -1730.0, 2368.0, 2752.0, 2692.0, 2684.0, 5643.0, -706.0, -472.0, -1414.0, 4256.0, 12607.0, 6971.0, 8094.0, 3274.0, 3733.0, 3993.0, 2208.0, 8023.0, 5741.0, 13094.0, 7620.0, 5689.0, 5091.0, 3399.0, 4792.0, 11303.0, 4311.0, 21088.0, 17023.0, 15459.0, 2232.0, 5359.0, 3471.0, 7818.0, 13107.0, 39098.0, 3280.0, 3824.0, 16873.0, 10758.0, 3178.0, 2789.0, 4578.0, 4920.0, 5993.0, 5215.0, 3109.0, 4298.0, 2444.0, 5367.0, 2587.0, 27624.0, 2694.0, 2632.0, 4545.0, 7222.0, 3402.0, 102127.0, 5142.0, 7255.0, 8963.0, 4132.0, 2389.0, 22086.0, 5265.0, 9756.0, 3290.0, 6574.0, 6246.0, 3357.0, 4216.0, 5666.0, 29184.0, 10346.0, 4694.0, 4708.0, 3518.0, 20585.0, 3232.0, 2461.0, 14533.0, 2009.0, 6711.0, 9902.0, 5966.0, 2543.0, 13164.0, 9314.0, 7781.0, 19690.0, 9629.0, 23592.0, 5946.0, 11904.0, 5084.0, 3796.0, 9883.0, 8725.0, 5973.0, 26452.0, 7003.0, 5474.0, 5491.0, 7879.0, 4605.0, 12767.0, 19317.0, 7386.0, 5539.0, 4297.0, 10532.0, 9064.0, 6983.0, 8103.0, 6400.0, 7050.0, 5112.0, 10861.0, 2046.0, 10394.0, 4092.0, 3450.0, 1853.0, 20422.0, 2794.0, 6991.0, 11219.0, 3138.0, 7633.0, 1643.0, 10373.0, 5805.0, 2493.0, 2859.0, 8066.0, 3118.0, 13014.0, 9367.0, 6027.0, 10776.0, 18111.0, 6844.0, 4833.0, 3368.0, 16432.0, 4147.0, 7218.0, 15265.0, 7585.0, 10171.0, 4083.0, 6320.0, 3411.0, 10905.0, 5871.0, 10253.0, 9962.0, 8514.0, 3186.0, 4068.0, 5584.0, 14170.0, 5473.0, 8494.0, 5631.0, 17875.0, 1519.0, 4985.0, 7546.0, 24277.0, 59649.0, 6199.0, 7968.0, 6850.0, 13450.0, 9447.0, 4744.0, 4451.0, 1991.0, 6538.0, 13887.0, 2815.0, 6046.0, 10943.0, 10583.0, 1711.0, 39385.0, 2140.0, 15834.0, 6036.0, 6784.0, 26233.0, 2917.0, 71188.0, 2983.0, 7111.0, 2579.0, 8692.0, 1830.0, 7469.0, 4017.0, 4079.0, 6481.0, 10889.0, 12067.0, 4912.0, 3810.0, 24025.0, 6746.0, 4807.0, 8603.0, 14646.0, 5063.0, 4572.0, 16935.0, 11240.0, 7945.0, 4984.0, 3213.0, 2230.0, 3951.0, 3654.0, 8278.0, 7687.0, 7458.0, 7974.0, 8729.0, 8434.0, 9317.0, 1992.0, 4412.0, 12401.0, 10541.0, 9224.0, 6279.0, 4162.0, 2134.0, 9366.0, 8044.0, 3417.0, 4745.0, 2863.0, 5695.0, 4922.0, 2282.0, 9421.0, 4198.0, 6728.0, 3624.0, 18881.0, 11891.0, 13658.0, 8334.0, 2986.0, 6963.0, 10788.0, 81204.0, 2795.0, 6447.0, 6718.0, 1962.0, 5021.0, 2855.0, 8919.0, 18967.0, 7802.0, 23421.0, 4468.0, 6571.0, 3310.0, 37127.0, 4448.0, 10185.0, 7819.0, 52587.0, 3219.0, 4623.0, 8465.0, 4129.0, 12980.0, 6771.0, 7010.0, 29340.0, 2027.0, 5196.0, 7826.0, 5958.0, 8750.0, 7608.0, 5236.0, 7628.0, 3848.0, 12264.0, 10596.0, 5083.0, 7529.0, 26965.0, 5861.0, 2779.0, 15311.0, 5047.0, 3006.0, 7203.0, 4305.0, 7622.0, 3745.0, 2838.0, 2335.0, 4531.0, 12356.0, 5008.0, 4533.0, 3189.0, 23047.0, 5397.0, 3338.0, 10971.0, 2060.0, 3143.0, 5114.0, 4071.0, 29080.0, 6651.0, 1809.0, 4738.0, 2733.0, 4803.0, 9299.0, 31472.0, 6879.0, 5475.0, 4124.0, 14968.0, 5944.0, 3904.0, 18931.0, 3591.0, 3504.0, 6980.0, 1719.0, 4606.0, 14352.0, 4565.0, 4680.0, 8165.0, 4951.0, 6403.0, 17458.0, 4416.0, 9710.0, 14204.0, 16353.0, 5608.0, 12114.0, 32685.0, 4808.0, 11385.0, 7336.0, 4066.0, 5005.0, 4910.0, 1997.0, 8666.0, 8860.0, 4661.0, 5043.0, 2614.0, 8982.0, -961.0, 6662.0, 4020.0, 3302.0, 13654.0, 9610.0, 4137.0, 4795.0, 16727.0, 6700.0, 13562.0, -632.0, 7604.0, 7468.0, 36252.0, 20453.0, 3221.0, 6368.0, 4182.0, 9154.0, 3363.0, 25204.0, 9262.0, 1481.0, 6205.0, -1490.0, 6242.0, -1944.0, 2386.0, 6815.0, 7400.0, 5293.0, 4592.0, 4986.0, 3589.0, 15030.0, 2108.0, 2565.0, 2965.0, -978.0, 3332.0, 4778.0, 8821.0, 24598.0, -531.0, -747.0, -4057.0, 4575.0, 5757.0, 1856.0, 9336.0, 8950.0, 10269.0, 7578.0, 5749.0, 4118.0, 4339.0, 3748.0, 2464.0, 6968.0, 1931.0, 12322.0, 5313.0, 15787.0, 15187.0, 8319.0, 8535.0, 18016.0, 5312.0, 3276.0, 4829.0, 4290.0, 6797.0, 12972.0, 4111.0, 11262.0, 7918.0, 2161.0, 14220.0, 17739.0, 7331.0, 4775.0, 3702.0, 2463.0, 10332.0, 12018.0, 7105.0, 6513.0, 3949.0, 4276.0, 5619.0, 7929.0, 9001.0, 3157.0, 3208.0, 29941.0, 4024.0, 5329.0, 13774.0, 7038.0, 8205.0\n",
      "housing: \"yes\", \"no\", 12, \"cellular\"\n",
      "loan: \"no\", \"yes\", \"jun\", 9\n",
      "contact: \"unknown\", \"cellular\", \"telephone\", 189, \"feb\"\n",
      "day: 5, nan, 6, 7, 8, 9, 12, 13, 14, 15, 16, 19, 20, 21, 23, 26, 27, 28, 29, 30, 2, 3, 4, 11, 17, 18, 24, 25, 1, 10, 22, 31, 415\n",
      "month: \"may\", \"jun\", \"jul\", \"aug\", -1, \"oct\", \"nov\", \"dec\", \"jan\", \"feb\", \"mar\", \"apr\", \"sep\", 4\n",
      "duration: 261.0, 151.0, 76.0, 257.9029236844981, 198.0, 139.0, 217.0, 380.0, 50.0, 55.0, 222.0, 137.0, 517.0, 71.0, 174.0, 353.0, 98.0, 38.0, 219.0, 54.0, 262.0, 164.0, 160.0, 342.0, 296.0, 127.0, 255.0, 348.0, 225.0, 230.0, 208.0, 226.0, 336.0, 242.0, 365.0, 1666.0, 180.0, 22.0, 1492.0, 355.0, 363.0, 266.0, 253.0, 179.0, 787.0, 145.0, 104.0, 13.0, 185.0, 138.0, 812.0, 391.0, 357.0, 91.0, 273.0, 158.0, 258.0, 172.0, 154.0, 291.0, 181.0, 176.0, 211.0, 193.0, 20.0, 1042.0, 246.0, 529.0, 1389.0, 188.0, 48.0, 583.0, 221.0, 173.0, 287.0, 101.0, 203.0, 197.0, 124.0, 229.0, 400.0, 21.0, 514.0, 849.0, 194.0, 144.0, 212.0, 286.0, 107.0, 518.0, 178.0, 439.0, 79.0, 120.0, 175.0, 61.0, 78.0, 143.0, 579.0, 677.0, 345.0, 125.0, 73.0, 528.0, 541.0, 301.0, 204.0, 243.0, 186.0, 163.0, 610.0, 2033.0, 85.0, 114.0, 57.0, 238.0, 93.0, 128.0, 303.0, 558.0, 270.0, 240.0, 673.0, 233.0, 1056.0, 252.0, 412.0, 19.0, 458.0, 717.0, 313.0, 683.0, 1077.0, 416.0, 146.0, 167.0, 315.0, 346.0, 562.0, 142.0, 67.0, 309.0, 248.0, 256.0, 82.0, 577.0, 477.0, 611.0, 381.0, 42.0, 251.0, 215.0, 366.0, 210.0, 288.0, 168.0, 338.0, 410.0, 177.0, 136.0, 1419.0, 213.0, 27.0, 18.0, 730.0, 746.0, 121.0, 247.0, 206.0, 389.0, 702.0, 232.0, 408.0, 282.0, 714.0, 227.0, 119.0, 361.0, 350.0, 113.0, 58.0, 89.0, 152.0, 110.0, 463.0, 962.0, 92.0, 234.0, 75.0, 189.0, 621.0, 310.0, 156.0, 5.0, 2.0, 362.0, 200.0, 126.0, 65.0, 267.0, 209.0, 83.0, 106.0, 108.0, 311.0, 214.0, 358.0, 364.0, 386.0, 241.0, 224.0, 148.0, 196.0, 111.0, 231.0, 316.0, 216.0, 669.0, 425.0, 135.0, 402.0, 183.0, 325.0, 503.0, 95.0, 680.0, 421.0, 808.0, 195.0, 404.0, 396.0, 88.0, 379.0, 306.0, 218.0, 652.0, 184.0, 235.0, 290.0, 133.0, 318.0, 260.0, 437.0, 501.0, 1201.0, 1030.0, 149.0, 769.0, 199.0, 424.0, 43.0, 326.0, 483.0, 259.0, 576.0, 90.0, 505.0, 245.0, 623.0, 496.0, 118.0, 87.0, 744.0, 765.0, 112.0, 278.0, 140.0, 1623.0, 187.0, 451.0, 159.0, 409.0, 170.0, 608.0, 53.0, 134.0, 182.0, 699.0, 97.0, 1677.0, 283.0, 323.0, 47.0, 472.0, 448.0, 264.0, 169.0, 337.0, 190.0, 157.0, 46.0, 349.0, 531.0, 153.0, 80.0, 918.0, 269.0, 371.0, 263.0, 162.0, 150.0, 191.0, 26.0, 250.0, 123.0, 130.0, 268.0, 383.0, 427.0, 69.0, 524.0, 96.0, 155.0, 390.0, 369.0, 341.0, 526.0, 36.0, 1906.0, 147.0, 407.0, 339.0, 285.0, 289.0, 703.0, 802.0, 304.0, 392.0, 201.0, 328.0, 116.0, 293.0, 37.0, 530.0, 29.0, 312.0, 284.0, 100.0, 507.0, 333.0, 322.0, 739.0, 308.0, 467.0, 320.0, 64.0, 378.0, 1597.0, 276.0, 132.0, 31.0, 593.0, 99.0, 1529.0, 254.0, 314.0, 207.0, 305.0, 122.0, 66.0, 343.0, 249.0, 406.0, 220.0, 51.0, 117.0, 275.0, 35.0, 202.0, 720.0, 70.0, 141.0, 395.0, 629.0, 502.0, 446.0, 131.0, 292.0, 68.0, 32.0, 852.0, 923.0, 953.0, 102.0, 74.0, 520.0, 171.0, 485.0, 374.0, 228.0, 732.0, 359.0, 161.0, 800.0, 615.0, 354.0, 327.0, 236.0, 109.0, 298.0, 1138.0, 295.0, 591.0, 294.0, 388.0, 401.0, 223.0, 423.0, 634.0, 444.0, 566.0, 274.0, 376.0, 866.0, 56.0, 1581.0, 279.0, 129.0, 60.0, 432.0, 614.0, 650.0, 72.0, 474.0, 559.0, 912.0, 690.0, 329.0, 1062.0, 688.0, 103.0, 607.0, 398.0, 2177.0, 418.0, 332.0, 441.0, 105.0, 764.0, 297.0, 1273.0, 1574.0, 62.0, 564.0, 299.0, 244.0, 548.0, 984.0, 41.0, 697.0, 319.0, 944.0, 1102.0, 280.0, 77.0, 239.0, 943.0, 94.0, 84.0, 1040.0, 622.0, 1084.0, 604.0, 693.0, 405.0, 462.0, 39.0, 471.0, 166.0, 1119.0, 12.0, 494.0, 1120.0, 81.0, 33.0, 784.0, 665.0, 475.0, 63.0, 712.0, 459.0, 237.0, 500.0, 513.0, 352.0, 384.0, 442.0, 756.0, 205.0, 14.0, 44.0, 422.0, 807.0, 347.0, 534.0, 28.0, 2087.0, 453.0, 627.0, 403.0, 626.0, 23.0, 543.0, 34.0, 45.0, 617.0, 335.0, 7.0, 956.0, 257.0, 10.0, 985.0, 300.0, 672.0, 481.0, 192.0, 393.0, 330.0, 277.0, 49.0, 461.0, 515.0, 272.0, 17.0, 40.0, 1187.0, 466.0, 826.0, 598.0, 584.0, 847.0, 659.0, 307.0, 772.0, 929.0, 375.0, 165.0, 480.0, 86.0, 399.0, 2462.0, 484.0, 25.0, 825.0, 479.0, 490.0, 545.0, 115.0, 646.0, 377.0, 544.0, 324.0, 1028.0, 654.0, 1087.0, 1692.0, 24.0, 2016.0, 1054.0, 344.0, 1170.0, 1713.0, 663.0, 1080.0, 1461.0, 455.0, 750.0, 1178.0, 488.0, 460.0, 878.0, 317.0, 834.0, 1534.0, 1002.0, 592.0, 59.0, 757.0, 523.0, 281.0, 486.0, 539.0, 788.0, 1495.0, 493.0, 3.0, 891.0, 1266.0, 619.0, 413.0, 596.0, 495.0, 370.0, 1727.0, 456.0, 1875.0, 334.0, 504.0, 723.0, 1346.0, 449.0, 382.0, 1386.0, 428.0, 360.0, 568.0, 3366.0, 1000.0, 618.0, 415.0, 351.0, 2231.0, 705.0, 373.0, 340.0, 1167.0, 302.0, 806.0, 766.0, 1015.0, 521.0, 768.0, 473.0, 1001.0, 845.0, 853.0, 813.0, 916.0, 443.0, 431.0, 565.0, 708.0, 265.0, 434.0, 805.0, 535.0, 901.0, 271.0, 420.0, 367.0, 411.0, 851.0, 331.0, 647.0, 771.0, 945.0, 816.0, 492.0, 1032.0, 735.0, 942.0, 476.0, 832.0, 824.0, 686.0, 435.0, 1125.0, 429.0, 858.0, 704.0, 546.0, 760.0, 869.0, 833.0, 356.0, 930.0, 829.0, 749.0, 438.0, 387.0, 850.0, 977.0, 927.0, 8.0, 762.0, 1044.0, 668.0, 468.0, 554.0, 436.0, 902.0, 321.0, 574.0, 636.0, 738.0, 482.0, 567.0, 2241.0, 1118.0, 1423.0, 414.0, 747.0, 1013.0, 1162.0, 755.0, 644.0, 1088.0, 1036.0, 695.0, 599.0, 30.0, 1257.0, 1165.0, 651.0, 417.0, 587.0, 452.0, 920.0, 1244.0, 657.0, 597.0, 525.0, 759.0, 815.0, 911.0, 973.0, 561.0, 1224.0, 589.0, 964.0, 52.0, 1156.0, 1052.0, 1231.0, 440.0, 1051.0, 1392.0, 419.0, 1263.0, 770.0, 487.0, 430.0, 516.0, 855.0, 491.0, 512.0, 803.0, 844.0, 656.0, 1252.0, 1143.0, 731.0, 537.0, 754.0, 601.0, 679.0, 1230.0, 767.0, 631.0, 489.0, 894.0, 865.0, 1161.0, 698.0, 557.0, 1128.0, 509.0, 1135.0, 1408.0, 827.0, 4.0, 522.0, 1193.0, 1144.0, 1023.0, 469.0, 385.0, 498.0, 1064.0, 594.0, 882.0, 792.0, 798.0, 1203.0, 1022.0, 643.0, 590.0, 457.0, 445.0, 394.0, 1622.0, 967.0, 470.0, 3078.0, 16.0, 661.0, 1205.0, 532.0, 1882.0, 1334.0, 775.0, 793.0, 572.0, 447.0, 1777.0, 638.0, 1452.0, 464.0, 547.0, 1376.0, 1182.0, 742.0, 1045.0, 625.0, 1063.0, 1410.0, 550.0, 6.0, 15.0, 1287.0, 465.0, 843.0, 919.0, 777.0, 725.0, 719.0, 692.0, 905.0, 783.0, 1106.0, 872.0, 641.0, 648.0, 951.0, 578.0, 795.0, 542.0, 828.0, 786.0, 649.0, 1091.0, 748.0, 836.0, 506.0, 450.0, 899.0, 588.0, 660.0, 1681.0, 1409.0, 573.0, 811.0, 1697.0, 860.0, 1094.0, 575.0, 965.0, 799.0, 671.0, 397.0, 935.0, 713.0, 433.0, 1349.0, 736.0, 785.0, 1073.0, 700.0, 533.0, 881.0, 691.0, 563.0, 556.0, 1003.0, 773.0, 922.0, 553.0, 1438.0, 937.0, 569.0, 372.0, 368.0, 1222.0, 426.0, 1034.0, 1066.0, 897.0, 511.0, 581.0, 1099.0, 682.0, 974.0, 745.0, 863.0, 664.0, 536.0, 1560.0, 1234.0, 642.0, 729.0, 895.0, 796.0, 724.0, 603.0, 1272.0, 1446.0, 454.0, 896.0, 763.0, 633.0, 560.0, 955.0, 1297.0, 674.0, 740.0, 776.0, 600.0, 751.0, 709.0, 570.0, 3094.0, 662.0, 676.0, 1168.0, 551.0, 938.0, 582.0, 678.0, 1210.0, 821.0, 497.0, 1183.0, 675.0, 694.0, 612.0, 1730.0, 667.0, 1277.0, 620.0, 1196.0, 733.0, 791.0, 1236.0, 936.0, 932.0, 689.0, 609.0, 726.0, 1059.0, 789.0, 637.0, 752.0, 814.0, 859.0, 1363.0, 1109.0, 645.0, 2260.0, 711.0, 555.0, 867.0, 854.0, 1269.0, 868.0, 510.0, 1097.0, 1500.0, 613.0, 1212.0, 886.0, 1343.0, 1980.0, 722.0, 888.0, 1075.0, 527.0, 658.0, 758.0, 966.0, 605.0, 1173.0, 963.0, 538.0, 941.0, 1025.0, 478.0, 801.0, 2456.0, 959.0, 1259.0, 11.0, 666.0, 1516.0, 1336.0, 1242.0, 1141.0, 1519.0, 1449.0, 1181.0, 908.0, 624.0, 910.0, 1149.0, 1123.0, 508.0, 1009.0, 701.0, 761.0, 1558.0, 1053.0, 1005.0, 741.0, 1865.0, 817.0, 1018.0, 884.0, 718.0, 939.0, 1276.0, 1994.0, 862.0, 1288.0, 639.0, 2653.0, 1085.0, 1330.0, 774.0, 1469.0, 606.0, 540.0, 1055.0, 1098.0, 940.0, 1151.0, 952.0, 1137.0, 948.0, 753.0, 1159.0, 893.0, 586.0, 950.0, 904.0, 1290.0, 1010.0, 781.0, 885.0, 602.0, 1243.0, 1323.0, 1395.0, 1238.0, 1021.0, 1248.0, 721.0, 2769.0, 630.0, 986.0, 1199.0, 681.0, 979.0, 1208.0, 585.0, 1365.0, 906.0, 1029.0, 1528.0, 1487.0, 1540.0, 1812.0, 707.0, 1255.0, 2093.0, 1195.0, 1060.0, 2485.0, 635.0, 818.0, 779.0, 549.0, 835.0, 1012.0, 9.0, 2635.0, 1403.0, 1467.0, 716.0, 1573.0, 1663.0, 1617.0, 1478.0, 519.0, 1422.0, 804.0, 790.0, 3183.0, 856.0, 780.0, 840.0, 1576.0, 1434.0, 782.0, 1103.0, 889.0, 1200.0, 830.0, 1046.0, 1767.0, 1082.0, 1027.0, 831.0, 632.0, 1720.0, 819.0, 1061.0, 687.0, 1111.0, 1011.0, 1486.0, 727.0, 1121.0, 1439.0, 998.0, 961.0, 982.0, 1341.0, 2029.0, 1499.0, 1399.0, 1973.0, 595.0, 1649.0, 1310.0, 1153.0, 616.0, 1130.0, 1669.0, 1271.0, 552.0, 778.0, 571.0, 794.0, 734.0, 981.0, 820.0, 1083.0, 1424.0, 838.0, 715.0, 1806.0, 873.0, 1019.0, 1432.0, 1039.0, 1339.0, 1473.0, 1150.0, 628.0, 1171.0, 1275.0, 926.0, 655.0, 1584.0, 1390.0, 1319.0, 1175.0, 991.0, 903.0, 1303.0, 978.0, 968.0, 640.0, 1127.0, 706.0, 909.0, 1360.0, 1373.0, 837.0, 913.0, 580.0, 1425.0, 1105.0, 710.0, 1877.0, 857.0, 1342.0, 1134.0, 898.0, 1352.0, 1833.0, 1508.0, 1237.0, 1148.0, 864.0, 1037.0, 1226.0, 870.0, 1152.0, 874.0, 1331.0, 957.0, 1327.0, 1090.0, 2078.0, 1124.0, 1309.0, 933.0, 1204.0, 1417.0, 1484.0, 915.0, 1206.0, 1869.0, 823.0, 810.0, 947.0, 1820.0, 1602.0, 728.0, 1031.0, 1368.0, 946.0, 1448.0, 1169.0, 890.0, 1569.0, 2516.0, 797.0, 1186.0, 1140.0, 1089.0, 1211.0, 1567.0, 2692.0, 921.0, 841.0, 1739.0, 1142.0, 1721.0, 846.0, 1110.0, 653.0, 958.0, 1488.0, 1092.0, 1311.0, 1113.0, 1227.0, 996.0, 1357.0, 499.0, 931.0, 2191.0, 1249.0, 685.0, 1471.0, 1456.0, 1834.0, 1321.0, 3422.0, 670.0, 876.0, 1934.0, 1306.0, 809.0, 848.0, 1070.0, 917.0, 1687.0, 1504.0, 1282.0, 971.0, 1133.0, 1650.0, 696.0, 1344.0, 0.0, 993.0, 1268.0, 1093.0, 1345.0, 2621.0, 1007.0, 1318.0, 2028.0, 1017.0, 988.0, 1992.0, 861.0, 1014.0, 924.0, 970.0, 1041.0, 1412.0, 1656.0, 1081.0, 1503.0, 1139.0, 1545.0, 1608.0, 1441.0, 1491.0, 1209.0, 1946.0, 743.0, 1369.0, 1096.0, 1076.0, 1058.0, 684.0, 1078.0, 1107.0, 1536.0, 875.0, 1250.0, 1462.0, 994.0, 1307.0, 1735.0, 1476.0, 1842.0, 969.0, 900.0, 871.0, 1314.0, 3322.0, 1184.0, 1364.0, 1559.0, 1293.0, 1241.0, 1740.0, 1464.0, 1532.0, 1026.0, 1329.0, 1809.0, 1374.0, 1223.0, 1033.0, 976.0, 1642.0, 1126.0, 3253.0, 2429.0, 3284.0, 1239.0, 4918.0, 1789.0, 1606.0, 907.0, 1132.0, 960.0, 1978.0, 1164.0, 1855.0, 1437.0, 989.0, 1377.0, 1122.0, 1554.0, 925.0, 1057.0, 1283.0, 1502.0, 1065.0, 1792.0, 1662.0, 1468.0, 1435.0, 1192.0, 1816.0, 1256.0, 1258.0, 1490.0, 1154.0, 972.0, 1145.0, 2420.0, 1598.0, 2453.0, 1221.0, 1158.0, 1074.0, 980.0, 1571.0, 1555.0, 1067.0, 1914.0, 997.0, 1048.0, 1387.0, 1232.0, 1972.0, 1745.0, 2150.0, 1451.0, 1101.0, 1600.0, 1917.0, 914.0, 2770.0, 1296.0, 3025.0, 1136.0, 928.0, 1086.0, 1420.0, 2256.0, 1393.0, 1635.0, 1404.0, 1776.0, 2053.0, 1294.0, 1579.0, 1261.0, 1381.0, 2775.0, 1837.0, 1823.0, 1658.0, 3102.0, 1160.0, 1047.0, 737.0, 990.0, 1176.0, 2372.0, 1531.0, 1265.0, 1035.0, 1166.0, 1431.0, 1790.0, 1416.0, 1213.0, 1916.0, 1960.0, 1971.0, 3076.0, 2870.0, 1859.0, 1108.0, 1.0, 1190.0, 1665.0, 1691.0, 1006.0, 1594.0, 1372.0, 1038.0, 1366.0, 1463.0, 1095.0, 1332.0, 1202.0, 1550.0, 1817.0, 1333.0, 1348.0, 1240.0, 1100.0, 1079.0, 839.0, 1131.0, 1489.0, 1347.0, 1957.0, 1191.0, 983.0, 1254.0, 877.0, 1262.0, 1049.0, 1514.0, 1114.0, 1388.0, 1925.0, 1512.0, 1975.0, 954.0, 1805.0, 1279.0, 992.0, 1180.0, 1723.0, 1286.0, 1380.0, 880.0, 934.0, 1871.0, 1068.0, 1340.0, 2301.0, 1008.0, 1359.0, 1880.0, 1460.0, 2219.0, 1543.0, 1603.0, 883.0, 1284.0, 822.0, 1225.0, 2027.0, 2055.0, 879.0, 1962.0, 1702.0, 1104.0, 1551.0, 1353.0, 1580.0, 2187.0, 2184.0, 1628.0, 1804.0, 2062.0, 1370.0, 1616.0, 892.0, 1835.0, 1472.0, 1207.0, 3785.0, 1440.0, 1405.0, 1298.0, 1556.0, -1.0, 1447.0, 2330.0, 2129.0, 1217.0, 1174.0, 949.0, 1426.0, 1112.0, 1966.0, 1970.0, 1129.0, 1326.0, 1313.0, 1361.0, 975.0, 1117.0, 1020.0, 1233.0, 1563.0, 2389.0, 1407.0, 1185.0, 1179.0\n",
      "campaign: 1.0, 2.7761387405950484, 2.0, 3.0, 5.0, 4.0, 6.0, 7.0, 8.0, 9.0, 10.0, 11.0, 12.0, 13.0, 19.0, 14.0, 24.0, 16.0, 32.0, 18.0, 22.0, 15.0, 17.0, 21.0, 43.0, 51.0, 41.0, 26.0, 28.0, 55.0, 50.0, 38.0, 23.0, 20.0, 25.0, 29.0, 31.0, 37.0, 30.0, 46.0, 27.0, 58.0, 33.0, 35.0, 34.0, 36.0, 44.0, 39.0, 0.0\n",
      "pdays: -1.0, 45.42937200480792, 151.0, 166.0, 91.0, 86.0, 143.0, 89.0, 140.0, 176.0, 101.0, 174.0, 170.0, 167.0, 195.0, 129.0, 172.0, 119.0, 104.0, 171.0, 117.0, 164.0, 132.0, 131.0, 123.0, 159.0, 186.0, 111.0, 115.0, 178.0, 110.0, 103.0, 118.0, 188.0, 175.0, 193.0, 181.0, 165.0, 185.0, 154.0, 145.0, 138.0, 126.0, 96.0, 150.0, 173.0, 196.0, 180.0, 109.0, 158.0, 168.0, 127.0, 130.0, 125.0, 105.0, 179.0, 182.0, 28.0, 183.0, 155.0, 112.0, 120.0, 124.0, 187.0, 190.0, 113.0, 102.0, 162.0, 116.0, 152.0, 134.0, 169.0, 189.0, 194.0, 8.0, 137.0, 144.0, 191.0, 184.0, 177.0, 99.0, 133.0, 93.0, 97.0, 92.0, 10.0, 100.0, 198.0, 106.0, 153.0, 146.0, 128.0, 7.0, 121.0, 160.0, 107.0, 27.0, 147.0, 197.0, 136.0, 139.0, 122.0, 157.0, 149.0, 135.0, 156.0, 30.0, 114.0, 98.0, 163.0, 34.0, 95.0, 141.0, 192.0, 31.0, 199.0, 94.0, 108.0, 29.0, 247.0, 253.0, 226.0, 244.0, 239.0, 245.0, 204.0, 231.0, 238.0, 230.0, 71.0, 223.0, 265.0, 246.0, 268.0, 250.0, 266.0, 240.0, 258.0, 205.0, 254.0, 261.0, 259.0, 241.0, 260.0, 234.0, 251.0, 225.0, 161.0, 237.0, 262.0, 248.0, 255.0, 220.0, 227.0, 206.0, 224.0, 249.0, 235.0, 228.0, 263.0, 2.0, 270.0, 232.0, 252.0, 207.0, 200.0, 269.0, 256.0, 5.0, 273.0, 272.0, 264.0, 208.0, 214.0, 222.0, 203.0, 221.0, 242.0, 202.0, 201.0, 257.0, 229.0, 271.0, 210.0, 217.0, 216.0, 213.0, 75.0, 73.0, 76.0, 267.0, 211.0, 236.0, 6.0, 209.0, 215.0, 274.0, 1.0, 243.0, 77.0, 212.0, 233.0, 275.0, 80.0, 276.0, 9.0, 12.0, 82.0, 279.0, 280.0, 88.0, 277.0, 85.0, 84.0, 24.0, 21.0, 282.0, 294.0, 307.0, 329.0, 331.0, 308.0, 300.0, 64.0, 314.0, 287.0, 330.0, 332.0, 302.0, 318.0, 333.0, 60.0, 326.0, 335.0, 313.0, 312.0, 305.0, 325.0, 336.0, 309.0, 328.0, 322.0, 39.0, 316.0, 323.0, 292.0, 295.0, 310.0, 306.0, 320.0, 317.0, 289.0, 57.0, 321.0, 142.0, 339.0, 315.0, 337.0, 327.0, 340.0, 334.0, 74.0, 148.0, 319.0, 341.0, 299.0, 344.0, 342.0, 324.0, 346.0, 304.0, 345.0, 281.0, 338.0, 301.0, 343.0, 14.0, 303.0, 347.0, 15.0, 348.0, 349.0, 285.0, 350.0, 284.0, 25.0, 283.0, 278.0, 81.0, 4.0, 87.0, 83.0, 79.0, 70.0, 13.0, 37.0, 78.0, 22.0, 296.0, 355.0, 90.0, 19.0, 35.0, 360.0, 17.0, 357.0, 351.0, 362.0, 358.0, 354.0, 365.0, 298.0, 364.0, 363.0, 47.0, 288.0, 286.0, 366.0, 356.0, 359.0, 293.0, 367.0, 297.0, 353.0, 352.0, 361.0, 368.0, 42.0, 290.0, 67.0, 66.0, 370.0, 369.0, 371.0, 50.0, 36.0, 373.0, 291.0, 311.0, 372.0, 374.0, 378.0, 59.0, 63.0, 379.0, 40.0, 18.0, 43.0, 41.0, 20.0, 69.0, 385.0, 56.0, 55.0, 44.0, 72.0, 391.0, 390.0, 32.0, 393.0, 377.0, 388.0, 49.0, 386.0, 61.0, 412.0, 405.0, 434.0, 382.0, 459.0, 375.0, 397.0, 68.0, 461.0, 462.0, 463.0, 422.0, 51.0, 430.0, 442.0, 403.0, 457.0, 454.0, 428.0, 392.0, 410.0, 474.0, 475.0, 477.0, 478.0, 54.0, 476.0, 380.0, 38.0, 479.0, 46.0, 495.0, 58.0, 62.0, 48.0, 518.0, 520.0, 511.0, 536.0, 387.0, 218.0, 33.0, 435.0, 436.0, 555.0, 433.0, 446.0, 558.0, 469.0, 561.0, 384.0, 592.0, 467.0, 394.0, 585.0, 480.0, 421.0, 667.0, 626.0, 426.0, 595.0, 381.0, 376.0, 648.0, 521.0, 452.0, 449.0, 633.0, 398.0, 53.0, 460.0, 670.0, 389.0, 551.0, 219.0, 557.0, 687.0, 404.0, 651.0, 425.0, 504.0, 52.0, 578.0, 674.0, 416.0, 586.0, 756.0, 450.0, 514.0, 417.0, 515.0, 424.0, 776.0, 683.0, 529.0, 439.0, 415.0, 456.0, 458.0, 532.0, 481.0, 791.0, 701.0, 531.0, 792.0, 413.0, 445.0, 535.0, 784.0, 419.0, 455.0, 491.0, 440.0, 542.0, 470.0, 472.0, 717.0, 782.0, 414.0, 828.0, 524.0, 761.0, 492.0, 775.0, 579.0, 493.0, 464.0, 760.0, 465.0, 656.0, 831.0, 490.0, 432.0, 655.0, 769.0, 778.0, 854.0, 779.0, 850.0, 771.0, 594.0, 842.0, 589.0, 603.0, 489.0, 486.0, 409.0, 444.0, 808.0, 690.0, 774.0, 503.0, 526.0, 431.0, 427.0, 420.0, 528.0, 500.0, 826.0, 804.0, 547.0, 805.0, 541.0, 543.0, 550.0, 530.0, 399.0, 65.0, 395.0, 401.0, 45.0, 553.0, 686.0, 411.0, 396.0, 407.0, 437.0, 3.0, 728.0, 562.0, 749.0, 838.0, 587.0, 484.0, 485.0, 772.0, 616.0, 508.0\n",
      "previous: 0.0, 0.6603549741652488, 3.0, 1.0, 4.0, 2.0, 11.0, 16.0, 6.0, 5.0, 10.0, 12.0, 7.0, 18.0, 9.0, 8.0, 14.0, 26.0, 37.0, 13.0, 15.0, 25.0, 20.0, 27.0, 17.0, 23.0, 29.0, 24.0, 51.0, 275.0, 21.0, 38.0, 22.0, 19.0, 30.0, 58.0, 32.0, 55.0, 41.0, 28.0\n",
      "poutcome: \"unknown\", \"failure\", \"other\", \"success\"\n",
      "target: \"no\", \"yes\"\n"
     ]
    }
   ],
   "source": [
    "# Iterate through each column\n",
    "for column in bank.columns:\n",
    "    # Get unique values in the column\n",
    "    unique_values = bank[column].unique()\n",
    "    \n",
    "    # Display column name and its unique values\n",
    "    print(f\"{column}: {', '.join(map(str, unique_values))}\")\n"
   ]
  },
  {
   "cell_type": "code",
   "execution_count": 20,
   "id": "49bc9b14-11f9-458b-a7c5-07d0fd9ca168",
   "metadata": {},
   "outputs": [
    {
     "name": "stdout",
     "output_type": "stream",
     "text": [
      "             age  job  marital  education  default      balance  housing  \\\n",
      "0      58.000000    4        1          4        0  2143.000000        3   \n",
      "1      44.000000    9        3          2        0    29.000000        3   \n",
      "2      33.000000    2        1          2        0     2.000000        3   \n",
      "3      41.092567    4        1          2        0  1397.243752        3   \n",
      "4      33.000000   12        3          5        0     1.000000        2   \n",
      "...          ...  ...      ...        ...      ...          ...      ...   \n",
      "41754  54.000000    0        1          2        0    66.000000        3   \n",
      "41755  59.000000    4        1          4        0   138.000000        3   \n",
      "41756  68.000000    5        1          2        0  1146.000000        2   \n",
      "41757  53.000000    4        1          4        0   583.000000        2   \n",
      "41758  57.000000    1        1          2        0   668.000000        2   \n",
      "\n",
      "       loan  contact  day  month    duration  campaign       pdays  previous  \\\n",
      "0         2        4    5      9  261.000000  1.000000   -1.000000  0.000000   \n",
      "1         2        4    5      9  151.000000  1.000000   -1.000000  0.000000   \n",
      "2         3        4    5      9   76.000000  1.000000   -1.000000  0.000000   \n",
      "3         2        1  NaN      9  257.902924  2.776139   45.429372  0.660355   \n",
      "4         2        4    5      9  198.000000  1.000000   -1.000000  0.000000   \n",
      "...     ...      ...  ...    ...         ...       ...         ...       ...   \n",
      "41754     2        1   11     10  167.000000  1.000000   -1.000000  0.000000   \n",
      "41755     3        1   16     10  162.000000  2.000000  187.000000  5.000000   \n",
      "41756     2        1   16     10  212.000000  1.000000  187.000000  6.000000   \n",
      "41757     2        1   17     10  226.000000  1.000000  184.000000  4.000000   \n",
      "41758     2        3   17     10  508.000000  4.000000   -1.000000  0.000000   \n",
      "\n",
      "       poutcome  target  \n",
      "0             3       0  \n",
      "1             3       0  \n",
      "2             3       0  \n",
      "3             3       0  \n",
      "4             3       0  \n",
      "...         ...     ...  \n",
      "41754         3       1  \n",
      "41755         0       0  \n",
      "41756         2       1  \n",
      "41757         2       1  \n",
      "41758         3       0  \n",
      "\n",
      "[41759 rows x 17 columns]\n"
     ]
    }
   ],
   "source": [
    "\n",
    "\n",
    "from sklearn.preprocessing import LabelEncoder\n",
    "\n",
    "# Define the columns to be processed\n",
    "columns_to_process = ['job', 'marital', 'education', 'default', 'housing', 'loan', 'contact', 'month', 'poutcome', 'target']\n",
    "\n",
    "# Remove any numbers from the values in the specified columns\n",
    "for column in columns_to_process:\n",
    "    bank[column] = bank[column].astype(str).str.replace(r'\\d+', '')\n",
    "\n",
    "# Initialize LabelEncoder\n",
    "label_encoder = LabelEncoder()\n",
    "\n",
    "# Encode the categorical columns numerically\n",
    "for column in columns_to_process:\n",
    "    bank[column] = label_encoder.fit_transform(bank[column])\n",
    "\n",
    "# Display the updated DataFrame\n",
    "print(bank)"
   ]
  },
  {
   "cell_type": "code",
   "execution_count": 21,
   "id": "f08d3ee0-1f02-4d01-b881-b9f971a4b3ce",
   "metadata": {},
   "outputs": [
    {
     "data": {
      "text/html": [
       "<div>\n",
       "<style scoped>\n",
       "    .dataframe tbody tr th:only-of-type {\n",
       "        vertical-align: middle;\n",
       "    }\n",
       "\n",
       "    .dataframe tbody tr th {\n",
       "        vertical-align: top;\n",
       "    }\n",
       "\n",
       "    .dataframe thead th {\n",
       "        text-align: right;\n",
       "    }\n",
       "</style>\n",
       "<table border=\"1\" class=\"dataframe\">\n",
       "  <thead>\n",
       "    <tr style=\"text-align: right;\">\n",
       "      <th></th>\n",
       "      <th>age</th>\n",
       "      <th>job</th>\n",
       "      <th>marital</th>\n",
       "      <th>education</th>\n",
       "      <th>default</th>\n",
       "      <th>balance</th>\n",
       "      <th>housing</th>\n",
       "      <th>loan</th>\n",
       "      <th>contact</th>\n",
       "      <th>day</th>\n",
       "      <th>month</th>\n",
       "      <th>duration</th>\n",
       "      <th>campaign</th>\n",
       "      <th>pdays</th>\n",
       "      <th>previous</th>\n",
       "      <th>poutcome</th>\n",
       "      <th>target</th>\n",
       "    </tr>\n",
       "  </thead>\n",
       "  <tbody>\n",
       "    <tr>\n",
       "      <th>0</th>\n",
       "      <td>58.000000</td>\n",
       "      <td>4</td>\n",
       "      <td>1</td>\n",
       "      <td>4</td>\n",
       "      <td>0</td>\n",
       "      <td>2143.000000</td>\n",
       "      <td>3</td>\n",
       "      <td>2</td>\n",
       "      <td>4</td>\n",
       "      <td>5</td>\n",
       "      <td>9</td>\n",
       "      <td>261.000000</td>\n",
       "      <td>1.000000</td>\n",
       "      <td>-1.000000</td>\n",
       "      <td>0.000000</td>\n",
       "      <td>3</td>\n",
       "      <td>0</td>\n",
       "    </tr>\n",
       "    <tr>\n",
       "      <th>1</th>\n",
       "      <td>44.000000</td>\n",
       "      <td>9</td>\n",
       "      <td>3</td>\n",
       "      <td>2</td>\n",
       "      <td>0</td>\n",
       "      <td>29.000000</td>\n",
       "      <td>3</td>\n",
       "      <td>2</td>\n",
       "      <td>4</td>\n",
       "      <td>5</td>\n",
       "      <td>9</td>\n",
       "      <td>151.000000</td>\n",
       "      <td>1.000000</td>\n",
       "      <td>-1.000000</td>\n",
       "      <td>0.000000</td>\n",
       "      <td>3</td>\n",
       "      <td>0</td>\n",
       "    </tr>\n",
       "    <tr>\n",
       "      <th>2</th>\n",
       "      <td>33.000000</td>\n",
       "      <td>2</td>\n",
       "      <td>1</td>\n",
       "      <td>2</td>\n",
       "      <td>0</td>\n",
       "      <td>2.000000</td>\n",
       "      <td>3</td>\n",
       "      <td>3</td>\n",
       "      <td>4</td>\n",
       "      <td>5</td>\n",
       "      <td>9</td>\n",
       "      <td>76.000000</td>\n",
       "      <td>1.000000</td>\n",
       "      <td>-1.000000</td>\n",
       "      <td>0.000000</td>\n",
       "      <td>3</td>\n",
       "      <td>0</td>\n",
       "    </tr>\n",
       "    <tr>\n",
       "      <th>3</th>\n",
       "      <td>41.092567</td>\n",
       "      <td>4</td>\n",
       "      <td>1</td>\n",
       "      <td>2</td>\n",
       "      <td>0</td>\n",
       "      <td>1397.243752</td>\n",
       "      <td>3</td>\n",
       "      <td>2</td>\n",
       "      <td>1</td>\n",
       "      <td>NaN</td>\n",
       "      <td>9</td>\n",
       "      <td>257.902924</td>\n",
       "      <td>2.776139</td>\n",
       "      <td>45.429372</td>\n",
       "      <td>0.660355</td>\n",
       "      <td>3</td>\n",
       "      <td>0</td>\n",
       "    </tr>\n",
       "    <tr>\n",
       "      <th>4</th>\n",
       "      <td>33.000000</td>\n",
       "      <td>12</td>\n",
       "      <td>3</td>\n",
       "      <td>5</td>\n",
       "      <td>0</td>\n",
       "      <td>1.000000</td>\n",
       "      <td>2</td>\n",
       "      <td>2</td>\n",
       "      <td>4</td>\n",
       "      <td>5</td>\n",
       "      <td>9</td>\n",
       "      <td>198.000000</td>\n",
       "      <td>1.000000</td>\n",
       "      <td>-1.000000</td>\n",
       "      <td>0.000000</td>\n",
       "      <td>3</td>\n",
       "      <td>0</td>\n",
       "    </tr>\n",
       "  </tbody>\n",
       "</table>\n",
       "</div>"
      ],
      "text/plain": [
       "         age  job  marital  education  default      balance  housing  loan  \\\n",
       "0  58.000000    4        1          4        0  2143.000000        3     2   \n",
       "1  44.000000    9        3          2        0    29.000000        3     2   \n",
       "2  33.000000    2        1          2        0     2.000000        3     3   \n",
       "3  41.092567    4        1          2        0  1397.243752        3     2   \n",
       "4  33.000000   12        3          5        0     1.000000        2     2   \n",
       "\n",
       "   contact  day  month    duration  campaign      pdays  previous  poutcome  \\\n",
       "0        4    5      9  261.000000  1.000000  -1.000000  0.000000         3   \n",
       "1        4    5      9  151.000000  1.000000  -1.000000  0.000000         3   \n",
       "2        4    5      9   76.000000  1.000000  -1.000000  0.000000         3   \n",
       "3        1  NaN      9  257.902924  2.776139  45.429372  0.660355         3   \n",
       "4        4    5      9  198.000000  1.000000  -1.000000  0.000000         3   \n",
       "\n",
       "   target  \n",
       "0       0  \n",
       "1       0  \n",
       "2       0  \n",
       "3       0  \n",
       "4       0  "
      ]
     },
     "execution_count": 21,
     "metadata": {},
     "output_type": "execute_result"
    }
   ],
   "source": [
    "bank.head(5)"
   ]
  },
  {
   "cell_type": "markdown",
   "id": "f42cdaef-57bb-4b27-9edb-e92652f7506d",
   "metadata": {},
   "source": [
    "## III- Feature Selection/Engineering:\n"
   ]
  },
  {
   "cell_type": "markdown",
   "id": "508dd679-1125-4a0d-8675-47c3253b9bf4",
   "metadata": {},
   "source": [
    "### 1- Select relevant features"
   ]
  },
  {
   "cell_type": "code",
   "execution_count": 22,
   "id": "05bb01d6-0394-4036-8fac-54986ac886da",
   "metadata": {},
   "outputs": [
    {
     "data": {
      "image/png": "[encoded data removed]",
      "text/plain": [
       "<Figure size 1200x1000 with 2 Axes>"
      ]
     },
     "metadata": {},
     "output_type": "display_data"
    }
   ],
   "source": [
    "import seaborn as sns\n",
    "import matplotlib.pyplot as plt\n",
    "\n",
    "# Calculate correlation matrix\n",
    "corr_matrix = bank.corr()\n",
    "\n",
    "# Plot heatmap\n",
    "plt.figure(figsize=(12, 10))\n",
    "sns.heatmap(corr_matrix[['target']], annot=True, cmap='coolwarm', fmt=\".2f\")\n",
    "plt.title('Correlation Heatmap with Target Variable')\n",
    "plt.show()"
   ]
  },
  {
   "cell_type": "code",
   "execution_count": 23,
   "id": "67da94f7-9b4d-4491-871a-adcda10ad4d0",
   "metadata": {},
   "outputs": [
    {
     "name": "stdout",
     "output_type": "stream",
     "text": [
      "   housing  contact    duration  target\n",
      "0        3        4  261.000000       0\n",
      "1        3        4  151.000000       0\n",
      "2        3        4   76.000000       0\n",
      "3        3        1  257.902924       0\n",
      "4        2        4  198.000000       0\n"
     ]
    }
   ],
   "source": [
    "# Define the features to be removed\n",
    "features_to_remove = ['pdays', 'previous', 'poutcome', 'campaign', 'loan', 'education', \n",
    "                      'marital', 'balance', 'job', 'day', 'age', 'default', 'month']\n",
    "\n",
    "# Remove the features from the DataFrame\n",
    "Data = bank.drop(columns=features_to_remove)\n",
    "\n",
    "# Display the reduced DataFrame\n",
    "print(Data.head())"
   ]
  },
  {
   "cell_type": "markdown",
   "id": "70438ccf-cee5-4fd5-9d9c-744041cc2b61",
   "metadata": {},
   "source": [
    "### 2- Focus on Target"
   ]
  },
  {
   "cell_type": "markdown",
   "id": "256ba183-c019-4300-b91c-9e310ff33967",
   "metadata": {},
   "source": [
    "#### 2.1 Count Target "
   ]
  },
  {
   "cell_type": "code",
   "execution_count": 24,
   "id": "048b2fdd-1211-4745-bb1f-a183d7197bcd",
   "metadata": {},
   "outputs": [
    {
     "name": "stdout",
     "output_type": "stream",
     "text": [
      "Counts of each label in the target variable:\n",
      "0    36759\n",
      "1     5000\n",
      "Name: target, dtype: int64\n"
     ]
    }
   ],
   "source": [
    "# Count the occurrences of each label in the target variable\n",
    "target_counts = bank['target'].value_counts()\n",
    "\n",
    "# Display the counts\n",
    "print(\"Counts of each label in the target variable:\")\n",
    "print(target_counts)\n"
   ]
  },
  {
   "cell_type": "code",
   "execution_count": 25,
   "id": "c76b184d-fd39-4bbf-bd60-978185da7b81",
   "metadata": {},
   "outputs": [
    {
     "data": {
      "image/png": "[encoded data removed]",
      "text/plain": [
       "<Figure size 640x480 with 1 Axes>"
      ]
     },
     "metadata": {},
     "output_type": "display_data"
    }
   ],
   "source": [
    "import matplotlib.pyplot as plt\n",
    "import seaborn as sns\n",
    "sns.countplot(x=Data['target'])\n",
    "plt.show()"
   ]
  },
  {
   "cell_type": "markdown",
   "id": "5c9a8f76-02ee-4245-bb5b-6751e7da67b3",
   "metadata": {},
   "source": [
    "##### Label '0' (presumably representing \"no\") occurs 36,759 times.\n",
    "##### Label '1' (presumably representing \"yes\") occurs 5,000 times."
   ]
  },
  {
   "cell_type": "markdown",
   "id": "5a03753c-f77d-4124-a6f6-ba77317fc5d5",
   "metadata": {},
   "source": [
    "#### 2.2 Using SMOTE "
   ]
  },
  {
   "cell_type": "code",
   "execution_count": 26,
   "id": "5f248b6e-885b-4bbf-8e46-0628588ef431",
   "metadata": {},
   "outputs": [
    {
     "name": "stdout",
     "output_type": "stream",
     "text": [
      "Class distribution after applying SMOTE:\n",
      "0    36759\n",
      "1    36759\n",
      "Name: target, dtype: int64\n"
     ]
    }
   ],
   "source": [
    "from imblearn.over_sampling import SMOTE\n",
    "\n",
    "# Separate features and target variable\n",
    "X = Data.drop(columns=['target'])\n",
    "y = Data['target']\n",
    "\n",
    "# Initialize SMOTE\n",
    "smote = SMOTE()\n",
    "\n",
    "# Apply SMOTE to generate synthetic samples\n",
    "X_resampled, y_resampled = smote.fit_resample(X, y)\n",
    "\n",
    "# Check the new class distribution\n",
    "print(\"Class distribution after applying SMOTE:\")\n",
    "print(y_resampled.value_counts())\n"
   ]
  },
  {
   "cell_type": "code",
   "execution_count": 27,
   "id": "9201c8bb-0538-4013-9bd3-cd4697ad0025",
   "metadata": {},
   "outputs": [
    {
     "data": {
      "image/png": "[encoded data removed]",
      "text/plain": [
       "<Figure size 640x480 with 1 Axes>"
      ]
     },
     "metadata": {},
     "output_type": "display_data"
    }
   ],
   "source": [
    "import matplotlib.pyplot as plt\n",
    "import seaborn as sns\n",
    "\n",
    "# Plot class distribution after applying SMOTE\n",
    "sns.countplot(x=y_resampled)\n",
    "plt.title(\"Class distribution after applying SMOTE\")\n",
    "plt.xlabel(\"Target\")\n",
    "plt.ylabel(\"Count\")\n",
    "plt.show()"
   ]
  },
  {
   "cell_type": "markdown",
   "id": "6b739eec-f8f0-4e8c-99e9-ae7bcc44e169",
   "metadata": {},
   "source": [
    "##### Label '0' (presumably representing \"no\") occurs 36,759 times.\n",
    "##### Label '1' (presumably representing \"yes\") occurs 36,759 times."
   ]
  },
  {
   "cell_type": "markdown",
   "id": "e75c062a-e390-42a0-b8d1-a1fa02aee361",
   "metadata": {},
   "source": [
    "## III- Modeling"
   ]
  },
  {
   "cell_type": "code",
   "execution_count": 28,
   "id": "934df0d6-35e2-4686-bb00-6550929d1bae",
   "metadata": {},
   "outputs": [],
   "source": [
    "import seaborn as sns\n",
    "import matplotlib.pyplot as plt\n",
    "from sklearn.model_selection import train_test_split\n",
    "from sklearn.linear_model import LogisticRegression\n",
    "from sklearn.metrics import accuracy_score, classification_report, confusion_matrix\n",
    "\n",
    "# Split the data into training and testing sets\n",
    "X_train, X_test, y_train, y_test = train_test_split(X_resampled, y_resampled, test_size=0.2, random_state=42)"
   ]
  },
  {
   "cell_type": "markdown",
   "id": "bf603103-6114-4b62-9908-cc9397429f91",
   "metadata": {},
   "source": [
    "#### 1- Logistic Regression"
   ]
  },
  {
   "cell_type": "code",
   "execution_count": 29,
   "id": "b1789f9a-25f9-4b53-bce0-e5ea427c9c1a",
   "metadata": {},
   "outputs": [],
   "source": [
    "# Initialize Logistic Regression model\n",
    "logistic_model = LogisticRegression()\n",
    "\n",
    "# Train the model on the training data\n",
    "logistic_model.fit(X_train, y_train)\n",
    "\n",
    "# Make predictions on the testing data\n",
    "y_pred = logistic_model.predict(X_test)"
   ]
  },
  {
   "cell_type": "code",
   "execution_count": 30,
   "id": "f85ab165-e893-4796-9222-8a7cf74b32cb",
   "metadata": {},
   "outputs": [
    {
     "name": "stdout",
     "output_type": "stream",
     "text": [
      "Accuracy: 0.797810119695321\n",
      "Classification Report:\n",
      "              precision    recall  f1-score   support\n",
      "\n",
      "           0       0.81      0.78      0.80      7373\n",
      "           1       0.79      0.81      0.80      7331\n",
      "\n",
      "    accuracy                           0.80     14704\n",
      "   macro avg       0.80      0.80      0.80     14704\n",
      "weighted avg       0.80      0.80      0.80     14704\n",
      "\n"
     ]
    },
    {
     "data": {
      "image/png": "[encoded data removed]",
      "text/plain": [
       "<Figure size 800x600 with 1 Axes>"
      ]
     },
     "metadata": {},
     "output_type": "display_data"
    }
   ],
   "source": [
    "# Evaluate the model\n",
    "accuracy = accuracy_score(y_test, y_pred)\n",
    "print(\"Accuracy:\", accuracy)\n",
    "\n",
    "# Print classification report\n",
    "print(\"Classification Report:\")\n",
    "print(classification_report(y_test, y_pred))\n",
    "\n",
    "# Compute confusion matrix\n",
    "conf_matrix = confusion_matrix(y_test, y_pred)\n",
    "\n",
    "# Plot confusion matrix\n",
    "plt.figure(figsize=(8, 6))\n",
    "sns.heatmap(conf_matrix, annot=True, fmt='d', cmap='Blues', cbar=False)\n",
    "plt.title('Confusion Matrix')\n",
    "plt.xlabel('Predicted')\n",
    "plt.ylabel('Actual')\n",
    "plt.show()"
   ]
  },
  {
   "cell_type": "markdown",
   "id": "0239da25-8388-4898-9ce9-dc9e01ea36d0",
   "metadata": {},
   "source": [
    "#### 2- KNN"
   ]
  },
  {
   "cell_type": "code",
   "execution_count": 31,
   "id": "551365ec-ce8b-42b5-be9a-bcf5317a3539",
   "metadata": {},
   "outputs": [],
   "source": [
    "from sklearn.neighbors import KNeighborsClassifier\n",
    "from sklearn.model_selection import train_test_split\n",
    "from sklearn.metrics import accuracy_score, classification_report, confusion_matrix\n",
    "\n",
    "# Initialize KNN classifier\n",
    "knn_model = KNeighborsClassifier()\n",
    "\n",
    "# Train the model on the training data\n",
    "knn_model.fit(X_train, y_train)\n",
    "\n",
    "# Make predictions on the testing data\n",
    "y_pred = knn_model.predict(X_test)\n"
   ]
  },
  {
   "cell_type": "code",
   "execution_count": 32,
   "id": "3bbd4262-c52b-4769-8d5b-00ab21b091c6",
   "metadata": {},
   "outputs": [
    {
     "name": "stdout",
     "output_type": "stream",
     "text": [
      "Accuracy: 0.8141322089227421\n",
      "Classification Report:\n",
      "              precision    recall  f1-score   support\n",
      "\n",
      "           0       0.83      0.79      0.81      7373\n",
      "           1       0.80      0.84      0.82      7331\n",
      "\n",
      "    accuracy                           0.81     14704\n",
      "   macro avg       0.81      0.81      0.81     14704\n",
      "weighted avg       0.81      0.81      0.81     14704\n",
      "\n"
     ]
    },
    {
     "data": {
      "image/png": "[encoded data removed]",
      "text/plain": [
       "<Figure size 800x600 with 1 Axes>"
      ]
     },
     "metadata": {},
     "output_type": "display_data"
    }
   ],
   "source": [
    "# Evaluate the model\n",
    "accuracy = accuracy_score(y_test, y_pred)\n",
    "print(\"Accuracy:\", accuracy)\n",
    "\n",
    "# Print classification report\n",
    "print(\"Classification Report:\")\n",
    "print(classification_report(y_test, y_pred))\n",
    "\n",
    "# Compute confusion matrix\n",
    "conf_matrix = confusion_matrix(y_test, y_pred)\n",
    "\n",
    "# Plot confusion matrix\n",
    "plt.figure(figsize=(8, 6))\n",
    "sns.heatmap(conf_matrix, annot=True, fmt='d', cmap='Blues', cbar=False)\n",
    "plt.title('Confusion Matrix')\n",
    "plt.xlabel('Predicted')\n",
    "plt.ylabel('Actual')\n",
    "plt.show()"
   ]
  },
  {
   "cell_type": "markdown",
   "id": "9fd86169-a6b5-4d7e-841c-164e487d2eb4",
   "metadata": {},
   "source": [
    "#### 3- Random Forest:"
   ]
  },
  {
   "cell_type": "code",
   "execution_count": 33,
   "id": "d2affd72-469d-4e10-8182-2f402291893a",
   "metadata": {},
   "outputs": [],
   "source": [
    "from sklearn.ensemble import RandomForestClassifier\n",
    "from sklearn.model_selection import train_test_split\n",
    "from sklearn.metrics import accuracy_score, classification_report, confusion_matrix\n",
    "\n",
    "# Initialize Random Forest classifier\n",
    "rf_model = RandomForestClassifier()\n",
    "\n",
    "# Train the model on the training data\n",
    "rf_model.fit(X_train, y_train)\n",
    "\n",
    "# Make predictions on the testing data\n",
    "y_pred = rf_model.predict(X_test)"
   ]
  },
  {
   "cell_type": "code",
   "execution_count": 34,
   "id": "e8270fac-4906-42b1-97f6-6a4bb96da983",
   "metadata": {},
   "outputs": [
    {
     "name": "stdout",
     "output_type": "stream",
     "text": [
      "Accuracy: 0.8384793253536452\n",
      "Classification Report:\n",
      "              precision    recall  f1-score   support\n",
      "\n",
      "           0       0.86      0.81      0.83      7373\n",
      "           1       0.82      0.87      0.84      7331\n",
      "\n",
      "    accuracy                           0.84     14704\n",
      "   macro avg       0.84      0.84      0.84     14704\n",
      "weighted avg       0.84      0.84      0.84     14704\n",
      "\n"
     ]
    },
    {
     "data": {
      "image/png": "[encoded data removed]",
      "text/plain": [
       "<Figure size 800x600 with 1 Axes>"
      ]
     },
     "metadata": {},
     "output_type": "display_data"
    }
   ],
   "source": [
    "# Evaluate the model\n",
    "accuracy = accuracy_score(y_test, y_pred)\n",
    "print(\"Accuracy:\", accuracy)\n",
    "\n",
    "# Print classification report\n",
    "print(\"Classification Report:\")\n",
    "print(classification_report(y_test, y_pred))\n",
    "\n",
    "# Compute confusion matrix\n",
    "conf_matrix = confusion_matrix(y_test, y_pred)\n",
    "\n",
    "# Plot confusion matrix\n",
    "plt.figure(figsize=(8, 6))\n",
    "sns.heatmap(conf_matrix, annot=True, fmt='d', cmap='Blues', cbar=False)\n",
    "plt.title('Confusion Matrix')\n",
    "plt.xlabel('Predicted')\n",
    "plt.ylabel('Actual')\n",
    "plt.show()"
   ]
  },
  {
   "cell_type": "code",
   "execution_count": 36,
   "id": "a1b56043",
   "metadata": {},
   "outputs": [
    {
     "name": "stdout",
     "output_type": "stream",
     "text": [
      "Collecting xgboost\n",
      "  Downloading xgboost-2.0.3-py3-none-win_amd64.whl (99.8 MB)\n",
      "     -------------------------------------- 99.8/99.8 MB 261.1 kB/s eta 0:00:00\n",
      "Requirement already satisfied: scipy in c:\\users\\yessine\\anaconda3\\lib\\site-packages (from xgboost) (1.9.1)\n",
      "Requirement already satisfied: numpy in c:\\users\\yessine\\anaconda3\\lib\\site-packages (from xgboost) (1.21.5)\n",
      "Installing collected packages: xgboost\n",
      "Successfully installed xgboost-2.0.3\n",
      "Note: you may need to restart the kernel to use updated packages.\n"
     ]
    }
   ],
   "source": [
    "pip install xgboost"
   ]
  },
  {
   "cell_type": "code",
   "execution_count": 38,
   "id": "da9549bc",
   "metadata": {
    "scrolled": true
   },
   "outputs": [
    {
     "name": "stdout",
     "output_type": "stream",
     "text": [
      "Accuracy: 0.8150843307943417\n"
     ]
    }
   ],
   "source": [
    "# Importing necessary libraries\n",
    "import xgboost as xgb\n",
    "from sklearn.datasets import load_iris\n",
    "from sklearn.model_selection import train_test_split\n",
    "from sklearn.metrics import accuracy_score\n",
    "\n",
    "# Instantiating the XGBoost classifier\n",
    "model = xgb.XGBClassifier(objective=\"multi:softmax\", num_class=2, random_state=42)\n",
    "\n",
    "# Training the model\n",
    "model.fit(X_train, y_train)\n",
    "\n",
    "# Making predictions on the test set\n",
    "y_pred = model.predict(X_test)\n",
    "\n",
    "# Calculating accuracy\n",
    "accuracy = accuracy_score(y_test, y_pred)\n",
    "print(\"Accuracy:\", accuracy)\n"
   ]
  },
  {
   "cell_type": "code",
   "execution_count": 39,
   "id": "1ff4c36f",
   "metadata": {},
   "outputs": [
    {
     "name": "stdout",
     "output_type": "stream",
     "text": [
      "Accuracy: 0.8150843307943417\n",
      "Classification Report:\n",
      "              precision    recall  f1-score   support\n",
      "\n",
      "           0       0.86      0.76      0.80      7373\n",
      "           1       0.78      0.87      0.82      7331\n",
      "\n",
      "    accuracy                           0.82     14704\n",
      "   macro avg       0.82      0.82      0.81     14704\n",
      "weighted avg       0.82      0.82      0.81     14704\n",
      "\n"
     ]
    },
    {
     "data": {
      "image/png": "[encoded data removed]",
      "text/plain": [
       "<Figure size 800x600 with 1 Axes>"
      ]
     },
     "metadata": {},
     "output_type": "display_data"
    }
   ],
   "source": [
    "# Evaluate the model\n",
    "accuracy = accuracy_score(y_test, y_pred)\n",
    "print(\"Accuracy:\", accuracy)\n",
    "\n",
    "# Print classification report\n",
    "print(\"Classification Report:\")\n",
    "print(classification_report(y_test, y_pred))\n",
    "\n",
    "# Compute confusion matrix\n",
    "conf_matrix = confusion_matrix(y_test, y_pred)\n",
    "\n",
    "# Plot confusion matrix\n",
    "plt.figure(figsize=(8, 6))\n",
    "sns.heatmap(conf_matrix, annot=True, fmt='d', cmap='Blues', cbar=False)\n",
    "plt.title('Confusion Matrix')\n",
    "plt.xlabel('Predicted')\n",
    "plt.ylabel('Actual')\n",
    "plt.show()"
   ]
  },
  {
   "cell_type": "code",
   "execution_count": 41,
   "id": "38e6d336",
   "metadata": {},
   "outputs": [
    {
     "name": "stdout",
     "output_type": "stream",
     "text": [
      "Collecting tensorflowNote: you may need to restart the kernel to use updated packages.\n",
      "\n",
      "  Downloading tensorflow-2.16.1-cp39-cp39-win_amd64.whl (2.1 kB)\n",
      "Collecting tensorflow-intel==2.16.1\n",
      "  Downloading tensorflow_intel-2.16.1-cp39-cp39-win_amd64.whl (376.9 MB)\n",
      "     ------------------------------------ 376.9/376.9 MB 407.3 kB/s eta 0:00:00\n",
      "Collecting gast!=0.5.0,!=0.5.1,!=0.5.2,>=0.2.1\n",
      "  Downloading gast-0.5.4-py3-none-any.whl (19 kB)\n",
      "Collecting ml-dtypes~=0.3.1\n",
      "  Downloading ml_dtypes-0.3.2-cp39-cp39-win_amd64.whl (127 kB)\n",
      "     ------------------------------------ 127.7/127.7 kB 358.1 kB/s eta 0:00:00\n",
      "Collecting termcolor>=1.1.0\n",
      "  Downloading termcolor-2.4.0-py3-none-any.whl (7.7 kB)\n",
      "Requirement already satisfied: typing-extensions>=3.6.6 in c:\\users\\yessine\\anaconda3\\lib\\site-packages (from tensorflow-intel==2.16.1->tensorflow) (4.3.0)\n",
      "Collecting google-pasta>=0.1.1\n",
      "  Downloading google_pasta-0.2.0-py3-none-any.whl (57 kB)\n",
      "     -------------------------------------- 57.5/57.5 kB 502.5 kB/s eta 0:00:00\n",
      "Collecting absl-py>=1.0.0\n",
      "  Downloading absl_py-2.1.0-py3-none-any.whl (133 kB)\n",
      "     ------------------------------------ 133.7/133.7 kB 791.4 kB/s eta 0:00:00\n",
      "Collecting grpcio<2.0,>=1.24.3\n",
      "  Downloading grpcio-1.62.2-cp39-cp39-win_amd64.whl (3.8 MB)\n",
      "     ---------------------------------------- 3.8/3.8 MB 475.0 kB/s eta 0:00:00\n",
      "Collecting h5py>=3.10.0\n",
      "  Downloading h5py-3.11.0-cp39-cp39-win_amd64.whl (3.0 MB)\n",
      "     ---------------------------------------- 3.0/3.0 MB 949.9 kB/s eta 0:00:00\n",
      "Requirement already satisfied: six>=1.12.0 in c:\\users\\yessine\\anaconda3\\lib\\site-packages (from tensorflow-intel==2.16.1->tensorflow) (1.16.0)\n",
      "Collecting libclang>=13.0.0\n",
      "  Downloading libclang-18.1.1-py2.py3-none-win_amd64.whl (26.4 MB)\n",
      "     -------------------------------------- 26.4/26.4 MB 742.8 kB/s eta 0:00:00\n",
      "Collecting numpy<2.0.0,>=1.23.5\n",
      "  Downloading numpy-1.26.4-cp39-cp39-win_amd64.whl (15.8 MB)\n",
      "     -------------------------------------- 15.8/15.8 MB 416.5 kB/s eta 0:00:00\n",
      "Requirement already satisfied: wrapt>=1.11.0 in c:\\users\\yessine\\anaconda3\\lib\\site-packages (from tensorflow-intel==2.16.1->tensorflow) (1.14.1)\n",
      "Requirement already satisfied: requests<3,>=2.21.0 in c:\\users\\yessine\\anaconda3\\lib\\site-packages (from tensorflow-intel==2.16.1->tensorflow) (2.28.1)\n",
      "Collecting astunparse>=1.6.0\n",
      "  Downloading astunparse-1.6.3-py2.py3-none-any.whl (12 kB)\n",
      "Requirement already satisfied: packaging in c:\\users\\yessine\\anaconda3\\lib\\site-packages (from tensorflow-intel==2.16.1->tensorflow) (21.3)\n",
      "Collecting tensorflow-io-gcs-filesystem>=0.23.1\n",
      "  Downloading tensorflow_io_gcs_filesystem-0.31.0-cp39-cp39-win_amd64.whl (1.5 MB)\n",
      "     ---------------------------------------- 1.5/1.5 MB 441.4 kB/s eta 0:00:00\n",
      "Collecting flatbuffers>=23.5.26\n",
      "  Downloading flatbuffers-24.3.25-py2.py3-none-any.whl (26 kB)\n",
      "Collecting protobuf!=4.21.0,!=4.21.1,!=4.21.2,!=4.21.3,!=4.21.4,!=4.21.5,<5.0.0dev,>=3.20.3\n",
      "  Downloading protobuf-4.25.3-cp39-cp39-win_amd64.whl (413 kB)\n",
      "     ------------------------------------ 413.4/413.4 kB 678.6 kB/s eta 0:00:00\n",
      "Collecting tensorboard<2.17,>=2.16\n",
      "  Downloading tensorboard-2.16.2-py3-none-any.whl (5.5 MB)\n",
      "     ---------------------------------------- 5.5/5.5 MB 323.9 kB/s eta 0:00:00\n",
      "Collecting opt-einsum>=2.3.2\n",
      "  Downloading opt_einsum-3.3.0-py3-none-any.whl (65 kB)\n",
      "     -------------------------------------- 65.5/65.5 kB 391.8 kB/s eta 0:00:00\n",
      "Collecting keras>=3.0.0\n",
      "  Downloading keras-3.3.3-py3-none-any.whl (1.1 MB)\n",
      "     ---------------------------------------- 1.1/1.1 MB 636.9 kB/s eta 0:00:00\n",
      "Requirement already satisfied: setuptools in c:\\users\\yessine\\anaconda3\\lib\\site-packages (from tensorflow-intel==2.16.1->tensorflow) (63.4.1)\n",
      "Requirement already satisfied: wheel<1.0,>=0.23.0 in c:\\users\\yessine\\anaconda3\\lib\\site-packages (from astunparse>=1.6.0->tensorflow-intel==2.16.1->tensorflow) (0.37.1)\n",
      "Collecting optree\n",
      "  Downloading optree-0.11.0-cp39-cp39-win_amd64.whl (240 kB)\n",
      "     ------------------------------------- 240.0/240.0 kB 88.6 kB/s eta 0:00:00\n",
      "Collecting namex\n",
      "  Downloading namex-0.0.8-py3-none-any.whl (5.8 kB)\n",
      "Collecting rich\n",
      "  Downloading rich-13.7.1-py3-none-any.whl (240 kB)\n",
      "     ------------------------------------ 240.7/240.7 kB 546.1 kB/s eta 0:00:00\n",
      "Requirement already satisfied: idna<4,>=2.5 in c:\\users\\yessine\\anaconda3\\lib\\site-packages (from requests<3,>=2.21.0->tensorflow-intel==2.16.1->tensorflow) (3.3)\n",
      "Requirement already satisfied: charset-normalizer<3,>=2 in c:\\users\\yessine\\anaconda3\\lib\\site-packages (from requests<3,>=2.21.0->tensorflow-intel==2.16.1->tensorflow) (2.0.4)\n",
      "Requirement already satisfied: certifi>=2017.4.17 in c:\\users\\yessine\\anaconda3\\lib\\site-packages (from requests<3,>=2.21.0->tensorflow-intel==2.16.1->tensorflow) (2022.9.14)\n",
      "Requirement already satisfied: urllib3<1.27,>=1.21.1 in c:\\users\\yessine\\anaconda3\\lib\\site-packages (from requests<3,>=2.21.0->tensorflow-intel==2.16.1->tensorflow) (1.26.11)\n",
      "Collecting tensorboard-data-server<0.8.0,>=0.7.0\n",
      "  Downloading tensorboard_data_server-0.7.2-py3-none-any.whl (2.4 kB)\n",
      "Requirement already satisfied: werkzeug>=1.0.1 in c:\\users\\yessine\\anaconda3\\lib\\site-packages (from tensorboard<2.17,>=2.16->tensorflow-intel==2.16.1->tensorflow) (2.0.3)\n",
      "Requirement already satisfied: markdown>=2.6.8 in c:\\users\\yessine\\anaconda3\\lib\\site-packages (from tensorboard<2.17,>=2.16->tensorflow-intel==2.16.1->tensorflow) (3.3.4)\n",
      "Requirement already satisfied: pyparsing!=3.0.5,>=2.0.2 in c:\\users\\yessine\\anaconda3\\lib\\site-packages (from packaging->tensorflow-intel==2.16.1->tensorflow) (3.0.9)\n",
      "Collecting markdown-it-py>=2.2.0\n",
      "  Downloading markdown_it_py-3.0.0-py3-none-any.whl (87 kB)\n",
      "     -------------------------------------- 87.5/87.5 kB 449.3 kB/s eta 0:00:00\n",
      "Collecting pygments<3.0.0,>=2.13.0\n",
      "  Downloading pygments-2.17.2-py3-none-any.whl (1.2 MB)\n",
      "     ---------------------------------------- 1.2/1.2 MB 232.5 kB/s eta 0:00:00\n",
      "Collecting mdurl~=0.1\n",
      "  Using cached mdurl-0.1.2-py3-none-any.whl (10.0 kB)\n",
      "Installing collected packages: namex, libclang, flatbuffers, termcolor, tensorflow-io-gcs-filesystem, tensorboard-data-server, pygments, protobuf, optree, numpy, mdurl, grpcio, google-pasta, gast, astunparse, absl-py, tensorboard, opt-einsum, ml-dtypes, markdown-it-py, h5py, rich, keras, tensorflow-intel, tensorflow\n",
      "  Attempting uninstall: pygments\n",
      "    Found existing installation: Pygments 2.11.2\n",
      "    Uninstalling Pygments-2.11.2:\n",
      "      Successfully uninstalled Pygments-2.11.2\n",
      "  Attempting uninstall: numpy\n",
      "    Found existing installation: numpy 1.21.5\n",
      "    Uninstalling numpy-1.21.5:\n",
      "      Successfully uninstalled numpy-1.21.5\n"
     ]
    },
    {
     "name": "stderr",
     "output_type": "stream",
     "text": [
      "ERROR: Could not install packages due to an OSError: [WinError 5] Accès refusé: 'C:\\\\Users\\\\yessine\\\\anaconda3\\\\Lib\\\\site-packages\\\\~umpy\\\\core\\\\_multiarray_tests.cp39-win_amd64.pyd'\n",
      "Consider using the `--user` option or check the permissions.\n",
      "\n"
     ]
    }
   ],
   "source": [
    "pip install tensorflow"
   ]
  },
  {
   "cell_type": "code",
   "execution_count": null,
   "id": "16841988",
   "metadata": {},
   "outputs": [],
   "source": [
    "| Column 1 Header | Column 2 Header | Column 3 Header |\n",
    "|-----------------|-----------------|-----------------|\n",
    "| Row 1, Column 1 | Row 1, Column 2 | Row 1, Column 3 |\n",
    "| Row 2, Column 1 | Row 2, Column 2 | Row 2, Column 3 |\n",
    "| Row 3, Column 1 | Row 3, Column 2 | Row 3, Column 3 |"
   ]
  }
 ],
 "metadata": {
  "kernelspec": {
   "display_name": "Python 3 (ipykernel)",
   "language": "python",
   "name": "python3"
  },
  "language_info": {
   "codemirror_mode": {
    "name": "ipython",
    "version": 3
   },
   "file_extension": ".py",
   "mimetype": "text/x-python",
   "name": "python",
   "nbconvert_exporter": "python",
   "pygments_lexer": "ipython3",
   "version": "3.9.13"
  }
 },
 "nbformat": 4,
 "nbformat_minor": 5
}
